{
 "cells": [
  {
   "cell_type": "code",
   "execution_count": 1,
   "metadata": {},
   "outputs": [],
   "source": [
    "import pandas as pd\n",
    "import numpy as np\n",
    "import os\n",
    "import shutil"
   ]
  },
  {
   "cell_type": "code",
   "execution_count": 5,
   "metadata": {},
   "outputs": [],
   "source": [
    "data_dir = '/media/data2/dataset/SSDD/800/train_rl/480/labels'\n",
    "data_list = os.listdir(data_dir)\n",
    "data_list.sort()\n",
    "save_dir = '/home/cutz/SAR_OD/EfficientObjectDetection/data/800/base_dir_groundtruth'"
   ]
  },
  {
   "cell_type": "code",
   "execution_count": 6,
   "metadata": {},
   "outputs": [],
   "source": [
    "if not os.path.exists(save_dir):\n",
    "    os.makedirs(save_dir)"
   ]
  },
  {
   "cell_type": "code",
   "execution_count": 7,
   "metadata": {},
   "outputs": [],
   "source": [
    "for d in data_list:\n",
    "    src = os.path.join(data_dir, d)\n",
    "    file_name = d[:d.find('.')-2]\n",
    "    \n",
    "    window_num = int(d[d.find('.')-1:d.find('.')])\n",
    "    row = window_num // 2\n",
    "    col = window_num % 2\n",
    "    \n",
    "    new_name = '{}_{}_{}'.format(file_name, row, col)+'.txt'\n",
    "    shutil.copy2(src, os.path.join(save_dir, new_name))\n",
    "        "
   ]
  },
  {
   "cell_type": "code",
   "execution_count": null,
   "metadata": {},
   "outputs": [],
   "source": []
  }
 ],
 "metadata": {
  "kernelspec": {
   "display_name": "Python 3",
   "language": "python",
   "name": "python3"
  },
  "language_info": {
   "codemirror_mode": {
    "name": "ipython",
    "version": 3
   },
   "file_extension": ".py",
   "mimetype": "text/x-python",
   "name": "python",
   "nbconvert_exporter": "python",
   "pygments_lexer": "ipython3",
   "version": "3.7.7"
  }
 },
 "nbformat": 4,
 "nbformat_minor": 4
}
