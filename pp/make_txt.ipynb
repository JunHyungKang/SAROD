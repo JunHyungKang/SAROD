{
 "cells": [
  {
   "cell_type": "code",
   "execution_count": 1,
   "metadata": {},
   "outputs": [],
   "source": [
    "import os\n",
    "import xml.etree.ElementTree as Et"
   ]
  },
  {
   "cell_type": "code",
   "execution_count": 2,
   "metadata": {},
   "outputs": [],
   "source": [
    "data_path = '/media/data2/dataset/SSDD/800/val_rl/xml'\n",
    "save_path = '/media/data2/dataset/SSDD/800/val_rl/labels'\n",
    "yolo_txt_path = '/media/data2/dataset/SSDD/800/val_rl/valid.txt'\n",
    "xml_list = os.listdir(data_path)\n",
    "\n",
    "img_size = 480.0"
   ]
  },
  {
   "cell_type": "code",
   "execution_count": 3,
   "metadata": {},
   "outputs": [],
   "source": [
    "if not os.path.isdir(save_path):\n",
    "    os.makedirs(save_path)"
   ]
  },
  {
   "cell_type": "code",
   "execution_count": 4,
   "metadata": {},
   "outputs": [],
   "source": [
    "img_list = []"
   ]
  },
  {
   "cell_type": "code",
   "execution_count": 5,
   "metadata": {},
   "outputs": [],
   "source": [
    "for xml_path in xml_list:\n",
    "    xpath = os.path.join(data_path, xml_path)\n",
    "    xml = open(xpath, \"r\")\n",
    "    tree = Et.parse(xml)\n",
    "    root = tree.getroot()\n",
    "\n",
    "    bounding_box =[]\n",
    "\n",
    "    objects = root.findall(\"object\")\n",
    "    s_path = os.path.join(save_path, xml_path[:xml_path.find('.')]+'.txt')\n",
    "    f = open(s_path, 'w')\n",
    "    for _object in objects:\n",
    "        name = _object.find(\"name\").text\n",
    "        bndbox = _object.find(\"bndbox\")\n",
    "        xmin = int(bndbox.find(\"xmin\").text)\n",
    "        ymin = int(bndbox.find(\"ymin\").text)\n",
    "        xmax = int(bndbox.find(\"xmax\").text)\n",
    "        ymax = int(bndbox.find(\"ymax\").text)\n",
    "        \n",
    "        label_idx = 0\n",
    "        x_center = (xmax+xmin)/2\n",
    "        y_center = (ymax+ymin)/2\n",
    "        width = (xmax-xmin)\n",
    "        height = (ymax-ymin)\n",
    "        f.write(str(label_idx)+' ')\n",
    "        f.write(str(x_center/img_size)+' ')\n",
    "        f.write(str(y_center/img_size)+' ')\n",
    "        f.write(str(width/img_size)+' ')\n",
    "        f.write(str(height/img_size)+'\\n')\n",
    "    f.close()\n",
    "    \n",
    "    img_list.append(xpath.replace('.xml', '.jpg').replace('xml', 'img'))"
   ]
  },
  {
   "cell_type": "code",
   "execution_count": 6,
   "metadata": {},
   "outputs": [
    {
     "data": {
      "text/plain": [
       "<function TextIOWrapper.close()>"
      ]
     },
     "execution_count": 6,
     "metadata": {},
     "output_type": "execute_result"
    }
   ],
   "source": [
    "f = open(yolo_txt_path, 'w')\n",
    "for t in img_list:\n",
    "    f.write(t+'\\n')\n",
    "f.close"
   ]
  },
  {
   "cell_type": "code",
   "execution_count": 7,
   "metadata": {},
   "outputs": [
    {
     "data": {
      "text/plain": [
       "673"
      ]
     },
     "execution_count": 7,
     "metadata": {},
     "output_type": "execute_result"
    }
   ],
   "source": [
    "len(img_list)"
   ]
  },
  {
   "cell_type": "code",
   "execution_count": null,
   "metadata": {},
   "outputs": [],
   "source": []
  }
 ],
 "metadata": {
  "kernelspec": {
   "display_name": "Python 3",
   "language": "python",
   "name": "python3"
  },
  "language_info": {
   "codemirror_mode": {
    "name": "ipython",
    "version": 3
   },
   "file_extension": ".py",
   "mimetype": "text/x-python",
   "name": "python",
   "nbconvert_exporter": "python",
   "pygments_lexer": "ipython3",
   "version": "3.7.7"
  }
 },
 "nbformat": 4,
 "nbformat_minor": 4
}
