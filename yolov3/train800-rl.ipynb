{
 "cells": [
  {
   "cell_type": "code",
   "execution_count": 12,
   "metadata": {},
   "outputs": [],
   "source": [
    "import os\n",
    "import torch\n",
    "import torch.utils.data as torchdata\n",
    "import torch.nn as nn\n",
    "import torch.nn.functional as F\n",
    "import numpy as np\n",
    "import tqdm\n",
    "import torch.optim as optim\n",
    "import torch.backends.cudnn as cudnn\n",
    "cudnn.benchmark = True\n",
    "import argparse\n",
    "from torch.autograd import Variable\n",
    "# from tensorboard_logger import configure, log_value\n",
    "from torch.distributions import Bernoulli\n",
    "import torchvision.models as torchmodels\n",
    "from utils.rl_datasets import ListDataset\n",
    "\n",
    "# from utils import utils, utils_detector\n",
    "# from constants import base_dir_metric_cd, base_dir_metric_fd\n",
    "# from constants import num_actions"
   ]
  },
  {
   "cell_type": "code",
   "execution_count": 8,
   "metadata": {},
   "outputs": [],
   "source": [
    "num_actions = 9 # num_windows* num_windows\n",
    "num_windows = 3\n",
    "img_size_fd = 420\n",
    "img_size_cd = 96"
   ]
  },
  {
   "cell_type": "code",
   "execution_count": 9,
   "metadata": {},
   "outputs": [],
   "source": [
    "def set_parameter_requires_grad(model, feature_extracting):\n",
    "    # When loading the models, make sure to call this function to update the weights\n",
    "    if feature_extracting:\n",
    "        for param in model.parameters():\n",
    "            param.requires_grad = False"
   ]
  },
  {
   "cell_type": "code",
   "execution_count": 11,
   "metadata": {},
   "outputs": [],
   "source": [
    "# Policy network\n",
    "agent = torchmodels.resnet34(pretrained=True)\n",
    "set_parameter_requires_grad(agent, False)\n",
    "num_ftrs = agent.fc.in_features\n",
    "agent.fc = torch.nn.Linear(num_ftrs, num_actions)"
   ]
  },
  {
   "cell_type": "code",
   "execution_count": null,
   "metadata": {},
   "outputs": [],
   "source": []
  },
  {
   "cell_type": "code",
   "execution_count": null,
   "metadata": {},
   "outputs": [],
   "source": []
  }
 ],
 "metadata": {
  "kernelspec": {
   "display_name": "Python 3",
   "language": "python",
   "name": "python3"
  },
  "language_info": {
   "codemirror_mode": {
    "name": "ipython",
    "version": 3
   },
   "file_extension": ".py",
   "mimetype": "text/x-python",
   "name": "python",
   "nbconvert_exporter": "python",
   "pygments_lexer": "ipython3",
   "version": "3.7.7"
  }
 },
 "nbformat": 4,
 "nbformat_minor": 4
}
