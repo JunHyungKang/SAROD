{
 "cells": [
  {
   "cell_type": "code",
   "execution_count": null,
   "metadata": {},
   "outputs": [
    {
     "name": "stdout",
     "output_type": "stream",
     "text": [
      "GPU device  True\n",
      "GPU device for EfficientOD:  True\n",
      "Scanning labels /home/SSDD/ICIP21_dataset/800_HRSID/split_data_4_80/rl_ver/train\n",
      "Scanning labels /home/SSDD/ICIP21_dataset/800_HRSID/split_data_4_80/rl_ver/train\n",
      "Starting training for 0 epochs...\n",
      "Fine Epoch: [0]  [  0/291]  lr: 0.000022  loss: 2.4550 (2.4550)  loss_classifier: 1.8479 (1.8479)  loss_box_reg: 0.0143 (0.0143)  loss_objectness: 0.4858 (0.4858)  loss_rpn_box_reg: 0.1070 (0.1070)\n",
      "Coarse Epoch: [0]  [  0/291]  lr: 0.000022  loss: 1.2061 (1.2061)  loss_classifier: 0.4396 (0.4396)  loss_box_reg: 0.0059 (0.0059)  loss_objectness: 0.7280 (0.7280)  loss_rpn_box_reg: 0.0326 (0.0326)\n"
     ]
    }
   ],
   "source": [
    "# --split_format '__1__0___0' '__1__0___400' '__1__400___0' '__1__400___400' \\\n",
    "# --split_train_path '/home/SSDD/ICIP21_dataset/800_HRSID/split_data_4_0/rl_ver/sample/images' \\\n",
    "# --split_val_path '/home/SSDD/ICIP21_dataset/800_HRSID/split_data_4_0/rl_ver/sample/images' \\\n",
    "# --split_test_path '/home/SSDD/ICIP21_dataset/800_HRSID/split_data_4_0/rl_ver/sample/images' \\\n",
    "# --original_img_path_train '/home/SSDD/ICIP21_dataset/800_HRSID/origin_data/rl_ver/sample/images' \\\n",
    "# --original_img_path_val '/home/SSDD/ICIP21_dataset/800_HRSID/origin_data/rl_ver/sample/images' \\\n",
    "# --original_img_path_test '/home/SSDD/ICIP21_dataset/800_HRSID/origin_data/rl_ver/sample/images' \\\n",
    "\n",
    "# --split_format '__1__0___0' '__1__0___128' '__1__128___0' '__1__128___128' \\\n",
    "# --split_train_path '/home/SSDD/ICIP21_dataset/256_SAR/split_data_4_0/rl_ver/train/images' \\\n",
    "# --split_val_path '/home/SSDD/ICIP21_dataset/256_SAR/split_data_4_0/rl_ver/val/images' \\\n",
    "# --split_test_path '/home/SSDD/ICIP21_dataset/256_SAR/split_data_4_0/rl_ver/test/images' \\\n",
    "# --original_img_path_train '/home/SSDD/ICIP21_dataset/256_SAR/origin_data/rl_ver/train/images' \\\n",
    "# --original_img_path_val '/home/SSDD/ICIP21_dataset/256_SAR/origin_data/rl_ver/val/images' \\\n",
    "# --original_img_path_test '/home/SSDD/ICIP21_dataset256_SAR/origin_data/rl_ver/test/images' \\\n",
    "\n",
    "# --split_format '__1__0___0' '__1__0___320' '__1__320___0' '__1__320___320' \\\n",
    "# --split_train_path '/home/SSDD/ICIP21_dataset/800_HRSID/split_data_4_80/rl_ver/train/images' \\\n",
    "# --split_val_path '/home/SSDD/ICIP21_dataset/800_HRSID/split_data_4_80/rl_ver/val/images' \\\n",
    "# --split_test_path '/home/SSDD/ICIP21_dataset/800_HRSID/split_data_4_80/rl_ver/test/images' \\\n",
    "# --original_img_path_train '/home/SSDD/ICIP21_dataset/800_HRSID/origin_data/rl_ver/train/images' \\\n",
    "# --original_img_path_val '/home/SSDD/ICIP21_dataset/800_HRSID/origin_data/rl_ver/val/images' \\\n",
    "# --original_img_path_test '/home/SSDD/ICIP21_dataset/800_HRSID/origin_data/rl_ver/test/images' \\\n",
    "\n",
    "!python train.py \\\n",
    "--epochs 100 \\\n",
    "--batch_size 40 \\\n",
    "--RL_batch_size 80 \\\n",
    "--device 1 \\\n",
    "--test_epoch 2 \\\n",
    "--eval_epoch 1 \\\n",
    "--split 4 \\\n",
    "--split_format '__1__0___0' '__1__0___320' '__1__320___0' '__1__320___320' \\\n",
    "--split_train_path '/home/SSDD/ICIP21_dataset/800_HRSID/split_data_4_80/rl_ver/train/images' \\\n",
    "--split_val_path '/home/SSDD/ICIP21_dataset/800_HRSID/split_data_4_80/rl_ver/val/images' \\\n",
    "--split_test_path '/home/SSDD/ICIP21_dataset/800_HRSID/split_data_4_80/rl_ver/test/images' \\\n",
    "--original_img_path_train '/home/SSDD/ICIP21_dataset/800_HRSID/origin_data/rl_ver/train/images' \\\n",
    "--original_img_path_val '/home/SSDD/ICIP21_dataset/800_HRSID/origin_data/rl_ver/val/images' \\\n",
    "--original_img_path_test '/home/SSDD/ICIP21_dataset/800_HRSID/origin_data/rl_ver/test/images' \\\n",
    "--fine_img_size 480 \\\n",
    "--coarse_img_size 96 \\\n",
    "--model faster_rcnn \\\n",
    "--RL_train_start_epoch 0 \\\n",
    "--save_path faster_800_4_80"
   ]
  },
  {
   "cell_type": "code",
   "execution_count": null,
   "metadata": {},
   "outputs": [],
   "source": []
  }
 ],
 "metadata": {
  "kernelspec": {
   "display_name": "Python 3",
   "language": "python",
   "name": "python3"
  },
  "language_info": {
   "codemirror_mode": {
    "name": "ipython",
    "version": 2
   },
   "file_extension": ".py",
   "mimetype": "text/x-python",
   "name": "python",
   "nbconvert_exporter": "python",
   "pygments_lexer": "ipython2",
   "version": "2.7.12"
  }
 },
 "nbformat": 4,
 "nbformat_minor": 2
}
