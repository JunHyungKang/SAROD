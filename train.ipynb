{
 "cells": [
  {
   "cell_type": "code",
   "execution_count": 1,
   "metadata": {},
   "outputs": [],
   "source": [
    "# import easydict\n",
    "from multiprocessing import Process\n",
    "import yaml\n",
    "from pathlib import Path\n",
    "import argparse\n",
    "import torch\n",
    "import tqdm\n",
    "import numpy as np\n",
    "\n",
    "from yolov5.train_dt import yolov5\n",
    "from EfficientObjectDetection.train_new_reward import EfficientOD\n",
    "from utils import load_filenames, load_dataset, load_dataloader, compute_map"
   ]
  },
  {
   "cell_type": "code",
   "execution_count": 2,
   "metadata": {},
   "outputs": [],
   "source": [
    "import munch"
   ]
  },
  {
   "cell_type": "code",
   "execution_count": 3,
   "metadata": {},
   "outputs": [],
   "source": [
    "opt = {'epochs':100,\n",
    "      'batch_size':24,\n",
    "      'device':2,\n",
    "      'test_epoch':10,\n",
    "      'eval_epoch':2,\n",
    "      'step_batch_size':100,\n",
    "      'save_path':'save',\n",
    "      'rl_weight':None,\n",
    "      'h_detector_weight':'',\n",
    "      'l_detector_weight':'',\n",
    "      'fine_tr':'config/fine_tr.yaml',\n",
    "      'fine_eval':'config/fine_eval.yaml',\n",
    "      'coarse_tr':'config/coarse_tr.yaml',\n",
    "      'coarse_eval':'config/coarse_eval.yaml',\n",
    "      'EfficientOD':'config/EfficientOD.yaml'}\n",
    "\n",
    "opt = munch.AutoMunch(opt)"
   ]
  },
  {
   "cell_type": "code",
   "execution_count": 4,
   "metadata": {},
   "outputs": [],
   "source": [
    "# training option load from yaml files\n",
    "with open(opt.fine_tr) as f:\n",
    "    fine_tr = yaml.load(f, Loader=yaml.FullLoader)\n",
    "with open(opt.fine_eval) as f:\n",
    "    fine_eval = yaml.load(f, Loader=yaml.FullLoader)\n",
    "with open(opt.coarse_tr) as f:\n",
    "    coarse_tr = yaml.load(f, Loader=yaml.FullLoader)\n",
    "with open(opt.coarse_eval) as f:\n",
    "    coarse_eval = yaml.load(f, Loader=yaml.FullLoader)\n",
    "with open(opt.EfficientOD) as f:\n",
    "    efficient_config = yaml.load(f, Loader=yaml.FullLoader)"
   ]
  },
  {
   "cell_type": "code",
   "execution_count": 5,
   "metadata": {},
   "outputs": [],
   "source": [
    "efficient_config['load'] = None"
   ]
  },
  {
   "cell_type": "code",
   "execution_count": 6,
   "metadata": {
    "scrolled": true
   },
   "outputs": [
    {
     "name": "stdout",
     "output_type": "stream",
     "text": [
      "\n",
      "                 from  n    params  module                                  arguments                     \n",
      "  0                -1  1      8800  yolov5.models.common.Focus              [3, 80, 3]                    \n",
      "  1                -1  1    115520  yolov5.models.common.Conv               [80, 160, 3, 2]               \n",
      "  2                -1  1    315680  yolov5.models.common.BottleneckCSP      [160, 160, 4]                 \n",
      "  3                -1  1    461440  yolov5.models.common.Conv               [160, 320, 3, 2]              \n",
      "  4                -1  1   3311680  yolov5.models.common.BottleneckCSP      [320, 320, 12]                \n",
      "  5                -1  1   1844480  yolov5.models.common.Conv               [320, 640, 3, 2]              \n",
      "  6                -1  1  13228160  yolov5.models.common.BottleneckCSP      [640, 640, 12]                \n",
      "  7                -1  1   7375360  yolov5.models.common.Conv               [640, 1280, 3, 2]             \n",
      "  8                -1  1   4099840  yolov5.models.common.SPP                [1280, 1280, [5, 9, 13]]      \n",
      "  9                -1  1  20087040  yolov5.models.common.BottleneckCSP      [1280, 1280, 4, False]        \n",
      " 10                -1  1    820480  yolov5.models.common.Conv               [1280, 640, 1, 1]             \n",
      " 11                -1  1         0  torch.nn.modules.upsampling.Upsample    [None, 2, 'nearest']          \n",
      " 12           [-1, 6]  1         0  yolov5.models.common.Concat             [1]                           \n",
      " 13                -1  1   5435520  yolov5.models.common.BottleneckCSP      [1280, 640, 4, False]         \n",
      " 14                -1  1    205440  yolov5.models.common.Conv               [640, 320, 1, 1]              \n",
      " 15                -1  1         0  torch.nn.modules.upsampling.Upsample    [None, 2, 'nearest']          \n",
      " 16           [-1, 4]  1         0  yolov5.models.common.Concat             [1]                           \n",
      " 17                -1  1   1360960  yolov5.models.common.BottleneckCSP      [640, 320, 4, False]          \n",
      " 18                -1  1    922240  yolov5.models.common.Conv               [320, 320, 3, 2]              \n",
      " 19          [-1, 14]  1         0  yolov5.models.common.Concat             [1]                           \n",
      " 20                -1  1   5025920  yolov5.models.common.BottleneckCSP      [640, 640, 4, False]          \n",
      " 21                -1  1   3687680  yolov5.models.common.Conv               [640, 640, 3, 2]              \n",
      " 22          [-1, 10]  1         0  yolov5.models.common.Concat             [1]                           \n",
      " 23                -1  1  20087040  yolov5.models.common.BottleneckCSP      [1280, 1280, 4, False]        \n",
      " 24      [17, 20, 23]  1     40374  yolov5.models.yolo.Detect               [1, [[10, 13, 16, 30, 33, 23], [30, 61, 62, 45, 59, 119], [116, 90, 156, 198, 373, 326]], [320, 640, 1280]]\n",
      "\n",
      "Optimizer groups: 134 .bias, 142 conv.weight, 131 other\n",
      "\n",
      "                 from  n    params  module                                  arguments                     \n",
      "  0                -1  1      8800  yolov5.models.common.Focus              [3, 80, 3]                    \n",
      "  1                -1  1    115520  yolov5.models.common.Conv               [80, 160, 3, 2]               \n",
      "  2                -1  1    315680  yolov5.models.common.BottleneckCSP      [160, 160, 4]                 \n",
      "  3                -1  1    461440  yolov5.models.common.Conv               [160, 320, 3, 2]              \n",
      "  4                -1  1   3311680  yolov5.models.common.BottleneckCSP      [320, 320, 12]                \n",
      "  5                -1  1   1844480  yolov5.models.common.Conv               [320, 640, 3, 2]              \n",
      "  6                -1  1  13228160  yolov5.models.common.BottleneckCSP      [640, 640, 12]                \n",
      "  7                -1  1   7375360  yolov5.models.common.Conv               [640, 1280, 3, 2]             \n",
      "  8                -1  1   4099840  yolov5.models.common.SPP                [1280, 1280, [5, 9, 13]]      \n",
      "  9                -1  1  20087040  yolov5.models.common.BottleneckCSP      [1280, 1280, 4, False]        \n",
      " 10                -1  1    820480  yolov5.models.common.Conv               [1280, 640, 1, 1]             \n",
      " 11                -1  1         0  torch.nn.modules.upsampling.Upsample    [None, 2, 'nearest']          \n",
      " 12           [-1, 6]  1         0  yolov5.models.common.Concat             [1]                           \n",
      " 13                -1  1   5435520  yolov5.models.common.BottleneckCSP      [1280, 640, 4, False]         \n",
      " 14                -1  1    205440  yolov5.models.common.Conv               [640, 320, 1, 1]              \n",
      " 15                -1  1         0  torch.nn.modules.upsampling.Upsample    [None, 2, 'nearest']          \n",
      " 16           [-1, 4]  1         0  yolov5.models.common.Concat             [1]                           \n",
      " 17                -1  1   1360960  yolov5.models.common.BottleneckCSP      [640, 320, 4, False]          \n",
      " 18                -1  1    922240  yolov5.models.common.Conv               [320, 320, 3, 2]              \n",
      " 19          [-1, 14]  1         0  yolov5.models.common.Concat             [1]                           \n",
      " 20                -1  1   5025920  yolov5.models.common.BottleneckCSP      [640, 640, 4, False]          \n",
      " 21                -1  1   3687680  yolov5.models.common.Conv               [640, 640, 3, 2]              \n",
      " 22          [-1, 10]  1         0  yolov5.models.common.Concat             [1]                           \n",
      " 23                -1  1  20087040  yolov5.models.common.BottleneckCSP      [1280, 1280, 4, False]        \n",
      " 24      [17, 20, 23]  1     40374  yolov5.models.yolo.Detect               [1, [[10, 13, 16, 30, 33, 23], [30, 61, 62, 45, 59, 119], [116, 90, 156, 198, 373, 326]], [320, 640, 1280]]\n",
      "\n",
      "Optimizer groups: 134 .bias, 142 conv.weight, 131 other\n",
      "GPU device for EfficientOD:  True\n"
     ]
    }
   ],
   "source": [
    "epochs = opt.epochs\n",
    "bs = opt.batch_size\n",
    "fine_detector = yolov5(fine_tr, fine_eval, epochs, bs)\n",
    "coarse_detector = yolov5(coarse_tr, coarse_eval, epochs, bs)\n",
    "rl_agent = EfficientOD(efficient_config)"
   ]
  },
  {
   "cell_type": "code",
   "execution_count": 7,
   "metadata": {
    "scrolled": true
   },
   "outputs": [],
   "source": [
    "split_train_path = '/home/SSDD/ICIP21_dataset/split_data_4_0/rl_ver/test/images'\n",
    "split_val_path = '/home/SSDD/ICIP21_dataset/split_data_4_0/rl_ver/test/images'\n",
    "split_test_path = '/home/SSDD/ICIP21_dataset/split_data_4_0/rl_ver/test/images'\n",
    "split = 4\n",
    "\n",
    "original_img_path = '/home/SSDD/ICIP21_dataset/origin_data/rl_ver/test/images'\n",
    "\n",
    "assert bs % split == 0, 'batch size should be divided with image split patch size'\n"
   ]
  },
  {
   "cell_type": "code",
   "execution_count": 8,
   "metadata": {
    "scrolled": true
   },
   "outputs": [
    {
     "name": "stderr",
     "output_type": "stream",
     "text": [
      "Scanning images: 100%|██████████| 7848/7848 [00:05<00:00, 1366.66it/s]\n",
      "Scanning labels /home/SSDD/ICIP21_dataset/split_data_4_0/rl_ver/test/yolov5_txt.cache (3556 found, 0 missing, 4292 empty, 0 duplicate, for 7848 images): 100%|██████████| 7848/7848 [00:00<00:00, 32546.81it/s]\n",
      "Scanning labels /home/SSDD/ICIP21_dataset/split_data_4_0/rl_ver/test/yolov5_txt.cache (3556 found, 0 missing, 4292 empty, 0 duplicate, for 7848 images): 100%|██████████| 7848/7848 [00:00<00:00, 33091.16it/s]\n",
      "  0%|          | 0/327 [00:00<?, ?it/s]"
     ]
    },
    {
     "name": "stdout",
     "output_type": "stream",
     "text": [
      "Image sizes 480 train, 480 test\n",
      "Starting training for 0 epochs...\n",
      "Image sizes 96 train, 96 test\n",
      "Starting training for 0 epochs...\n",
      "(0,)\n",
      "(0,)\n",
      "(1,)\n",
      "(1,)\n",
      "(1,)\n",
      "(0,)\n",
      "(0,)\n",
      "(0,)\n",
      "(1,)\n",
      "(1,)\n",
      "(1,)\n",
      "(2,)\n",
      "(0,)\n",
      "(0,)\n",
      "(1,)\n",
      "(0,)\n",
      "(0,)\n",
      "(2,)\n",
      "(0,)\n",
      "(5,)\n",
      "(1,)\n",
      "(0,)\n",
      "(0,)\n",
      "(0,)\n"
     ]
    },
    {
     "name": "stderr",
     "output_type": "stream",
     "text": [
      "  0%|          | 0/327 [00:11<?, ?it/s]"
     ]
    },
    {
     "name": "stdout",
     "output_type": "stream",
     "text": [
      "(0,)\n",
      "(0,)\n",
      "(1,)\n",
      "(1,)\n",
      "(1,)\n",
      "(0,)\n",
      "(0,)\n",
      "(0,)\n",
      "(1,)\n",
      "(1,)\n",
      "(1,)\n",
      "(2,)\n",
      "(0,)\n",
      "(0,)\n",
      "(1,)\n",
      "(0,)\n",
      "(0,)\n",
      "(2,)\n",
      "(0,)\n",
      "(5,)\n",
      "(1,)\n",
      "(0,)\n",
      "(0,)\n",
      "(0,)\n"
     ]
    },
    {
     "name": "stderr",
     "output_type": "stream",
     "text": [
      "\n",
      "100%|██████████| 82/82 [00:55<00:00,  1.46it/s]\n",
      "Scanning images: 100%|██████████| 4706/4706 [00:03<00:00, 1413.68it/s]\n",
      "Scanning labels /home/SSDD/ICIP21_dataset/split_data_4_0/rl_ver/test/yolov5_txt.cache (2122 found, 0 missing, 2584 empty, 0 duplicate, for 4706 images): 100%|██████████| 4706/4706 [00:00<00:00, 33813.21it/s]\n",
      "Scanning images: 100%|██████████| 3142/3142 [00:02<00:00, 1410.83it/s]\n",
      "Scanning labels /home/SSDD/ICIP21_dataset/split_data_4_0/rl_ver/test/yolov5_txt.cache (1434 found, 0 missing, 1708 empty, 0 duplicate, for 3142 images): 100%|██████████| 3142/3142 [00:00<00:00, 33223.68it/s]\n",
      "  1%|          | 1/197 [00:00<02:56,  1.11it/s]"
     ]
    },
    {
     "name": "stdout",
     "output_type": "stream",
     "text": [
      "(1,)\n",
      "(1,)\n",
      "(0,)\n",
      "(2,)\n",
      "(0,)\n",
      "(0,)\n",
      "(1,)\n",
      "(1,)\n",
      "(0,)\n",
      "(0,)\n",
      "(0,)\n",
      "(4,)\n",
      "(0,)\n",
      "(1,)\n",
      "(0,)\n",
      "(1,)\n",
      "(0,)\n",
      "(2,)\n",
      "(1,)\n",
      "(1,)\n",
      "(1,)\n",
      "(1,)\n",
      "(0,)\n",
      "(0,)\n"
     ]
    },
    {
     "name": "stderr",
     "output_type": "stream",
     "text": [
      "  1%|          | 2/197 [00:01<02:29,  1.31it/s]"
     ]
    },
    {
     "name": "stdout",
     "output_type": "stream",
     "text": [
      "(0,)\n",
      "(1,)\n",
      "(0,)\n",
      "(0,)\n",
      "(0,)\n",
      "(0,)\n",
      "(1,)\n",
      "(1,)\n",
      "(1,)\n",
      "(0,)\n",
      "(0,)\n",
      "(2,)\n",
      "(1,)\n",
      "(0,)\n",
      "(2,)\n",
      "(1,)\n",
      "(0,)\n",
      "(0,)\n",
      "(1,)\n",
      "(1,)\n",
      "(1,)\n",
      "(1,)\n",
      "(1,)\n",
      "(0,)\n"
     ]
    },
    {
     "name": "stderr",
     "output_type": "stream",
     "text": [
      "  2%|▏         | 3/197 [00:01<02:09,  1.50it/s]"
     ]
    },
    {
     "name": "stdout",
     "output_type": "stream",
     "text": [
      "(0,)\n",
      "(2,)\n",
      "(0,)\n",
      "(3,)\n",
      "(0,)\n",
      "(0,)\n",
      "(1,)\n",
      "(0,)\n",
      "(1,)\n",
      "(0,)\n",
      "(0,)\n",
      "(0,)\n",
      "(0,)\n",
      "(1,)\n",
      "(0,)\n",
      "(1,)\n",
      "(0,)\n",
      "(1,)\n",
      "(0,)\n",
      "(1,)\n",
      "(0,)\n",
      "(0,)\n",
      "(1,)\n",
      "(0,)\n"
     ]
    },
    {
     "name": "stderr",
     "output_type": "stream",
     "text": [
      "  2%|▏         | 4/197 [00:02<01:55,  1.67it/s]"
     ]
    },
    {
     "name": "stdout",
     "output_type": "stream",
     "text": [
      "(1,)\n",
      "(0,)\n",
      "(0,)\n",
      "(0,)\n",
      "(0,)\n",
      "(0,)\n",
      "(1,)\n",
      "(0,)\n",
      "(0,)\n",
      "(0,)\n",
      "(0,)\n",
      "(1,)\n",
      "(0,)\n",
      "(0,)\n",
      "(0,)\n",
      "(1,)\n",
      "(1,)\n",
      "(3,)\n",
      "(1,)\n",
      "(0,)\n",
      "(0,)\n",
      "(1,)\n",
      "(1,)\n",
      "(0,)\n"
     ]
    },
    {
     "name": "stderr",
     "output_type": "stream",
     "text": [
      "  3%|▎         | 5/197 [00:02<01:45,  1.82it/s]"
     ]
    },
    {
     "name": "stdout",
     "output_type": "stream",
     "text": [
      "(0,)\n",
      "(0,)\n",
      "(0,)\n",
      "(1,)\n",
      "(1,)\n",
      "(1,)\n",
      "(0,)\n",
      "(1,)\n",
      "(0,)\n",
      "(0,)\n",
      "(0,)\n",
      "(0,)\n",
      "(1,)\n",
      "(2,)\n",
      "(0,)\n",
      "(1,)\n",
      "(1,)\n",
      "(0,)\n",
      "(0,)\n",
      "(0,)\n",
      "(0,)\n",
      "(0,)\n",
      "(0,)\n",
      "(1,)\n"
     ]
    },
    {
     "name": "stderr",
     "output_type": "stream",
     "text": [
      "  3%|▎         | 6/197 [00:03<01:38,  1.93it/s]"
     ]
    },
    {
     "name": "stdout",
     "output_type": "stream",
     "text": [
      "(2,)\n",
      "(0,)\n",
      "(0,)\n",
      "(1,)\n",
      "(1,)\n",
      "(0,)\n",
      "(0,)\n",
      "(0,)\n",
      "(0,)\n",
      "(1,)\n",
      "(0,)\n",
      "(0,)\n",
      "(0,)\n",
      "(0,)\n",
      "(1,)\n",
      "(1,)\n",
      "(0,)\n",
      "(0,)\n",
      "(1,)\n",
      "(2,)\n",
      "(1,)\n",
      "(0,)\n",
      "(0,)\n",
      "(1,)\n"
     ]
    },
    {
     "name": "stderr",
     "output_type": "stream",
     "text": [
      "  4%|▎         | 7/197 [00:03<01:33,  2.03it/s]"
     ]
    },
    {
     "name": "stdout",
     "output_type": "stream",
     "text": [
      "(0,)\n",
      "(1,)\n",
      "(0,)\n",
      "(0,)\n",
      "(0,)\n",
      "(0,)\n",
      "(1,)\n",
      "(0,)\n",
      "(0,)\n",
      "(0,)\n",
      "(0,)\n",
      "(0,)\n",
      "(0,)\n",
      "(0,)\n",
      "(0,)\n",
      "(1,)\n",
      "(2,)\n",
      "(13,)\n",
      "(0,)\n",
      "(3,)\n",
      "(0,)\n",
      "(1,)\n",
      "(0,)\n",
      "(0,)\n"
     ]
    },
    {
     "name": "stderr",
     "output_type": "stream",
     "text": [
      "  4%|▍         | 8/197 [00:03<01:29,  2.10it/s]"
     ]
    },
    {
     "name": "stdout",
     "output_type": "stream",
     "text": [
      "(1,)\n",
      "(0,)\n",
      "(1,)\n",
      "(0,)\n",
      "(0,)\n",
      "(1,)\n",
      "(0,)\n",
      "(0,)\n",
      "(1,)\n",
      "(0,)\n",
      "(1,)\n",
      "(0,)\n",
      "(0,)\n",
      "(0,)\n",
      "(1,)\n",
      "(0,)\n",
      "(1,)\n",
      "(1,)\n",
      "(1,)\n",
      "(0,)\n",
      "(1,)\n",
      "(0,)\n",
      "(0,)\n",
      "(0,)\n"
     ]
    },
    {
     "name": "stderr",
     "output_type": "stream",
     "text": [
      "  5%|▍         | 9/197 [00:04<01:27,  2.14it/s]"
     ]
    },
    {
     "name": "stdout",
     "output_type": "stream",
     "text": [
      "(1,)\n",
      "(1,)\n",
      "(0,)\n",
      "(1,)\n",
      "(0,)\n",
      "(0,)\n",
      "(0,)\n",
      "(2,)\n",
      "(1,)\n",
      "(0,)\n",
      "(1,)\n",
      "(1,)\n",
      "(1,)\n",
      "(4,)\n",
      "(0,)\n",
      "(1,)\n",
      "(1,)\n",
      "(0,)\n",
      "(0,)\n",
      "(1,)\n",
      "(1,)\n",
      "(0,)\n",
      "(1,)\n",
      "(1,)\n"
     ]
    },
    {
     "name": "stderr",
     "output_type": "stream",
     "text": [
      "  5%|▌         | 10/197 [00:04<01:25,  2.18it/s]"
     ]
    },
    {
     "name": "stdout",
     "output_type": "stream",
     "text": [
      "(0,)\n",
      "(0,)\n",
      "(0,)\n",
      "(0,)\n",
      "(0,)\n",
      "(1,)\n",
      "(1,)\n",
      "(0,)\n",
      "(0,)\n",
      "(0,)\n",
      "(0,)\n",
      "(1,)\n",
      "(0,)\n",
      "(0,)\n",
      "(1,)\n",
      "(2,)\n",
      "(1,)\n",
      "(0,)\n",
      "(0,)\n",
      "(0,)\n",
      "(0,)\n",
      "(1,)\n",
      "(0,)\n",
      "(1,)\n"
     ]
    },
    {
     "name": "stderr",
     "output_type": "stream",
     "text": [
      "  6%|▌         | 11/197 [00:05<01:24,  2.21it/s]"
     ]
    },
    {
     "name": "stdout",
     "output_type": "stream",
     "text": [
      "(0,)\n",
      "(1,)\n",
      "(0,)\n",
      "(0,)\n",
      "(0,)\n",
      "(1,)\n",
      "(0,)\n",
      "(0,)\n",
      "(1,)\n",
      "(0,)\n",
      "(1,)\n",
      "(1,)\n",
      "(0,)\n",
      "(1,)\n",
      "(1,)\n",
      "(0,)\n",
      "(0,)\n",
      "(1,)\n",
      "(0,)\n",
      "(0,)\n",
      "(1,)\n",
      "(2,)\n",
      "(0,)\n",
      "(0,)\n"
     ]
    },
    {
     "name": "stderr",
     "output_type": "stream",
     "text": [
      "  6%|▌         | 12/197 [00:05<01:22,  2.23it/s]"
     ]
    },
    {
     "name": "stdout",
     "output_type": "stream",
     "text": [
      "(1,)\n",
      "(1,)\n",
      "(0,)\n",
      "(0,)\n",
      "(0,)\n",
      "(0,)\n",
      "(1,)\n",
      "(0,)\n",
      "(0,)\n",
      "(1,)\n",
      "(0,)\n",
      "(0,)\n",
      "(0,)\n",
      "(0,)\n",
      "(1,)\n",
      "(2,)\n",
      "(0,)\n",
      "(1,)\n",
      "(7,)\n",
      "(0,)\n",
      "(9,)\n",
      "(0,)\n",
      "(0,)\n",
      "(6,)\n"
     ]
    },
    {
     "name": "stderr",
     "output_type": "stream",
     "text": [
      "  7%|▋         | 13/197 [00:06<01:21,  2.25it/s]"
     ]
    },
    {
     "name": "stdout",
     "output_type": "stream",
     "text": [
      "(0,)\n",
      "(1,)\n",
      "(0,)\n",
      "(1,)\n",
      "(4,)\n",
      "(2,)\n",
      "(0,)\n",
      "(1,)\n",
      "(1,)\n",
      "(0,)\n",
      "(1,)\n",
      "(0,)\n",
      "(1,)\n",
      "(1,)\n",
      "(0,)\n",
      "(0,)\n",
      "(0,)\n",
      "(0,)\n",
      "(0,)\n",
      "(0,)\n",
      "(0,)\n",
      "(0,)\n",
      "(0,)\n",
      "(1,)\n"
     ]
    },
    {
     "name": "stderr",
     "output_type": "stream",
     "text": [
      "  7%|▋         | 14/197 [00:06<01:20,  2.26it/s]"
     ]
    },
    {
     "name": "stdout",
     "output_type": "stream",
     "text": [
      "(0,)\n",
      "(1,)\n",
      "(0,)\n",
      "(1,)\n",
      "(0,)\n",
      "(0,)\n",
      "(0,)\n",
      "(0,)\n",
      "(0,)\n",
      "(0,)\n",
      "(0,)\n",
      "(1,)\n",
      "(0,)\n",
      "(0,)\n",
      "(1,)\n",
      "(0,)\n",
      "(3,)\n",
      "(0,)\n",
      "(1,)\n",
      "(0,)\n",
      "(0,)\n",
      "(0,)\n",
      "(0,)\n",
      "(0,)\n"
     ]
    },
    {
     "name": "stderr",
     "output_type": "stream",
     "text": [
      "  8%|▊         | 15/197 [00:07<01:20,  2.26it/s]"
     ]
    },
    {
     "name": "stdout",
     "output_type": "stream",
     "text": [
      "(1,)\n",
      "(0,)\n",
      "(1,)\n",
      "(0,)\n",
      "(0,)\n",
      "(1,)\n",
      "(0,)\n",
      "(1,)\n",
      "(0,)\n",
      "(1,)\n",
      "(1,)\n",
      "(1,)\n",
      "(1,)\n",
      "(1,)\n",
      "(1,)\n",
      "(0,)\n",
      "(1,)\n",
      "(0,)\n",
      "(0,)\n",
      "(0,)\n",
      "(1,)\n",
      "(0,)\n",
      "(1,)\n",
      "(1,)\n"
     ]
    },
    {
     "name": "stderr",
     "output_type": "stream",
     "text": [
      "  8%|▊         | 16/197 [00:07<01:19,  2.27it/s]"
     ]
    },
    {
     "name": "stdout",
     "output_type": "stream",
     "text": [
      "(0,)\n",
      "(0,)\n",
      "(1,)\n",
      "(0,)\n",
      "(0,)\n",
      "(0,)\n",
      "(2,)\n",
      "(1,)\n",
      "(2,)\n",
      "(2,)\n",
      "(0,)\n",
      "(0,)\n",
      "(0,)\n",
      "(2,)\n",
      "(1,)\n",
      "(0,)\n",
      "(0,)\n",
      "(1,)\n",
      "(0,)\n",
      "(1,)\n",
      "(0,)\n",
      "(1,)\n",
      "(0,)\n",
      "(0,)\n"
     ]
    },
    {
     "name": "stderr",
     "output_type": "stream",
     "text": [
      "  9%|▊         | 17/197 [00:07<01:19,  2.26it/s]"
     ]
    },
    {
     "name": "stdout",
     "output_type": "stream",
     "text": [
      "(1,)\n",
      "(1,)\n",
      "(1,)\n",
      "(0,)\n",
      "(0,)\n",
      "(0,)\n",
      "(0,)\n",
      "(1,)\n",
      "(0,)\n",
      "(0,)\n",
      "(0,)\n",
      "(0,)\n",
      "(1,)\n",
      "(0,)\n",
      "(0,)\n",
      "(1,)\n",
      "(0,)\n",
      "(2,)\n",
      "(1,)\n",
      "(1,)\n",
      "(1,)\n",
      "(1,)\n",
      "(0,)\n",
      "(1,)\n"
     ]
    },
    {
     "name": "stderr",
     "output_type": "stream",
     "text": [
      "  9%|▉         | 18/197 [00:08<01:18,  2.27it/s]"
     ]
    },
    {
     "name": "stdout",
     "output_type": "stream",
     "text": [
      "(0,)\n",
      "(1,)\n",
      "(0,)\n",
      "(0,)\n",
      "(0,)\n",
      "(2,)\n",
      "(1,)\n",
      "(0,)\n",
      "(0,)\n",
      "(1,)\n",
      "(0,)\n",
      "(1,)\n",
      "(0,)\n",
      "(1,)\n",
      "(0,)\n",
      "(0,)\n",
      "(1,)\n",
      "(0,)\n",
      "(1,)\n",
      "(0,)\n",
      "(0,)\n",
      "(1,)\n",
      "(1,)\n",
      "(0,)\n"
     ]
    },
    {
     "name": "stderr",
     "output_type": "stream",
     "text": [
      " 10%|▉         | 19/197 [00:08<01:18,  2.27it/s]"
     ]
    },
    {
     "name": "stdout",
     "output_type": "stream",
     "text": [
      "(1,)\n",
      "(0,)\n",
      "(0,)\n",
      "(1,)\n",
      "(1,)\n",
      "(0,)\n",
      "(0,)\n",
      "(0,)\n",
      "(1,)\n",
      "(1,)\n",
      "(1,)\n",
      "(0,)\n",
      "(1,)\n",
      "(1,)\n",
      "(0,)\n",
      "(1,)\n",
      "(0,)\n",
      "(1,)\n",
      "(0,)\n",
      "(0,)\n",
      "(1,)\n",
      "(0,)\n",
      "(1,)\n",
      "(0,)\n"
     ]
    },
    {
     "name": "stderr",
     "output_type": "stream",
     "text": [
      " 10%|█         | 20/197 [00:09<01:19,  2.24it/s]"
     ]
    },
    {
     "name": "stdout",
     "output_type": "stream",
     "text": [
      "(1,)\n",
      "(0,)\n",
      "(0,)\n",
      "(1,)\n",
      "(1,)\n",
      "(1,)\n",
      "(1,)\n",
      "(0,)\n",
      "(0,)\n",
      "(0,)\n",
      "(1,)\n",
      "(0,)\n",
      "(1,)\n",
      "(0,)\n",
      "(0,)\n",
      "(1,)\n",
      "(0,)\n",
      "(0,)\n",
      "(0,)\n",
      "(0,)\n",
      "(0,)\n",
      "(1,)\n",
      "(1,)\n",
      "(0,)\n"
     ]
    },
    {
     "name": "stderr",
     "output_type": "stream",
     "text": [
      " 11%|█         | 21/197 [00:09<01:18,  2.25it/s]"
     ]
    },
    {
     "name": "stdout",
     "output_type": "stream",
     "text": [
      "(1,)\n",
      "(0,)\n",
      "(1,)\n",
      "(0,)\n",
      "(0,)\n",
      "(0,)\n",
      "(0,)\n",
      "(1,)\n",
      "(0,)\n",
      "(1,)\n",
      "(0,)\n",
      "(1,)\n",
      "(0,)\n",
      "(0,)\n",
      "(0,)\n",
      "(0,)\n",
      "(1,)\n",
      "(2,)\n",
      "(1,)\n",
      "(0,)\n",
      "(0,)\n",
      "(0,)\n",
      "(0,)\n",
      "(0,)\n"
     ]
    },
    {
     "name": "stderr",
     "output_type": "stream",
     "text": [
      " 11%|█         | 22/197 [00:10<01:17,  2.25it/s]"
     ]
    },
    {
     "name": "stdout",
     "output_type": "stream",
     "text": [
      "(2,)\n",
      "(0,)\n",
      "(0,)\n",
      "(0,)\n",
      "(1,)\n",
      "(0,)\n",
      "(1,)\n",
      "(1,)\n",
      "(1,)\n",
      "(0,)\n",
      "(0,)\n",
      "(0,)\n",
      "(1,)\n",
      "(1,)\n",
      "(0,)\n",
      "(1,)\n",
      "(2,)\n",
      "(0,)\n",
      "(1,)\n",
      "(0,)\n",
      "(0,)\n",
      "(1,)\n",
      "(1,)\n",
      "(0,)\n"
     ]
    },
    {
     "name": "stderr",
     "output_type": "stream",
     "text": [
      " 12%|█▏        | 23/197 [00:10<01:18,  2.22it/s]"
     ]
    },
    {
     "name": "stdout",
     "output_type": "stream",
     "text": [
      "(1,)\n",
      "(0,)\n",
      "(1,)\n",
      "(0,)\n",
      "(0,)\n",
      "(1,)\n",
      "(1,)\n",
      "(1,)\n",
      "(0,)\n",
      "(1,)\n",
      "(1,)\n",
      "(0,)\n",
      "(1,)\n",
      "(0,)\n",
      "(1,)\n",
      "(0,)\n",
      "(0,)\n",
      "(1,)\n",
      "(1,)\n",
      "(0,)\n",
      "(0,)\n",
      "(1,)\n",
      "(0,)\n",
      "(1,)\n"
     ]
    },
    {
     "name": "stderr",
     "output_type": "stream",
     "text": [
      " 12%|█▏        | 24/197 [00:11<01:17,  2.22it/s]"
     ]
    },
    {
     "name": "stdout",
     "output_type": "stream",
     "text": [
      "(1,)\n",
      "(1,)\n",
      "(0,)\n",
      "(0,)\n",
      "(1,)\n",
      "(0,)\n",
      "(0,)\n",
      "(0,)\n",
      "(0,)\n",
      "(0,)\n",
      "(1,)\n",
      "(0,)\n",
      "(1,)\n",
      "(0,)\n",
      "(1,)\n",
      "(0,)\n",
      "(0,)\n",
      "(0,)\n",
      "(0,)\n",
      "(1,)\n",
      "(0,)\n",
      "(1,)\n",
      "(0,)\n",
      "(1,)\n"
     ]
    },
    {
     "name": "stderr",
     "output_type": "stream",
     "text": [
      " 13%|█▎        | 25/197 [00:11<01:17,  2.23it/s]"
     ]
    },
    {
     "name": "stdout",
     "output_type": "stream",
     "text": [
      "(0,)\n",
      "(1,)\n",
      "(0,)\n",
      "(1,)\n",
      "(0,)\n",
      "(0,)\n",
      "(0,)\n",
      "(0,)\n",
      "(1,)\n",
      "(0,)\n",
      "(0,)\n",
      "(1,)\n",
      "(0,)\n",
      "(0,)\n",
      "(0,)\n",
      "(0,)\n",
      "(0,)\n",
      "(1,)\n",
      "(0,)\n",
      "(0,)\n",
      "(0,)\n",
      "(1,)\n",
      "(1,)\n",
      "(1,)\n"
     ]
    },
    {
     "name": "stderr",
     "output_type": "stream",
     "text": [
      " 13%|█▎        | 26/197 [00:11<01:16,  2.25it/s]"
     ]
    },
    {
     "name": "stdout",
     "output_type": "stream",
     "text": [
      "(0,)\n",
      "(0,)\n",
      "(0,)\n",
      "(0,)\n",
      "(1,)\n",
      "(0,)\n",
      "(1,)\n",
      "(1,)\n",
      "(0,)\n",
      "(1,)\n",
      "(0,)\n",
      "(0,)\n",
      "(0,)\n",
      "(2,)\n",
      "(0,)\n",
      "(0,)\n",
      "(0,)\n",
      "(1,)\n",
      "(0,)\n",
      "(1,)\n",
      "(1,)\n",
      "(1,)\n",
      "(0,)\n",
      "(1,)\n"
     ]
    },
    {
     "name": "stderr",
     "output_type": "stream",
     "text": [
      " 14%|█▎        | 27/197 [00:12<01:15,  2.25it/s]"
     ]
    },
    {
     "name": "stdout",
     "output_type": "stream",
     "text": [
      "(0,)\n",
      "(0,)\n",
      "(0,)\n",
      "(1,)\n",
      "(0,)\n",
      "(0,)\n",
      "(0,)\n",
      "(1,)\n",
      "(7,)\n",
      "(0,)\n",
      "(2,)\n",
      "(2,)\n",
      "(0,)\n",
      "(1,)\n",
      "(1,)\n",
      "(1,)\n",
      "(0,)\n",
      "(1,)\n",
      "(3,)\n",
      "(1,)\n",
      "(0,)\n",
      "(1,)\n",
      "(1,)\n",
      "(1,)\n"
     ]
    },
    {
     "name": "stderr",
     "output_type": "stream",
     "text": [
      " 14%|█▍        | 28/197 [00:12<01:14,  2.26it/s]"
     ]
    },
    {
     "name": "stdout",
     "output_type": "stream",
     "text": [
      "(1,)\n",
      "(0,)\n",
      "(0,)\n",
      "(0,)\n",
      "(0,)\n",
      "(1,)\n",
      "(0,)\n",
      "(0,)\n",
      "(1,)\n",
      "(1,)\n",
      "(0,)\n",
      "(0,)\n",
      "(2,)\n",
      "(0,)\n",
      "(1,)\n",
      "(0,)\n",
      "(0,)\n",
      "(0,)\n",
      "(0,)\n",
      "(0,)\n",
      "(0,)\n",
      "(1,)\n",
      "(0,)\n",
      "(1,)\n"
     ]
    },
    {
     "name": "stderr",
     "output_type": "stream",
     "text": [
      " 15%|█▍        | 29/197 [00:13<01:14,  2.27it/s]"
     ]
    },
    {
     "name": "stdout",
     "output_type": "stream",
     "text": [
      "(0,)\n",
      "(4,)\n",
      "(3,)\n",
      "(0,)\n",
      "(1,)\n",
      "(0,)\n",
      "(0,)\n",
      "(2,)\n",
      "(2,)\n",
      "(0,)\n",
      "(0,)\n",
      "(1,)\n",
      "(0,)\n",
      "(0,)\n",
      "(0,)\n",
      "(0,)\n",
      "(1,)\n",
      "(1,)\n",
      "(1,)\n",
      "(0,)\n",
      "(0,)\n",
      "(1,)\n",
      "(0,)\n",
      "(0,)\n"
     ]
    },
    {
     "name": "stderr",
     "output_type": "stream",
     "text": [
      " 15%|█▌        | 30/197 [00:13<01:13,  2.28it/s]"
     ]
    },
    {
     "name": "stdout",
     "output_type": "stream",
     "text": [
      "(1,)\n",
      "(0,)\n",
      "(0,)\n",
      "(0,)\n",
      "(1,)\n",
      "(0,)\n",
      "(1,)\n",
      "(1,)\n",
      "(0,)\n",
      "(0,)\n",
      "(0,)\n",
      "(0,)\n",
      "(0,)\n",
      "(1,)\n",
      "(1,)\n",
      "(6,)\n",
      "(0,)\n",
      "(2,)\n",
      "(0,)\n",
      "(0,)\n",
      "(1,)\n",
      "(0,)\n",
      "(1,)\n",
      "(0,)\n"
     ]
    },
    {
     "name": "stderr",
     "output_type": "stream",
     "text": [
      " 16%|█▌        | 31/197 [00:14<01:13,  2.27it/s]"
     ]
    },
    {
     "name": "stdout",
     "output_type": "stream",
     "text": [
      "(0,)\n",
      "(1,)\n",
      "(0,)\n",
      "(0,)\n",
      "(0,)\n",
      "(0,)\n",
      "(0,)\n",
      "(1,)\n",
      "(0,)\n",
      "(0,)\n",
      "(1,)\n",
      "(0,)\n",
      "(1,)\n",
      "(0,)\n",
      "(0,)\n",
      "(0,)\n",
      "(1,)\n",
      "(0,)\n",
      "(0,)\n",
      "(1,)\n",
      "(1,)\n",
      "(0,)\n",
      "(0,)\n",
      "(0,)\n"
     ]
    },
    {
     "name": "stderr",
     "output_type": "stream",
     "text": [
      " 16%|█▌        | 32/197 [00:14<01:12,  2.27it/s]"
     ]
    },
    {
     "name": "stdout",
     "output_type": "stream",
     "text": [
      "(0,)\n",
      "(0,)\n",
      "(1,)\n",
      "(0,)\n",
      "(0,)\n",
      "(0,)\n",
      "(1,)\n",
      "(1,)\n",
      "(1,)\n",
      "(0,)\n",
      "(0,)\n",
      "(0,)\n",
      "(0,)\n",
      "(0,)\n",
      "(0,)\n",
      "(1,)\n",
      "(1,)\n",
      "(0,)\n",
      "(6,)\n",
      "(1,)\n",
      "(0,)\n",
      "(0,)\n",
      "(0,)\n",
      "(0,)\n"
     ]
    },
    {
     "name": "stderr",
     "output_type": "stream",
     "text": [
      " 17%|█▋        | 33/197 [00:15<01:12,  2.27it/s]"
     ]
    },
    {
     "name": "stdout",
     "output_type": "stream",
     "text": [
      "(1,)\n",
      "(0,)\n",
      "(0,)\n",
      "(0,)\n",
      "(0,)\n",
      "(1,)\n",
      "(1,)\n",
      "(0,)\n",
      "(0,)\n",
      "(1,)\n",
      "(0,)\n",
      "(0,)\n",
      "(0,)\n",
      "(0,)\n",
      "(0,)\n",
      "(1,)\n",
      "(0,)\n",
      "(0,)\n",
      "(1,)\n",
      "(0,)\n",
      "(0,)\n",
      "(0,)\n",
      "(0,)\n",
      "(1,)\n"
     ]
    },
    {
     "name": "stderr",
     "output_type": "stream",
     "text": [
      " 17%|█▋        | 34/197 [00:15<01:11,  2.27it/s]"
     ]
    },
    {
     "name": "stdout",
     "output_type": "stream",
     "text": [
      "(0,)\n",
      "(0,)\n",
      "(0,)\n",
      "(0,)\n",
      "(1,)\n",
      "(0,)\n",
      "(1,)\n",
      "(0,)\n",
      "(0,)\n",
      "(0,)\n",
      "(22,)\n",
      "(0,)\n",
      "(1,)\n",
      "(1,)\n",
      "(3,)\n",
      "(0,)\n",
      "(5,)\n",
      "(0,)\n",
      "(1,)\n",
      "(0,)\n",
      "(0,)\n",
      "(0,)\n",
      "(0,)\n",
      "(0,)\n"
     ]
    },
    {
     "name": "stderr",
     "output_type": "stream",
     "text": [
      " 18%|█▊        | 35/197 [00:15<01:11,  2.26it/s]"
     ]
    },
    {
     "name": "stdout",
     "output_type": "stream",
     "text": [
      "(1,)\n",
      "(0,)\n",
      "(1,)\n",
      "(1,)\n",
      "(1,)\n",
      "(1,)\n",
      "(0,)\n",
      "(1,)\n",
      "(0,)\n",
      "(0,)\n",
      "(0,)\n",
      "(1,)\n",
      "(1,)\n",
      "(1,)\n",
      "(1,)\n",
      "(0,)\n",
      "(0,)\n",
      "(1,)\n",
      "(0,)\n",
      "(1,)\n",
      "(1,)\n",
      "(0,)\n",
      "(0,)\n",
      "(0,)\n"
     ]
    },
    {
     "name": "stderr",
     "output_type": "stream",
     "text": [
      " 18%|█▊        | 36/197 [00:16<01:11,  2.26it/s]"
     ]
    },
    {
     "name": "stdout",
     "output_type": "stream",
     "text": [
      "(1,)\n",
      "(0,)\n",
      "(0,)\n",
      "(4,)\n",
      "(0,)\n",
      "(1,)\n",
      "(1,)\n",
      "(2,)\n",
      "(0,)\n",
      "(1,)\n",
      "(0,)\n",
      "(0,)\n",
      "(0,)\n",
      "(0,)\n",
      "(0,)\n",
      "(0,)\n",
      "(0,)\n",
      "(0,)\n",
      "(1,)\n",
      "(1,)\n",
      "(1,)\n",
      "(1,)\n",
      "(0,)\n",
      "(0,)\n"
     ]
    },
    {
     "name": "stderr",
     "output_type": "stream",
     "text": [
      " 19%|█▉        | 37/197 [00:16<01:10,  2.27it/s]"
     ]
    },
    {
     "name": "stdout",
     "output_type": "stream",
     "text": [
      "(1,)\n",
      "(0,)\n",
      "(1,)\n",
      "(0,)\n",
      "(0,)\n",
      "(0,)\n",
      "(0,)\n",
      "(0,)\n",
      "(0,)\n",
      "(1,)\n",
      "(0,)\n",
      "(1,)\n",
      "(0,)\n",
      "(0,)\n",
      "(2,)\n",
      "(7,)\n",
      "(0,)\n",
      "(2,)\n",
      "(0,)\n",
      "(0,)\n",
      "(0,)\n",
      "(5,)\n",
      "(2,)\n",
      "(2,)\n"
     ]
    },
    {
     "name": "stderr",
     "output_type": "stream",
     "text": [
      " 19%|█▉        | 38/197 [00:17<01:09,  2.28it/s]"
     ]
    },
    {
     "name": "stdout",
     "output_type": "stream",
     "text": [
      "(0,)\n",
      "(0,)\n",
      "(2,)\n",
      "(0,)\n",
      "(1,)\n",
      "(0,)\n",
      "(0,)\n",
      "(1,)\n",
      "(0,)\n",
      "(0,)\n",
      "(0,)\n",
      "(0,)\n",
      "(1,)\n",
      "(0,)\n",
      "(1,)\n",
      "(1,)\n",
      "(0,)\n",
      "(0,)\n",
      "(0,)\n",
      "(0,)\n",
      "(0,)\n",
      "(1,)\n",
      "(0,)\n",
      "(0,)\n"
     ]
    },
    {
     "name": "stderr",
     "output_type": "stream",
     "text": [
      " 20%|█▉        | 39/197 [00:17<01:09,  2.26it/s]"
     ]
    },
    {
     "name": "stdout",
     "output_type": "stream",
     "text": [
      "(0,)\n",
      "(1,)\n",
      "(0,)\n",
      "(0,)\n",
      "(1,)\n",
      "(0,)\n",
      "(0,)\n",
      "(0,)\n",
      "(0,)\n",
      "(1,)\n",
      "(0,)\n",
      "(1,)\n",
      "(0,)\n",
      "(1,)\n",
      "(0,)\n",
      "(0,)\n",
      "(1,)\n",
      "(0,)\n",
      "(1,)\n",
      "(0,)\n",
      "(0,)\n",
      "(1,)\n",
      "(0,)\n",
      "(1,)\n"
     ]
    },
    {
     "name": "stderr",
     "output_type": "stream",
     "text": [
      " 20%|██        | 40/197 [00:18<01:09,  2.27it/s]"
     ]
    },
    {
     "name": "stdout",
     "output_type": "stream",
     "text": [
      "(1,)\n",
      "(0,)\n",
      "(1,)\n",
      "(0,)\n",
      "(1,)\n",
      "(0,)\n",
      "(0,)\n",
      "(1,)\n",
      "(0,)\n",
      "(2,)\n",
      "(2,)\n",
      "(0,)\n",
      "(0,)\n",
      "(2,)\n",
      "(3,)\n",
      "(0,)\n",
      "(0,)\n",
      "(0,)\n",
      "(0,)\n",
      "(5,)\n",
      "(0,)\n",
      "(1,)\n",
      "(4,)\n",
      "(0,)\n"
     ]
    },
    {
     "name": "stderr",
     "output_type": "stream",
     "text": [
      " 21%|██        | 41/197 [00:18<01:08,  2.26it/s]"
     ]
    },
    {
     "name": "stdout",
     "output_type": "stream",
     "text": [
      "(1,)\n",
      "(0,)\n",
      "(3,)\n",
      "(4,)\n",
      "(0,)\n",
      "(1,)\n",
      "(0,)\n",
      "(0,)\n",
      "(0,)\n",
      "(1,)\n",
      "(1,)\n",
      "(0,)\n",
      "(0,)\n",
      "(1,)\n",
      "(1,)\n",
      "(1,)\n",
      "(0,)\n",
      "(1,)\n",
      "(0,)\n",
      "(0,)\n",
      "(0,)\n",
      "(1,)\n",
      "(0,)\n",
      "(0,)\n"
     ]
    },
    {
     "name": "stderr",
     "output_type": "stream",
     "text": [
      " 21%|██▏       | 42/197 [00:19<01:08,  2.27it/s]"
     ]
    },
    {
     "name": "stdout",
     "output_type": "stream",
     "text": [
      "(1,)\n",
      "(0,)\n",
      "(1,)\n",
      "(1,)\n",
      "(0,)\n",
      "(0,)\n",
      "(0,)\n",
      "(0,)\n",
      "(1,)\n",
      "(0,)\n",
      "(0,)\n",
      "(1,)\n",
      "(0,)\n",
      "(0,)\n",
      "(5,)\n",
      "(0,)\n",
      "(6,)\n",
      "(0,)\n",
      "(0,)\n",
      "(1,)\n",
      "(0,)\n",
      "(0,)\n",
      "(0,)\n",
      "(2,)\n"
     ]
    },
    {
     "name": "stderr",
     "output_type": "stream",
     "text": [
      " 22%|██▏       | 43/197 [00:19<01:07,  2.27it/s]"
     ]
    },
    {
     "name": "stdout",
     "output_type": "stream",
     "text": [
      "(0,)\n",
      "(1,)\n",
      "(0,)\n",
      "(2,)\n",
      "(0,)\n",
      "(0,)\n",
      "(0,)\n",
      "(3,)\n",
      "(2,)\n",
      "(0,)\n",
      "(0,)\n",
      "(0,)\n",
      "(12,)\n",
      "(0,)\n",
      "(1,)\n",
      "(1,)\n",
      "(1,)\n",
      "(1,)\n",
      "(1,)\n",
      "(1,)\n",
      "(0,)\n",
      "(0,)\n",
      "(0,)\n",
      "(0,)\n"
     ]
    },
    {
     "name": "stderr",
     "output_type": "stream",
     "text": [
      " 22%|██▏       | 44/197 [00:19<01:07,  2.28it/s]"
     ]
    },
    {
     "name": "stdout",
     "output_type": "stream",
     "text": [
      "(0,)\n",
      "(0,)\n",
      "(1,)\n",
      "(0,)\n",
      "(0,)\n",
      "(0,)\n",
      "(0,)\n",
      "(2,)\n",
      "(1,)\n",
      "(0,)\n",
      "(0,)\n",
      "(1,)\n",
      "(0,)\n",
      "(1,)\n",
      "(0,)\n",
      "(0,)\n",
      "(1,)\n",
      "(0,)\n",
      "(0,)\n",
      "(1,)\n",
      "(1,)\n",
      "(0,)\n",
      "(1,)\n",
      "(1,)\n"
     ]
    },
    {
     "name": "stderr",
     "output_type": "stream",
     "text": [
      " 23%|██▎       | 45/197 [00:20<01:06,  2.28it/s]"
     ]
    },
    {
     "name": "stdout",
     "output_type": "stream",
     "text": [
      "(1,)\n",
      "(10,)\n",
      "(0,)\n",
      "(0,)\n",
      "(0,)\n",
      "(1,)\n",
      "(0,)\n",
      "(0,)\n",
      "(2,)\n",
      "(1,)\n",
      "(0,)\n",
      "(0,)\n",
      "(0,)\n",
      "(0,)\n",
      "(0,)\n",
      "(0,)\n",
      "(0,)\n",
      "(1,)\n",
      "(0,)\n",
      "(0,)\n",
      "(0,)\n",
      "(1,)\n",
      "(1,)\n",
      "(0,)\n"
     ]
    },
    {
     "name": "stderr",
     "output_type": "stream",
     "text": [
      " 23%|██▎       | 46/197 [00:20<01:05,  2.29it/s]"
     ]
    },
    {
     "name": "stdout",
     "output_type": "stream",
     "text": [
      "(0,)\n",
      "(1,)\n",
      "(0,)\n",
      "(0,)\n",
      "(0,)\n",
      "(1,)\n",
      "(0,)\n",
      "(1,)\n",
      "(0,)\n",
      "(0,)\n",
      "(0,)\n",
      "(0,)\n",
      "(0,)\n",
      "(1,)\n",
      "(0,)\n",
      "(0,)\n",
      "(0,)\n",
      "(0,)\n",
      "(1,)\n",
      "(0,)\n",
      "(0,)\n",
      "(1,)\n",
      "(1,)\n",
      "(0,)\n"
     ]
    },
    {
     "name": "stderr",
     "output_type": "stream",
     "text": [
      " 24%|██▍       | 47/197 [00:21<01:05,  2.28it/s]"
     ]
    },
    {
     "name": "stdout",
     "output_type": "stream",
     "text": [
      "(0,)\n",
      "(1,)\n",
      "(0,)\n",
      "(0,)\n",
      "(0,)\n",
      "(1,)\n",
      "(3,)\n",
      "(0,)\n",
      "(0,)\n",
      "(0,)\n",
      "(0,)\n",
      "(0,)\n",
      "(0,)\n",
      "(1,)\n",
      "(0,)\n",
      "(0,)\n",
      "(1,)\n",
      "(0,)\n",
      "(1,)\n",
      "(0,)\n",
      "(0,)\n",
      "(0,)\n",
      "(1,)\n",
      "(0,)\n"
     ]
    },
    {
     "name": "stderr",
     "output_type": "stream",
     "text": [
      " 24%|██▍       | 48/197 [00:21<01:05,  2.27it/s]"
     ]
    },
    {
     "name": "stdout",
     "output_type": "stream",
     "text": [
      "(0,)\n",
      "(0,)\n",
      "(0,)\n",
      "(0,)\n",
      "(0,)\n",
      "(0,)\n",
      "(0,)\n",
      "(0,)\n",
      "(0,)\n",
      "(0,)\n",
      "(0,)\n",
      "(3,)\n",
      "(0,)\n",
      "(2,)\n",
      "(0,)\n",
      "(0,)\n",
      "(7,)\n",
      "(0,)\n",
      "(0,)\n",
      "(0,)\n",
      "(0,)\n",
      "(1,)\n",
      "(0,)\n",
      "(0,)\n"
     ]
    },
    {
     "name": "stderr",
     "output_type": "stream",
     "text": [
      " 25%|██▍       | 49/197 [00:22<01:05,  2.26it/s]"
     ]
    },
    {
     "name": "stdout",
     "output_type": "stream",
     "text": [
      "(1,)\n",
      "(0,)\n",
      "(0,)\n",
      "(0,)\n",
      "(1,)\n",
      "(0,)\n",
      "(1,)\n",
      "(0,)\n",
      "(2,)\n",
      "(1,)\n",
      "(0,)\n",
      "(0,)\n",
      "(1,)\n",
      "(0,)\n",
      "(0,)\n",
      "(1,)\n",
      "(1,)\n",
      "(0,)\n",
      "(0,)\n",
      "(1,)\n",
      "(0,)\n",
      "(0,)\n",
      "(1,)\n",
      "(0,)\n"
     ]
    },
    {
     "name": "stderr",
     "output_type": "stream",
     "text": [
      " 25%|██▌       | 50/197 [00:22<01:04,  2.27it/s]"
     ]
    },
    {
     "name": "stdout",
     "output_type": "stream",
     "text": [
      "(1,)\n",
      "(0,)\n",
      "(0,)\n",
      "(0,)\n",
      "(0,)\n",
      "(0,)\n",
      "(0,)\n",
      "(1,)\n",
      "(0,)\n",
      "(0,)\n",
      "(1,)\n",
      "(1,)\n",
      "(0,)\n",
      "(0,)\n",
      "(1,)\n",
      "(0,)\n",
      "(0,)\n",
      "(0,)\n",
      "(0,)\n",
      "(1,)\n",
      "(0,)\n",
      "(0,)\n",
      "(0,)\n",
      "(1,)\n"
     ]
    },
    {
     "name": "stderr",
     "output_type": "stream",
     "text": [
      " 26%|██▌       | 51/197 [00:22<01:04,  2.26it/s]"
     ]
    },
    {
     "name": "stdout",
     "output_type": "stream",
     "text": [
      "(1,)\n",
      "(0,)\n",
      "(0,)\n",
      "(1,)\n",
      "(0,)\n",
      "(1,)\n",
      "(0,)\n",
      "(0,)\n",
      "(1,)\n",
      "(2,)\n",
      "(0,)\n",
      "(0,)\n",
      "(1,)\n",
      "(1,)\n",
      "(1,)\n",
      "(0,)\n",
      "(1,)\n",
      "(0,)\n",
      "(1,)\n",
      "(0,)\n",
      "(0,)\n",
      "(0,)\n",
      "(12,)\n",
      "(0,)\n"
     ]
    },
    {
     "name": "stderr",
     "output_type": "stream",
     "text": [
      " 26%|██▋       | 52/197 [00:23<01:04,  2.26it/s]"
     ]
    },
    {
     "name": "stdout",
     "output_type": "stream",
     "text": [
      "(0,)\n",
      "(0,)\n",
      "(0,)\n",
      "(0,)\n",
      "(0,)\n",
      "(0,)\n",
      "(1,)\n",
      "(0,)\n",
      "(1,)\n",
      "(1,)\n",
      "(1,)\n",
      "(1,)\n",
      "(0,)\n",
      "(1,)\n",
      "(0,)\n",
      "(1,)\n",
      "(0,)\n",
      "(1,)\n",
      "(0,)\n",
      "(0,)\n",
      "(1,)\n",
      "(1,)\n",
      "(0,)\n",
      "(0,)\n"
     ]
    },
    {
     "name": "stderr",
     "output_type": "stream",
     "text": [
      " 27%|██▋       | 53/197 [00:23<01:03,  2.27it/s]"
     ]
    },
    {
     "name": "stdout",
     "output_type": "stream",
     "text": [
      "(0,)\n",
      "(0,)\n",
      "(0,)\n",
      "(0,)\n",
      "(1,)\n",
      "(0,)\n",
      "(1,)\n",
      "(2,)\n",
      "(1,)\n",
      "(0,)\n",
      "(0,)\n",
      "(0,)\n",
      "(1,)\n",
      "(0,)\n",
      "(0,)\n",
      "(2,)\n",
      "(0,)\n",
      "(5,)\n",
      "(1,)\n",
      "(0,)\n",
      "(0,)\n",
      "(0,)\n",
      "(0,)\n",
      "(0,)\n"
     ]
    },
    {
     "name": "stderr",
     "output_type": "stream",
     "text": [
      " 27%|██▋       | 54/197 [00:24<01:02,  2.27it/s]"
     ]
    },
    {
     "name": "stdout",
     "output_type": "stream",
     "text": [
      "(1,)\n",
      "(1,)\n",
      "(5,)\n",
      "(0,)\n",
      "(0,)\n",
      "(0,)\n",
      "(1,)\n",
      "(1,)\n",
      "(0,)\n",
      "(1,)\n",
      "(0,)\n",
      "(0,)\n",
      "(0,)\n",
      "(0,)\n",
      "(0,)\n",
      "(1,)\n",
      "(1,)\n",
      "(1,)\n",
      "(0,)\n",
      "(1,)\n",
      "(0,)\n",
      "(0,)\n",
      "(1,)\n",
      "(1,)\n"
     ]
    },
    {
     "name": "stderr",
     "output_type": "stream",
     "text": [
      " 28%|██▊       | 55/197 [00:24<01:02,  2.27it/s]"
     ]
    },
    {
     "name": "stdout",
     "output_type": "stream",
     "text": [
      "(1,)\n",
      "(1,)\n",
      "(1,)\n",
      "(1,)\n",
      "(1,)\n",
      "(0,)\n",
      "(0,)\n",
      "(0,)\n",
      "(1,)\n",
      "(0,)\n",
      "(1,)\n",
      "(0,)\n",
      "(0,)\n",
      "(0,)\n",
      "(1,)\n",
      "(0,)\n",
      "(1,)\n",
      "(0,)\n",
      "(0,)\n",
      "(11,)\n",
      "(5,)\n",
      "(2,)\n",
      "(0,)\n",
      "(1,)\n"
     ]
    },
    {
     "name": "stderr",
     "output_type": "stream",
     "text": [
      " 28%|██▊       | 56/197 [00:25<01:02,  2.26it/s]"
     ]
    },
    {
     "name": "stdout",
     "output_type": "stream",
     "text": [
      "(2,)\n",
      "(0,)\n",
      "(2,)\n",
      "(6,)\n",
      "(1,)\n",
      "(1,)\n",
      "(0,)\n",
      "(0,)\n",
      "(0,)\n",
      "(1,)\n",
      "(0,)\n",
      "(1,)\n",
      "(0,)\n",
      "(0,)\n",
      "(1,)\n",
      "(0,)\n",
      "(0,)\n",
      "(0,)\n",
      "(1,)\n",
      "(1,)\n",
      "(1,)\n",
      "(0,)\n",
      "(0,)\n",
      "(0,)\n"
     ]
    },
    {
     "name": "stderr",
     "output_type": "stream",
     "text": [
      " 29%|██▉       | 57/197 [00:25<01:01,  2.27it/s]"
     ]
    },
    {
     "name": "stdout",
     "output_type": "stream",
     "text": [
      "(0,)\n",
      "(1,)\n",
      "(0,)\n",
      "(0,)\n",
      "(1,)\n",
      "(0,)\n",
      "(0,)\n",
      "(0,)\n",
      "(0,)\n",
      "(1,)\n",
      "(0,)\n",
      "(2,)\n",
      "(0,)\n",
      "(0,)\n",
      "(1,)\n",
      "(0,)\n",
      "(1,)\n",
      "(1,)\n",
      "(0,)\n",
      "(0,)\n",
      "(1,)\n",
      "(2,)\n",
      "(0,)\n",
      "(0,)\n"
     ]
    },
    {
     "name": "stderr",
     "output_type": "stream",
     "text": [
      " 29%|██▉       | 58/197 [00:26<01:01,  2.27it/s]"
     ]
    },
    {
     "name": "stdout",
     "output_type": "stream",
     "text": [
      "(1,)\n",
      "(0,)\n",
      "(1,)\n",
      "(2,)\n",
      "(0,)\n",
      "(4,)\n",
      "(0,)\n",
      "(2,)\n",
      "(0,)\n",
      "(2,)\n",
      "(5,)\n",
      "(1,)\n",
      "(0,)\n",
      "(1,)\n",
      "(0,)\n",
      "(1,)\n",
      "(1,)\n",
      "(0,)\n",
      "(0,)\n",
      "(0,)\n",
      "(0,)\n",
      "(0,)\n",
      "(1,)\n",
      "(1,)\n"
     ]
    },
    {
     "name": "stderr",
     "output_type": "stream",
     "text": [
      " 30%|██▉       | 59/197 [00:26<01:00,  2.27it/s]"
     ]
    },
    {
     "name": "stdout",
     "output_type": "stream",
     "text": [
      "(2,)\n",
      "(1,)\n",
      "(0,)\n",
      "(1,)\n",
      "(0,)\n",
      "(0,)\n",
      "(1,)\n",
      "(0,)\n",
      "(0,)\n",
      "(1,)\n",
      "(0,)\n",
      "(0,)\n",
      "(1,)\n",
      "(1,)\n",
      "(1,)\n",
      "(1,)\n",
      "(1,)\n",
      "(0,)\n",
      "(1,)\n",
      "(0,)\n",
      "(0,)\n",
      "(1,)\n",
      "(1,)\n",
      "(0,)\n"
     ]
    },
    {
     "name": "stderr",
     "output_type": "stream",
     "text": [
      " 30%|███       | 60/197 [00:26<01:00,  2.26it/s]"
     ]
    },
    {
     "name": "stdout",
     "output_type": "stream",
     "text": [
      "(0,)\n",
      "(0,)\n",
      "(0,)\n",
      "(0,)\n",
      "(0,)\n",
      "(1,)\n",
      "(0,)\n",
      "(1,)\n",
      "(0,)\n",
      "(0,)\n",
      "(1,)\n",
      "(0,)\n",
      "(0,)\n",
      "(0,)\n",
      "(0,)\n",
      "(0,)\n",
      "(0,)\n",
      "(1,)\n",
      "(1,)\n",
      "(0,)\n",
      "(1,)\n",
      "(1,)\n",
      "(2,)\n",
      "(1,)\n"
     ]
    },
    {
     "name": "stderr",
     "output_type": "stream",
     "text": [
      " 31%|███       | 61/197 [00:27<00:59,  2.27it/s]"
     ]
    },
    {
     "name": "stdout",
     "output_type": "stream",
     "text": [
      "(1,)\n",
      "(1,)\n",
      "(0,)\n",
      "(0,)\n",
      "(1,)\n",
      "(0,)\n",
      "(0,)\n",
      "(0,)\n",
      "(0,)\n",
      "(0,)\n",
      "(0,)\n",
      "(0,)\n",
      "(0,)\n",
      "(0,)\n",
      "(1,)\n",
      "(0,)\n",
      "(0,)\n",
      "(0,)\n",
      "(0,)\n",
      "(1,)\n",
      "(1,)\n",
      "(1,)\n",
      "(0,)\n",
      "(1,)\n"
     ]
    },
    {
     "name": "stderr",
     "output_type": "stream",
     "text": [
      " 31%|███▏      | 62/197 [00:27<00:59,  2.28it/s]"
     ]
    },
    {
     "name": "stdout",
     "output_type": "stream",
     "text": [
      "(0,)\n",
      "(0,)\n",
      "(0,)\n",
      "(0,)\n",
      "(1,)\n",
      "(0,)\n",
      "(0,)\n",
      "(0,)\n",
      "(0,)\n",
      "(0,)\n",
      "(1,)\n",
      "(0,)\n",
      "(2,)\n",
      "(0,)\n",
      "(1,)\n",
      "(0,)\n",
      "(0,)\n",
      "(1,)\n",
      "(0,)\n",
      "(0,)\n",
      "(0,)\n",
      "(0,)\n",
      "(0,)\n",
      "(0,)\n"
     ]
    },
    {
     "name": "stderr",
     "output_type": "stream",
     "text": [
      " 32%|███▏      | 63/197 [00:28<00:58,  2.27it/s]"
     ]
    },
    {
     "name": "stdout",
     "output_type": "stream",
     "text": [
      "(1,)\n",
      "(1,)\n",
      "(1,)\n",
      "(1,)\n",
      "(2,)\n",
      "(0,)\n",
      "(1,)\n",
      "(1,)\n",
      "(0,)\n",
      "(0,)\n",
      "(1,)\n",
      "(0,)\n",
      "(1,)\n",
      "(0,)\n",
      "(1,)\n",
      "(0,)\n",
      "(1,)\n",
      "(0,)\n",
      "(0,)\n",
      "(0,)\n",
      "(0,)\n",
      "(1,)\n",
      "(0,)\n",
      "(0,)\n"
     ]
    },
    {
     "name": "stderr",
     "output_type": "stream",
     "text": [
      " 32%|███▏      | 64/197 [00:28<00:58,  2.26it/s]"
     ]
    },
    {
     "name": "stdout",
     "output_type": "stream",
     "text": [
      "(0,)\n",
      "(1,)\n",
      "(0,)\n",
      "(1,)\n",
      "(0,)\n",
      "(0,)\n",
      "(0,)\n",
      "(1,)\n",
      "(0,)\n",
      "(1,)\n",
      "(1,)\n",
      "(1,)\n",
      "(2,)\n",
      "(0,)\n",
      "(1,)\n",
      "(6,)\n",
      "(2,)\n",
      "(3,)\n",
      "(0,)\n",
      "(2,)\n",
      "(5,)\n",
      "(2,)\n",
      "(0,)\n",
      "(2,)\n"
     ]
    },
    {
     "name": "stderr",
     "output_type": "stream",
     "text": [
      " 33%|███▎      | 65/197 [00:29<00:58,  2.26it/s]"
     ]
    },
    {
     "name": "stdout",
     "output_type": "stream",
     "text": [
      "(1,)\n",
      "(0,)\n",
      "(0,)\n",
      "(0,)\n",
      "(0,)\n",
      "(0,)\n",
      "(0,)\n",
      "(0,)\n",
      "(2,)\n",
      "(0,)\n",
      "(0,)\n",
      "(0,)\n",
      "(0,)\n",
      "(1,)\n",
      "(1,)\n",
      "(1,)\n",
      "(2,)\n",
      "(0,)\n",
      "(1,)\n",
      "(0,)\n",
      "(3,)\n",
      "(1,)\n",
      "(0,)\n",
      "(1,)\n"
     ]
    },
    {
     "name": "stderr",
     "output_type": "stream",
     "text": [
      " 34%|███▎      | 66/197 [00:29<00:57,  2.26it/s]"
     ]
    },
    {
     "name": "stdout",
     "output_type": "stream",
     "text": [
      "(0,)\n",
      "(0,)\n",
      "(1,)\n",
      "(0,)\n",
      "(0,)\n",
      "(1,)\n",
      "(1,)\n",
      "(1,)\n",
      "(1,)\n",
      "(0,)\n",
      "(1,)\n",
      "(0,)\n",
      "(1,)\n",
      "(0,)\n",
      "(1,)\n",
      "(0,)\n",
      "(0,)\n",
      "(1,)\n",
      "(2,)\n",
      "(2,)\n",
      "(2,)\n",
      "(0,)\n",
      "(1,)\n",
      "(1,)\n"
     ]
    },
    {
     "name": "stderr",
     "output_type": "stream",
     "text": [
      " 34%|███▍      | 67/197 [00:30<00:57,  2.26it/s]"
     ]
    },
    {
     "name": "stdout",
     "output_type": "stream",
     "text": [
      "(1,)\n",
      "(2,)\n",
      "(0,)\n",
      "(0,)\n",
      "(1,)\n",
      "(1,)\n",
      "(1,)\n",
      "(0,)\n",
      "(1,)\n",
      "(0,)\n",
      "(2,)\n",
      "(1,)\n",
      "(0,)\n",
      "(0,)\n",
      "(1,)\n",
      "(0,)\n",
      "(1,)\n",
      "(0,)\n",
      "(1,)\n",
      "(0,)\n",
      "(0,)\n",
      "(2,)\n",
      "(1,)\n",
      "(0,)\n"
     ]
    },
    {
     "name": "stderr",
     "output_type": "stream",
     "text": [
      " 35%|███▍      | 68/197 [00:30<00:56,  2.27it/s]"
     ]
    },
    {
     "name": "stdout",
     "output_type": "stream",
     "text": [
      "(0,)\n",
      "(1,)\n",
      "(3,)\n",
      "(0,)\n",
      "(0,)\n",
      "(7,)\n",
      "(3,)\n",
      "(5,)\n",
      "(0,)\n",
      "(0,)\n",
      "(2,)\n",
      "(1,)\n",
      "(0,)\n",
      "(0,)\n",
      "(0,)\n",
      "(1,)\n",
      "(0,)\n",
      "(1,)\n",
      "(0,)\n",
      "(0,)\n",
      "(0,)\n",
      "(0,)\n",
      "(0,)\n",
      "(1,)\n"
     ]
    },
    {
     "name": "stderr",
     "output_type": "stream",
     "text": [
      " 35%|███▌      | 69/197 [00:30<00:56,  2.27it/s]"
     ]
    },
    {
     "name": "stdout",
     "output_type": "stream",
     "text": [
      "(0,)\n",
      "(0,)\n",
      "(1,)\n",
      "(1,)\n",
      "(0,)\n",
      "(1,)\n",
      "(0,)\n",
      "(0,)\n",
      "(0,)\n",
      "(1,)\n",
      "(0,)\n",
      "(0,)\n",
      "(2,)\n",
      "(0,)\n",
      "(1,)\n",
      "(1,)\n",
      "(0,)\n",
      "(0,)\n",
      "(1,)\n",
      "(0,)\n",
      "(0,)\n",
      "(0,)\n",
      "(0,)\n",
      "(1,)\n"
     ]
    },
    {
     "name": "stderr",
     "output_type": "stream",
     "text": [
      " 36%|███▌      | 70/197 [00:31<00:56,  2.27it/s]"
     ]
    },
    {
     "name": "stdout",
     "output_type": "stream",
     "text": [
      "(2,)\n",
      "(0,)\n",
      "(0,)\n",
      "(1,)\n",
      "(0,)\n",
      "(0,)\n",
      "(0,)\n",
      "(1,)\n",
      "(1,)\n",
      "(1,)\n",
      "(1,)\n",
      "(0,)\n",
      "(0,)\n",
      "(0,)\n",
      "(0,)\n",
      "(1,)\n",
      "(1,)\n",
      "(0,)\n",
      "(0,)\n",
      "(1,)\n",
      "(0,)\n",
      "(0,)\n",
      "(0,)\n",
      "(2,)\n"
     ]
    },
    {
     "name": "stderr",
     "output_type": "stream",
     "text": [
      " 36%|███▌      | 71/197 [00:31<00:55,  2.26it/s]"
     ]
    },
    {
     "name": "stdout",
     "output_type": "stream",
     "text": [
      "(1,)\n",
      "(0,)\n",
      "(1,)\n",
      "(0,)\n",
      "(0,)\n",
      "(0,)\n",
      "(0,)\n",
      "(0,)\n",
      "(1,)\n",
      "(1,)\n",
      "(3,)\n",
      "(1,)\n",
      "(6,)\n",
      "(0,)\n",
      "(6,)\n",
      "(0,)\n",
      "(1,)\n",
      "(1,)\n",
      "(1,)\n",
      "(0,)\n",
      "(1,)\n",
      "(0,)\n",
      "(0,)\n",
      "(1,)\n"
     ]
    },
    {
     "name": "stderr",
     "output_type": "stream",
     "text": [
      " 37%|███▋      | 72/197 [00:32<00:55,  2.27it/s]"
     ]
    },
    {
     "name": "stdout",
     "output_type": "stream",
     "text": [
      "(0,)\n",
      "(0,)\n",
      "(1,)\n",
      "(1,)\n",
      "(0,)\n",
      "(0,)\n",
      "(0,)\n",
      "(1,)\n",
      "(1,)\n",
      "(0,)\n",
      "(0,)\n",
      "(0,)\n",
      "(0,)\n",
      "(0,)\n",
      "(1,)\n",
      "(0,)\n",
      "(2,)\n",
      "(1,)\n",
      "(3,)\n",
      "(1,)\n",
      "(1,)\n",
      "(2,)\n",
      "(4,)\n",
      "(0,)\n"
     ]
    },
    {
     "name": "stderr",
     "output_type": "stream",
     "text": [
      " 37%|███▋      | 73/197 [00:32<00:54,  2.27it/s]"
     ]
    },
    {
     "name": "stdout",
     "output_type": "stream",
     "text": [
      "(1,)\n",
      "(3,)\n",
      "(0,)\n",
      "(0,)\n",
      "(0,)\n",
      "(0,)\n",
      "(0,)\n",
      "(0,)\n",
      "(0,)\n",
      "(1,)\n",
      "(0,)\n",
      "(1,)\n",
      "(2,)\n",
      "(3,)\n",
      "(1,)\n",
      "(0,)\n",
      "(1,)\n",
      "(2,)\n",
      "(0,)\n",
      "(0,)\n",
      "(1,)\n",
      "(0,)\n",
      "(0,)\n",
      "(0,)\n"
     ]
    },
    {
     "name": "stderr",
     "output_type": "stream",
     "text": [
      " 38%|███▊      | 74/197 [00:33<00:54,  2.27it/s]"
     ]
    },
    {
     "name": "stdout",
     "output_type": "stream",
     "text": [
      "(2,)\n",
      "(1,)\n",
      "(0,)\n",
      "(1,)\n",
      "(0,)\n",
      "(0,)\n",
      "(0,)\n",
      "(1,)\n",
      "(0,)\n",
      "(0,)\n",
      "(1,)\n",
      "(1,)\n",
      "(1,)\n",
      "(0,)\n",
      "(1,)\n",
      "(0,)\n",
      "(0,)\n",
      "(1,)\n",
      "(0,)\n",
      "(1,)\n",
      "(0,)\n",
      "(0,)\n",
      "(0,)\n",
      "(1,)\n"
     ]
    },
    {
     "name": "stderr",
     "output_type": "stream",
     "text": [
      " 38%|███▊      | 75/197 [00:33<00:53,  2.27it/s]"
     ]
    },
    {
     "name": "stdout",
     "output_type": "stream",
     "text": [
      "(1,)\n",
      "(0,)\n",
      "(1,)\n",
      "(0,)\n",
      "(1,)\n",
      "(1,)\n",
      "(0,)\n",
      "(0,)\n",
      "(0,)\n",
      "(1,)\n",
      "(0,)\n",
      "(0,)\n",
      "(1,)\n",
      "(0,)\n",
      "(0,)\n",
      "(0,)\n",
      "(1,)\n",
      "(0,)\n",
      "(0,)\n",
      "(1,)\n",
      "(1,)\n",
      "(0,)\n",
      "(0,)\n",
      "(1,)\n"
     ]
    },
    {
     "name": "stderr",
     "output_type": "stream",
     "text": [
      " 39%|███▊      | 76/197 [00:33<00:53,  2.26it/s]"
     ]
    },
    {
     "name": "stdout",
     "output_type": "stream",
     "text": [
      "(0,)\n",
      "(1,)\n",
      "(0,)\n",
      "(1,)\n",
      "(0,)\n",
      "(0,)\n",
      "(0,)\n",
      "(1,)\n",
      "(0,)\n",
      "(0,)\n",
      "(1,)\n",
      "(0,)\n",
      "(0,)\n",
      "(0,)\n",
      "(0,)\n",
      "(1,)\n",
      "(0,)\n",
      "(1,)\n",
      "(0,)\n",
      "(0,)\n",
      "(0,)\n",
      "(0,)\n",
      "(0,)\n",
      "(1,)\n"
     ]
    },
    {
     "name": "stderr",
     "output_type": "stream",
     "text": [
      " 39%|███▉      | 77/197 [00:34<00:53,  2.26it/s]"
     ]
    },
    {
     "name": "stdout",
     "output_type": "stream",
     "text": [
      "(0,)\n",
      "(0,)\n",
      "(1,)\n",
      "(1,)\n",
      "(0,)\n",
      "(1,)\n",
      "(0,)\n",
      "(2,)\n",
      "(0,)\n",
      "(0,)\n",
      "(0,)\n",
      "(0,)\n",
      "(1,)\n",
      "(0,)\n",
      "(0,)\n",
      "(1,)\n",
      "(0,)\n",
      "(0,)\n",
      "(0,)\n",
      "(0,)\n",
      "(0,)\n",
      "(1,)\n",
      "(0,)\n",
      "(0,)\n"
     ]
    },
    {
     "name": "stderr",
     "output_type": "stream",
     "text": [
      " 40%|███▉      | 78/197 [00:34<00:52,  2.27it/s]"
     ]
    },
    {
     "name": "stdout",
     "output_type": "stream",
     "text": [
      "(0,)\n",
      "(1,)\n",
      "(0,)\n",
      "(0,)\n",
      "(0,)\n",
      "(1,)\n",
      "(0,)\n",
      "(0,)\n",
      "(0,)\n",
      "(1,)\n",
      "(0,)\n",
      "(0,)\n",
      "(1,)\n",
      "(1,)\n",
      "(0,)\n",
      "(1,)\n",
      "(0,)\n",
      "(0,)\n",
      "(0,)\n",
      "(2,)\n",
      "(1,)\n",
      "(2,)\n",
      "(0,)\n",
      "(1,)\n"
     ]
    },
    {
     "name": "stderr",
     "output_type": "stream",
     "text": [
      " 40%|████      | 79/197 [00:35<00:51,  2.29it/s]"
     ]
    },
    {
     "name": "stdout",
     "output_type": "stream",
     "text": [
      "(2,)\n",
      "(0,)\n",
      "(1,)\n",
      "(0,)\n",
      "(0,)\n",
      "(0,)\n",
      "(1,)\n",
      "(1,)\n",
      "(0,)\n",
      "(0,)\n",
      "(0,)\n",
      "(1,)\n",
      "(0,)\n",
      "(1,)\n",
      "(1,)\n",
      "(0,)\n",
      "(0,)\n",
      "(0,)\n",
      "(1,)\n",
      "(0,)\n",
      "(0,)\n",
      "(0,)\n",
      "(0,)\n",
      "(0,)\n"
     ]
    },
    {
     "name": "stderr",
     "output_type": "stream",
     "text": [
      " 41%|████      | 80/197 [00:35<00:51,  2.29it/s]"
     ]
    },
    {
     "name": "stdout",
     "output_type": "stream",
     "text": [
      "(0,)\n",
      "(1,)\n",
      "(1,)\n",
      "(0,)\n",
      "(0,)\n",
      "(0,)\n",
      "(0,)\n",
      "(1,)\n",
      "(1,)\n",
      "(1,)\n",
      "(1,)\n",
      "(0,)\n",
      "(0,)\n",
      "(0,)\n",
      "(0,)\n",
      "(1,)\n",
      "(0,)\n",
      "(1,)\n",
      "(1,)\n",
      "(1,)\n",
      "(1,)\n",
      "(0,)\n",
      "(0,)\n",
      "(1,)\n"
     ]
    },
    {
     "name": "stderr",
     "output_type": "stream",
     "text": [
      " 41%|████      | 81/197 [00:36<00:50,  2.30it/s]"
     ]
    },
    {
     "name": "stdout",
     "output_type": "stream",
     "text": [
      "(1,)\n",
      "(0,)\n",
      "(0,)\n",
      "(1,)\n",
      "(2,)\n",
      "(0,)\n",
      "(0,)\n",
      "(0,)\n",
      "(0,)\n",
      "(0,)\n",
      "(0,)\n",
      "(0,)\n",
      "(1,)\n",
      "(1,)\n",
      "(0,)\n",
      "(0,)\n",
      "(1,)\n",
      "(1,)\n",
      "(0,)\n",
      "(0,)\n",
      "(0,)\n",
      "(1,)\n",
      "(0,)\n",
      "(0,)\n"
     ]
    },
    {
     "name": "stderr",
     "output_type": "stream",
     "text": [
      " 42%|████▏     | 82/197 [00:36<00:49,  2.31it/s]"
     ]
    },
    {
     "name": "stdout",
     "output_type": "stream",
     "text": [
      "(0,)\n",
      "(1,)\n",
      "(1,)\n",
      "(0,)\n",
      "(0,)\n",
      "(0,)\n",
      "(1,)\n",
      "(0,)\n",
      "(0,)\n",
      "(0,)\n",
      "(0,)\n",
      "(1,)\n",
      "(2,)\n",
      "(0,)\n",
      "(0,)\n",
      "(1,)\n",
      "(0,)\n",
      "(0,)\n",
      "(1,)\n",
      "(0,)\n",
      "(3,)\n",
      "(2,)\n",
      "(0,)\n",
      "(0,)\n"
     ]
    },
    {
     "name": "stderr",
     "output_type": "stream",
     "text": [
      " 42%|████▏     | 83/197 [00:37<00:49,  2.31it/s]"
     ]
    },
    {
     "name": "stdout",
     "output_type": "stream",
     "text": [
      "(1,)\n",
      "(0,)\n",
      "(1,)\n",
      "(0,)\n",
      "(0,)\n",
      "(0,)\n",
      "(1,)\n",
      "(0,)\n",
      "(0,)\n",
      "(0,)\n",
      "(1,)\n",
      "(0,)\n",
      "(0,)\n",
      "(0,)\n",
      "(0,)\n",
      "(1,)\n",
      "(1,)\n",
      "(0,)\n",
      "(2,)\n",
      "(1,)\n",
      "(0,)\n",
      "(0,)\n",
      "(1,)\n",
      "(0,)\n"
     ]
    },
    {
     "name": "stderr",
     "output_type": "stream",
     "text": [
      " 43%|████▎     | 84/197 [00:37<00:49,  2.29it/s]"
     ]
    },
    {
     "name": "stdout",
     "output_type": "stream",
     "text": [
      "(1,)\n",
      "(0,)\n",
      "(0,)\n",
      "(1,)\n",
      "(1,)\n",
      "(1,)\n",
      "(0,)\n",
      "(0,)\n",
      "(3,)\n",
      "(0,)\n",
      "(1,)\n",
      "(1,)\n",
      "(0,)\n",
      "(1,)\n",
      "(1,)\n",
      "(1,)\n",
      "(0,)\n",
      "(0,)\n",
      "(0,)\n",
      "(0,)\n",
      "(1,)\n",
      "(2,)\n",
      "(4,)\n",
      "(0,)\n"
     ]
    },
    {
     "name": "stderr",
     "output_type": "stream",
     "text": [
      " 43%|████▎     | 85/197 [00:37<00:48,  2.29it/s]"
     ]
    },
    {
     "name": "stdout",
     "output_type": "stream",
     "text": [
      "(0,)\n",
      "(1,)\n",
      "(0,)\n",
      "(0,)\n",
      "(2,)\n",
      "(1,)\n",
      "(2,)\n",
      "(0,)\n",
      "(0,)\n",
      "(1,)\n",
      "(0,)\n",
      "(1,)\n",
      "(0,)\n",
      "(0,)\n",
      "(1,)\n",
      "(1,)\n",
      "(0,)\n",
      "(1,)\n",
      "(0,)\n",
      "(0,)\n",
      "(1,)\n",
      "(0,)\n",
      "(0,)\n",
      "(0,)\n"
     ]
    },
    {
     "name": "stderr",
     "output_type": "stream",
     "text": [
      " 44%|████▎     | 86/197 [00:38<00:48,  2.29it/s]"
     ]
    },
    {
     "name": "stdout",
     "output_type": "stream",
     "text": [
      "(1,)\n",
      "(1,)\n",
      "(1,)\n",
      "(0,)\n",
      "(1,)\n",
      "(0,)\n",
      "(1,)\n",
      "(0,)\n",
      "(1,)\n",
      "(0,)\n",
      "(1,)\n",
      "(2,)\n",
      "(1,)\n",
      "(0,)\n",
      "(2,)\n",
      "(1,)\n",
      "(0,)\n",
      "(0,)\n",
      "(0,)\n",
      "(0,)\n",
      "(0,)\n",
      "(0,)\n",
      "(0,)\n",
      "(0,)\n"
     ]
    },
    {
     "name": "stderr",
     "output_type": "stream",
     "text": [
      " 44%|████▍     | 87/197 [00:38<00:47,  2.29it/s]"
     ]
    },
    {
     "name": "stdout",
     "output_type": "stream",
     "text": [
      "(0,)\n",
      "(1,)\n",
      "(0,)\n",
      "(0,)\n",
      "(1,)\n",
      "(1,)\n",
      "(0,)\n",
      "(0,)\n",
      "(1,)\n",
      "(1,)\n",
      "(0,)\n",
      "(0,)\n",
      "(0,)\n",
      "(0,)\n",
      "(1,)\n",
      "(3,)\n",
      "(1,)\n",
      "(2,)\n",
      "(2,)\n",
      "(1,)\n",
      "(0,)\n",
      "(0,)\n",
      "(0,)\n",
      "(1,)\n"
     ]
    },
    {
     "name": "stderr",
     "output_type": "stream",
     "text": [
      " 45%|████▍     | 88/197 [00:39<00:47,  2.30it/s]"
     ]
    },
    {
     "name": "stdout",
     "output_type": "stream",
     "text": [
      "(0,)\n",
      "(2,)\n",
      "(1,)\n",
      "(2,)\n",
      "(0,)\n",
      "(0,)\n",
      "(0,)\n",
      "(0,)\n",
      "(0,)\n",
      "(1,)\n",
      "(0,)\n",
      "(0,)\n",
      "(1,)\n",
      "(1,)\n",
      "(0,)\n",
      "(0,)\n",
      "(1,)\n",
      "(0,)\n",
      "(0,)\n",
      "(0,)\n",
      "(1,)\n",
      "(0,)\n",
      "(0,)\n",
      "(1,)\n"
     ]
    },
    {
     "name": "stderr",
     "output_type": "stream",
     "text": [
      " 45%|████▌     | 89/197 [00:39<00:46,  2.30it/s]"
     ]
    },
    {
     "name": "stdout",
     "output_type": "stream",
     "text": [
      "(0,)\n",
      "(0,)\n",
      "(2,)\n",
      "(0,)\n",
      "(0,)\n",
      "(1,)\n",
      "(2,)\n",
      "(1,)\n",
      "(0,)\n",
      "(0,)\n",
      "(0,)\n",
      "(0,)\n",
      "(1,)\n",
      "(0,)\n",
      "(0,)\n",
      "(0,)\n",
      "(0,)\n",
      "(0,)\n",
      "(1,)\n",
      "(1,)\n",
      "(2,)\n",
      "(1,)\n",
      "(1,)\n",
      "(0,)\n"
     ]
    },
    {
     "name": "stderr",
     "output_type": "stream",
     "text": [
      " 46%|████▌     | 90/197 [00:40<00:46,  2.31it/s]"
     ]
    },
    {
     "name": "stdout",
     "output_type": "stream",
     "text": [
      "(0,)\n",
      "(1,)\n",
      "(0,)\n",
      "(0,)\n",
      "(0,)\n",
      "(1,)\n",
      "(1,)\n",
      "(1,)\n",
      "(0,)\n",
      "(0,)\n",
      "(0,)\n",
      "(0,)\n",
      "(1,)\n",
      "(1,)\n",
      "(0,)\n",
      "(0,)\n",
      "(0,)\n",
      "(0,)\n",
      "(0,)\n",
      "(0,)\n",
      "(0,)\n",
      "(0,)\n",
      "(0,)\n",
      "(0,)\n"
     ]
    },
    {
     "name": "stderr",
     "output_type": "stream",
     "text": [
      " 46%|████▌     | 91/197 [00:40<00:45,  2.31it/s]"
     ]
    },
    {
     "name": "stdout",
     "output_type": "stream",
     "text": [
      "(0,)\n",
      "(1,)\n",
      "(0,)\n",
      "(0,)\n",
      "(0,)\n",
      "(0,)\n",
      "(0,)\n",
      "(0,)\n",
      "(1,)\n",
      "(1,)\n",
      "(1,)\n",
      "(1,)\n",
      "(1,)\n",
      "(1,)\n",
      "(0,)\n",
      "(0,)\n",
      "(1,)\n",
      "(0,)\n",
      "(0,)\n",
      "(0,)\n",
      "(0,)\n",
      "(0,)\n",
      "(0,)\n",
      "(0,)\n"
     ]
    },
    {
     "name": "stderr",
     "output_type": "stream",
     "text": [
      " 47%|████▋     | 92/197 [00:40<00:45,  2.29it/s]"
     ]
    },
    {
     "name": "stdout",
     "output_type": "stream",
     "text": [
      "(3,)\n",
      "(1,)\n",
      "(0,)\n",
      "(0,)\n",
      "(0,)\n",
      "(1,)\n",
      "(1,)\n",
      "(1,)\n",
      "(0,)\n",
      "(1,)\n",
      "(1,)\n",
      "(1,)\n",
      "(0,)\n",
      "(0,)\n",
      "(2,)\n",
      "(1,)\n",
      "(2,)\n",
      "(1,)\n",
      "(0,)\n",
      "(0,)\n",
      "(0,)\n",
      "(1,)\n",
      "(1,)\n",
      "(1,)\n"
     ]
    },
    {
     "name": "stderr",
     "output_type": "stream",
     "text": [
      " 47%|████▋     | 93/197 [00:41<00:45,  2.29it/s]"
     ]
    },
    {
     "name": "stdout",
     "output_type": "stream",
     "text": [
      "(0,)\n",
      "(1,)\n",
      "(0,)\n",
      "(0,)\n",
      "(0,)\n",
      "(2,)\n",
      "(0,)\n",
      "(1,)\n",
      "(1,)\n",
      "(0,)\n",
      "(1,)\n",
      "(0,)\n",
      "(2,)\n",
      "(1,)\n",
      "(1,)\n",
      "(0,)\n",
      "(0,)\n",
      "(1,)\n",
      "(1,)\n",
      "(2,)\n",
      "(1,)\n",
      "(0,)\n",
      "(1,)\n",
      "(0,)\n"
     ]
    },
    {
     "name": "stderr",
     "output_type": "stream",
     "text": [
      " 48%|████▊     | 94/197 [00:41<00:44,  2.29it/s]"
     ]
    },
    {
     "name": "stdout",
     "output_type": "stream",
     "text": [
      "(1,)\n",
      "(0,)\n",
      "(1,)\n",
      "(0,)\n",
      "(0,)\n",
      "(0,)\n",
      "(0,)\n",
      "(0,)\n",
      "(0,)\n",
      "(1,)\n",
      "(0,)\n",
      "(0,)\n",
      "(0,)\n",
      "(0,)\n",
      "(1,)\n",
      "(0,)\n",
      "(1,)\n",
      "(1,)\n",
      "(1,)\n",
      "(1,)\n",
      "(2,)\n",
      "(2,)\n",
      "(1,)\n",
      "(1,)\n"
     ]
    },
    {
     "name": "stderr",
     "output_type": "stream",
     "text": [
      " 48%|████▊     | 95/197 [00:42<00:44,  2.30it/s]"
     ]
    },
    {
     "name": "stdout",
     "output_type": "stream",
     "text": [
      "(0,)\n",
      "(0,)\n",
      "(1,)\n",
      "(1,)\n",
      "(0,)\n",
      "(0,)\n",
      "(0,)\n",
      "(1,)\n",
      "(0,)\n",
      "(0,)\n",
      "(0,)\n",
      "(0,)\n",
      "(0,)\n",
      "(0,)\n",
      "(0,)\n",
      "(0,)\n",
      "(1,)\n",
      "(1,)\n",
      "(1,)\n",
      "(2,)\n",
      "(1,)\n",
      "(0,)\n",
      "(0,)\n",
      "(0,)\n"
     ]
    },
    {
     "name": "stderr",
     "output_type": "stream",
     "text": [
      " 49%|████▊     | 96/197 [00:42<00:43,  2.30it/s]"
     ]
    },
    {
     "name": "stdout",
     "output_type": "stream",
     "text": [
      "(1,)\n",
      "(0,)\n",
      "(1,)\n",
      "(0,)\n",
      "(3,)\n",
      "(1,)\n",
      "(2,)\n",
      "(2,)\n",
      "(1,)\n",
      "(1,)\n",
      "(0,)\n",
      "(0,)\n",
      "(0,)\n",
      "(0,)\n",
      "(0,)\n",
      "(0,)\n",
      "(0,)\n",
      "(0,)\n",
      "(1,)\n",
      "(1,)\n",
      "(1,)\n",
      "(0,)\n",
      "(1,)\n",
      "(0,)\n"
     ]
    },
    {
     "name": "stderr",
     "output_type": "stream",
     "text": [
      " 49%|████▉     | 97/197 [00:43<00:43,  2.28it/s]"
     ]
    },
    {
     "name": "stdout",
     "output_type": "stream",
     "text": [
      "(0,)\n",
      "(2,)\n",
      "(1,)\n",
      "(0,)\n",
      "(0,)\n",
      "(0,)\n",
      "(0,)\n",
      "(1,)\n",
      "(0,)\n",
      "(1,)\n",
      "(1,)\n",
      "(0,)\n",
      "(1,)\n",
      "(0,)\n",
      "(2,)\n",
      "(0,)\n",
      "(0,)\n",
      "(2,)\n",
      "(0,)\n",
      "(0,)\n",
      "(1,)\n",
      "(0,)\n",
      "(0,)\n",
      "(0,)\n"
     ]
    },
    {
     "name": "stderr",
     "output_type": "stream",
     "text": [
      " 50%|████▉     | 98/197 [00:43<00:42,  2.31it/s]"
     ]
    },
    {
     "name": "stdout",
     "output_type": "stream",
     "text": [
      "(2,)\n",
      "(1,)\n",
      "(0,)\n",
      "(0,)\n",
      "(1,)\n",
      "(1,)\n",
      "(0,)\n",
      "(1,)\n",
      "(1,)\n",
      "(0,)\n",
      "(0,)\n",
      "(0,)\n",
      "(0,)\n",
      "(0,)\n",
      "(1,)\n",
      "(0,)\n",
      "(0,)\n",
      "(0,)\n",
      "(0,)\n",
      "(0,)\n",
      "(0,)\n",
      "(0,)\n",
      "(0,)\n",
      "(0,)\n"
     ]
    },
    {
     "name": "stderr",
     "output_type": "stream",
     "text": [
      " 50%|█████     | 99/197 [00:43<00:42,  2.31it/s]"
     ]
    },
    {
     "name": "stdout",
     "output_type": "stream",
     "text": [
      "(1,)\n",
      "(0,)\n",
      "(0,)\n",
      "(1,)\n",
      "(0,)\n",
      "(1,)\n",
      "(3,)\n",
      "(1,)\n",
      "(0,)\n",
      "(1,)\n",
      "(0,)\n",
      "(1,)\n",
      "(0,)\n",
      "(0,)\n",
      "(1,)\n",
      "(1,)\n",
      "(0,)\n",
      "(0,)\n",
      "(1,)\n",
      "(1,)\n",
      "(1,)\n",
      "(0,)\n",
      "(0,)\n",
      "(1,)\n"
     ]
    },
    {
     "name": "stderr",
     "output_type": "stream",
     "text": [
      " 51%|█████     | 100/197 [00:44<00:42,  2.30it/s]"
     ]
    },
    {
     "name": "stdout",
     "output_type": "stream",
     "text": [
      "(0,)\n",
      "(1,)\n",
      "(0,)\n",
      "(1,)\n",
      "(0,)\n",
      "(0,)\n",
      "(0,)\n",
      "(0,)\n",
      "(0,)\n",
      "(1,)\n",
      "(1,)\n",
      "(0,)\n",
      "(0,)\n",
      "(1,)\n",
      "(1,)\n",
      "(0,)\n",
      "(1,)\n",
      "(1,)\n",
      "(0,)\n",
      "(0,)\n",
      "(1,)\n",
      "(0,)\n",
      "(0,)\n",
      "(0,)\n"
     ]
    },
    {
     "name": "stderr",
     "output_type": "stream",
     "text": [
      " 51%|█████▏    | 101/197 [00:44<00:41,  2.29it/s]"
     ]
    },
    {
     "name": "stdout",
     "output_type": "stream",
     "text": [
      "(1,)\n",
      "(1,)\n",
      "(1,)\n",
      "(0,)\n",
      "(1,)\n",
      "(1,)\n",
      "(3,)\n",
      "(3,)\n",
      "(2,)\n",
      "(0,)\n",
      "(1,)\n",
      "(0,)\n",
      "(1,)\n",
      "(1,)\n",
      "(0,)\n",
      "(1,)\n",
      "(1,)\n",
      "(1,)\n",
      "(1,)\n",
      "(1,)\n",
      "(0,)\n",
      "(0,)\n",
      "(1,)\n",
      "(0,)\n"
     ]
    },
    {
     "name": "stderr",
     "output_type": "stream",
     "text": [
      " 52%|█████▏    | 102/197 [00:45<00:41,  2.31it/s]"
     ]
    },
    {
     "name": "stdout",
     "output_type": "stream",
     "text": [
      "(0,)\n",
      "(1,)\n",
      "(1,)\n",
      "(0,)\n",
      "(0,)\n",
      "(1,)\n",
      "(0,)\n",
      "(0,)\n",
      "(1,)\n",
      "(0,)\n",
      "(0,)\n",
      "(0,)\n",
      "(0,)\n",
      "(0,)\n",
      "(0,)\n",
      "(0,)\n",
      "(0,)\n",
      "(0,)\n",
      "(0,)\n",
      "(0,)\n",
      "(1,)\n",
      "(0,)\n",
      "(1,)\n",
      "(0,)\n"
     ]
    },
    {
     "name": "stderr",
     "output_type": "stream",
     "text": [
      " 52%|█████▏    | 103/197 [00:45<00:40,  2.31it/s]"
     ]
    },
    {
     "name": "stdout",
     "output_type": "stream",
     "text": [
      "(1,)\n",
      "(3,)\n",
      "(0,)\n",
      "(1,)\n",
      "(1,)\n",
      "(1,)\n",
      "(1,)\n",
      "(0,)\n",
      "(0,)\n",
      "(0,)\n",
      "(0,)\n",
      "(1,)\n",
      "(0,)\n",
      "(0,)\n",
      "(1,)\n",
      "(0,)\n",
      "(0,)\n",
      "(1,)\n",
      "(1,)\n",
      "(1,)\n",
      "(0,)\n",
      "(0,)\n",
      "(0,)\n",
      "(0,)\n"
     ]
    },
    {
     "name": "stderr",
     "output_type": "stream",
     "text": [
      " 53%|█████▎    | 104/197 [00:46<00:40,  2.31it/s]"
     ]
    },
    {
     "name": "stdout",
     "output_type": "stream",
     "text": [
      "(1,)\n",
      "(0,)\n",
      "(1,)\n",
      "(0,)\n",
      "(0,)\n",
      "(1,)\n",
      "(0,)\n",
      "(1,)\n",
      "(2,)\n",
      "(1,)\n",
      "(4,)\n",
      "(0,)\n",
      "(2,)\n",
      "(0,)\n",
      "(0,)\n",
      "(1,)\n",
      "(0,)\n",
      "(0,)\n",
      "(1,)\n",
      "(1,)\n",
      "(0,)\n",
      "(0,)\n",
      "(1,)\n",
      "(0,)\n"
     ]
    },
    {
     "name": "stderr",
     "output_type": "stream",
     "text": [
      " 53%|█████▎    | 105/197 [00:46<00:39,  2.32it/s]"
     ]
    },
    {
     "name": "stdout",
     "output_type": "stream",
     "text": [
      "(0,)\n",
      "(0,)\n",
      "(0,)\n",
      "(0,)\n",
      "(0,)\n",
      "(1,)\n",
      "(1,)\n",
      "(2,)\n",
      "(2,)\n",
      "(1,)\n",
      "(0,)\n",
      "(0,)\n",
      "(1,)\n",
      "(0,)\n",
      "(0,)\n",
      "(0,)\n",
      "(0,)\n",
      "(1,)\n",
      "(0,)\n",
      "(0,)\n",
      "(1,)\n",
      "(0,)\n",
      "(1,)\n",
      "(0,)\n"
     ]
    },
    {
     "name": "stderr",
     "output_type": "stream",
     "text": [
      " 54%|█████▍    | 106/197 [00:47<00:39,  2.31it/s]"
     ]
    },
    {
     "name": "stdout",
     "output_type": "stream",
     "text": [
      "(0,)\n",
      "(0,)\n",
      "(2,)\n",
      "(0,)\n",
      "(0,)\n",
      "(0,)\n",
      "(1,)\n",
      "(2,)\n",
      "(1,)\n",
      "(2,)\n",
      "(0,)\n",
      "(1,)\n",
      "(0,)\n",
      "(0,)\n",
      "(0,)\n",
      "(1,)\n",
      "(1,)\n",
      "(1,)\n",
      "(2,)\n",
      "(1,)\n",
      "(1,)\n",
      "(0,)\n",
      "(1,)\n",
      "(1,)\n"
     ]
    },
    {
     "name": "stderr",
     "output_type": "stream",
     "text": [
      " 54%|█████▍    | 107/197 [00:47<00:38,  2.32it/s]"
     ]
    },
    {
     "name": "stdout",
     "output_type": "stream",
     "text": [
      "(0,)\n",
      "(1,)\n",
      "(0,)\n",
      "(1,)\n",
      "(1,)\n",
      "(0,)\n",
      "(0,)\n",
      "(0,)\n",
      "(1,)\n",
      "(0,)\n",
      "(0,)\n",
      "(1,)\n",
      "(1,)\n",
      "(1,)\n",
      "(1,)\n",
      "(0,)\n",
      "(0,)\n",
      "(0,)\n",
      "(0,)\n",
      "(0,)\n",
      "(1,)\n",
      "(0,)\n",
      "(0,)\n",
      "(1,)\n"
     ]
    },
    {
     "name": "stderr",
     "output_type": "stream",
     "text": [
      " 55%|█████▍    | 108/197 [00:47<00:38,  2.32it/s]"
     ]
    },
    {
     "name": "stdout",
     "output_type": "stream",
     "text": [
      "(0,)\n",
      "(0,)\n",
      "(1,)\n",
      "(0,)\n",
      "(0,)\n",
      "(0,)\n",
      "(3,)\n",
      "(0,)\n",
      "(0,)\n",
      "(1,)\n",
      "(0,)\n",
      "(1,)\n",
      "(1,)\n",
      "(0,)\n",
      "(0,)\n",
      "(0,)\n",
      "(0,)\n",
      "(1,)\n",
      "(0,)\n",
      "(1,)\n",
      "(1,)\n",
      "(3,)\n",
      "(1,)\n",
      "(0,)\n"
     ]
    },
    {
     "name": "stderr",
     "output_type": "stream",
     "text": [
      " 55%|█████▌    | 109/197 [00:48<00:38,  2.29it/s]"
     ]
    },
    {
     "name": "stdout",
     "output_type": "stream",
     "text": [
      "(1,)\n",
      "(0,)\n",
      "(0,)\n",
      "(1,)\n",
      "(1,)\n",
      "(0,)\n",
      "(0,)\n",
      "(0,)\n",
      "(1,)\n",
      "(0,)\n",
      "(0,)\n",
      "(0,)\n",
      "(1,)\n",
      "(0,)\n",
      "(1,)\n",
      "(1,)\n",
      "(0,)\n",
      "(1,)\n",
      "(0,)\n",
      "(1,)\n",
      "(1,)\n",
      "(1,)\n",
      "(0,)\n",
      "(1,)\n"
     ]
    },
    {
     "name": "stderr",
     "output_type": "stream",
     "text": [
      " 56%|█████▌    | 110/197 [00:48<00:38,  2.28it/s]"
     ]
    },
    {
     "name": "stdout",
     "output_type": "stream",
     "text": [
      "(1,)\n",
      "(2,)\n",
      "(0,)\n",
      "(1,)\n",
      "(2,)\n",
      "(0,)\n",
      "(0,)\n",
      "(1,)\n",
      "(0,)\n",
      "(1,)\n",
      "(0,)\n",
      "(2,)\n",
      "(0,)\n",
      "(1,)\n",
      "(1,)\n",
      "(1,)\n",
      "(1,)\n",
      "(1,)\n",
      "(0,)\n",
      "(0,)\n",
      "(1,)\n",
      "(0,)\n",
      "(0,)\n",
      "(0,)\n"
     ]
    },
    {
     "name": "stderr",
     "output_type": "stream",
     "text": [
      " 56%|█████▋    | 111/197 [00:49<00:37,  2.30it/s]"
     ]
    },
    {
     "name": "stdout",
     "output_type": "stream",
     "text": [
      "(1,)\n",
      "(0,)\n",
      "(0,)\n",
      "(0,)\n",
      "(1,)\n",
      "(0,)\n",
      "(1,)\n",
      "(0,)\n",
      "(0,)\n",
      "(0,)\n",
      "(2,)\n",
      "(0,)\n",
      "(1,)\n",
      "(1,)\n",
      "(0,)\n",
      "(0,)\n",
      "(0,)\n",
      "(0,)\n",
      "(0,)\n",
      "(0,)\n",
      "(1,)\n",
      "(0,)\n",
      "(0,)\n",
      "(0,)\n"
     ]
    },
    {
     "name": "stderr",
     "output_type": "stream",
     "text": [
      " 57%|█████▋    | 112/197 [00:49<00:36,  2.32it/s]"
     ]
    },
    {
     "name": "stdout",
     "output_type": "stream",
     "text": [
      "(0,)\n",
      "(1,)\n",
      "(0,)\n",
      "(0,)\n",
      "(1,)\n",
      "(0,)\n",
      "(0,)\n",
      "(0,)\n",
      "(0,)\n",
      "(0,)\n",
      "(1,)\n",
      "(1,)\n",
      "(0,)\n",
      "(1,)\n",
      "(0,)\n",
      "(1,)\n",
      "(0,)\n",
      "(0,)\n",
      "(0,)\n",
      "(1,)\n",
      "(1,)\n",
      "(0,)\n",
      "(0,)\n",
      "(0,)\n"
     ]
    },
    {
     "name": "stderr",
     "output_type": "stream",
     "text": [
      " 57%|█████▋    | 113/197 [00:50<00:36,  2.32it/s]"
     ]
    },
    {
     "name": "stdout",
     "output_type": "stream",
     "text": [
      "(0,)\n",
      "(0,)\n",
      "(0,)\n",
      "(0,)\n",
      "(1,)\n",
      "(0,)\n",
      "(0,)\n",
      "(1,)\n",
      "(1,)\n",
      "(0,)\n",
      "(1,)\n",
      "(3,)\n",
      "(0,)\n",
      "(1,)\n",
      "(0,)\n",
      "(0,)\n",
      "(1,)\n",
      "(2,)\n",
      "(2,)\n",
      "(0,)\n",
      "(1,)\n",
      "(0,)\n",
      "(0,)\n",
      "(0,)\n"
     ]
    },
    {
     "name": "stderr",
     "output_type": "stream",
     "text": [
      " 58%|█████▊    | 114/197 [00:50<00:35,  2.32it/s]"
     ]
    },
    {
     "name": "stdout",
     "output_type": "stream",
     "text": [
      "(1,)\n",
      "(1,)\n",
      "(2,)\n",
      "(0,)\n",
      "(0,)\n",
      "(0,)\n",
      "(1,)\n",
      "(0,)\n",
      "(0,)\n",
      "(0,)\n",
      "(1,)\n",
      "(0,)\n",
      "(1,)\n",
      "(0,)\n",
      "(1,)\n",
      "(1,)\n",
      "(1,)\n",
      "(2,)\n",
      "(1,)\n",
      "(0,)\n",
      "(0,)\n",
      "(0,)\n",
      "(1,)\n",
      "(0,)\n"
     ]
    },
    {
     "name": "stderr",
     "output_type": "stream",
     "text": [
      " 58%|█████▊    | 115/197 [00:50<00:35,  2.31it/s]"
     ]
    },
    {
     "name": "stdout",
     "output_type": "stream",
     "text": [
      "(0,)\n",
      "(0,)\n",
      "(0,)\n",
      "(1,)\n",
      "(0,)\n",
      "(1,)\n",
      "(0,)\n",
      "(2,)\n",
      "(1,)\n",
      "(1,)\n",
      "(1,)\n",
      "(1,)\n",
      "(1,)\n",
      "(0,)\n",
      "(0,)\n",
      "(1,)\n",
      "(3,)\n",
      "(1,)\n",
      "(1,)\n",
      "(1,)\n",
      "(1,)\n",
      "(1,)\n",
      "(0,)\n",
      "(1,)\n"
     ]
    },
    {
     "name": "stderr",
     "output_type": "stream",
     "text": [
      " 59%|█████▉    | 116/197 [00:51<00:35,  2.31it/s]"
     ]
    },
    {
     "name": "stdout",
     "output_type": "stream",
     "text": [
      "(1,)\n",
      "(0,)\n",
      "(0,)\n",
      "(1,)\n",
      "(1,)\n",
      "(0,)\n",
      "(0,)\n",
      "(0,)\n",
      "(1,)\n",
      "(1,)\n",
      "(0,)\n",
      "(1,)\n",
      "(0,)\n",
      "(0,)\n",
      "(0,)\n",
      "(1,)\n",
      "(1,)\n",
      "(0,)\n",
      "(0,)\n",
      "(0,)\n",
      "(0,)\n",
      "(1,)\n",
      "(0,)\n",
      "(0,)\n"
     ]
    },
    {
     "name": "stderr",
     "output_type": "stream",
     "text": [
      " 59%|█████▉    | 117/197 [00:51<00:34,  2.30it/s]"
     ]
    },
    {
     "name": "stdout",
     "output_type": "stream",
     "text": [
      "(1,)\n",
      "(1,)\n",
      "(1,)\n",
      "(1,)\n",
      "(1,)\n",
      "(1,)\n",
      "(1,)\n",
      "(0,)\n",
      "(1,)\n",
      "(0,)\n",
      "(0,)\n",
      "(0,)\n",
      "(0,)\n",
      "(0,)\n",
      "(0,)\n",
      "(0,)\n",
      "(2,)\n",
      "(1,)\n",
      "(1,)\n",
      "(1,)\n",
      "(0,)\n",
      "(0,)\n",
      "(1,)\n",
      "(0,)\n"
     ]
    },
    {
     "name": "stderr",
     "output_type": "stream",
     "text": [
      " 60%|█████▉    | 118/197 [00:52<00:34,  2.30it/s]"
     ]
    },
    {
     "name": "stdout",
     "output_type": "stream",
     "text": [
      "(0,)\n",
      "(0,)\n",
      "(1,)\n",
      "(0,)\n",
      "(0,)\n",
      "(0,)\n",
      "(1,)\n",
      "(0,)\n",
      "(0,)\n",
      "(0,)\n",
      "(0,)\n",
      "(0,)\n",
      "(0,)\n",
      "(1,)\n",
      "(0,)\n",
      "(0,)\n",
      "(0,)\n",
      "(1,)\n",
      "(1,)\n",
      "(0,)\n",
      "(0,)\n",
      "(1,)\n",
      "(0,)\n",
      "(1,)\n"
     ]
    },
    {
     "name": "stderr",
     "output_type": "stream",
     "text": [
      " 60%|██████    | 119/197 [00:52<00:33,  2.31it/s]"
     ]
    },
    {
     "name": "stdout",
     "output_type": "stream",
     "text": [
      "(0,)\n",
      "(0,)\n",
      "(1,)\n",
      "(2,)\n",
      "(0,)\n",
      "(0,)\n",
      "(2,)\n",
      "(0,)\n",
      "(1,)\n",
      "(0,)\n",
      "(0,)\n",
      "(0,)\n",
      "(0,)\n",
      "(0,)\n",
      "(1,)\n",
      "(0,)\n",
      "(0,)\n",
      "(0,)\n",
      "(1,)\n",
      "(0,)\n",
      "(0,)\n",
      "(0,)\n",
      "(1,)\n",
      "(0,)\n"
     ]
    },
    {
     "name": "stderr",
     "output_type": "stream",
     "text": [
      " 61%|██████    | 120/197 [00:53<00:33,  2.31it/s]"
     ]
    },
    {
     "name": "stdout",
     "output_type": "stream",
     "text": [
      "(0,)\n",
      "(1,)\n",
      "(1,)\n",
      "(0,)\n",
      "(0,)\n",
      "(8,)\n",
      "(1,)\n",
      "(1,)\n",
      "(0,)\n",
      "(0,)\n",
      "(1,)\n",
      "(1,)\n",
      "(0,)\n",
      "(1,)\n",
      "(1,)\n",
      "(1,)\n",
      "(1,)\n",
      "(0,)\n",
      "(0,)\n",
      "(1,)\n",
      "(2,)\n",
      "(0,)\n",
      "(3,)\n",
      "(0,)\n"
     ]
    },
    {
     "name": "stderr",
     "output_type": "stream",
     "text": [
      " 61%|██████▏   | 121/197 [00:53<00:33,  2.27it/s]"
     ]
    },
    {
     "name": "stdout",
     "output_type": "stream",
     "text": [
      "(1,)\n",
      "(1,)\n",
      "(0,)\n",
      "(1,)\n",
      "(0,)\n",
      "(0,)\n",
      "(1,)\n",
      "(1,)\n",
      "(3,)\n",
      "(3,)\n",
      "(2,)\n",
      "(0,)\n",
      "(1,)\n",
      "(1,)\n",
      "(2,)\n",
      "(0,)\n",
      "(1,)\n",
      "(0,)\n",
      "(1,)\n",
      "(2,)\n",
      "(0,)\n",
      "(0,)\n",
      "(0,)\n",
      "(1,)\n"
     ]
    },
    {
     "name": "stderr",
     "output_type": "stream",
     "text": [
      " 62%|██████▏   | 122/197 [00:53<00:33,  2.26it/s]"
     ]
    },
    {
     "name": "stdout",
     "output_type": "stream",
     "text": [
      "(0,)\n",
      "(1,)\n",
      "(0,)\n",
      "(1,)\n",
      "(1,)\n",
      "(1,)\n",
      "(0,)\n",
      "(1,)\n",
      "(2,)\n",
      "(1,)\n",
      "(1,)\n",
      "(0,)\n",
      "(2,)\n",
      "(0,)\n",
      "(0,)\n",
      "(0,)\n",
      "(0,)\n",
      "(1,)\n",
      "(0,)\n",
      "(0,)\n",
      "(1,)\n",
      "(0,)\n",
      "(1,)\n",
      "(0,)\n"
     ]
    },
    {
     "name": "stderr",
     "output_type": "stream",
     "text": [
      " 62%|██████▏   | 123/197 [00:54<00:32,  2.27it/s]"
     ]
    },
    {
     "name": "stdout",
     "output_type": "stream",
     "text": [
      "(1,)\n",
      "(1,)\n",
      "(0,)\n",
      "(1,)\n",
      "(0,)\n",
      "(0,)\n",
      "(0,)\n",
      "(1,)\n",
      "(0,)\n",
      "(0,)\n",
      "(1,)\n",
      "(1,)\n",
      "(0,)\n",
      "(1,)\n",
      "(1,)\n",
      "(0,)\n",
      "(2,)\n",
      "(1,)\n",
      "(0,)\n",
      "(0,)\n",
      "(0,)\n",
      "(0,)\n",
      "(1,)\n",
      "(2,)\n"
     ]
    },
    {
     "name": "stderr",
     "output_type": "stream",
     "text": [
      " 63%|██████▎   | 124/197 [00:54<00:32,  2.24it/s]"
     ]
    },
    {
     "name": "stdout",
     "output_type": "stream",
     "text": [
      "(1,)\n",
      "(1,)\n",
      "(2,)\n",
      "(0,)\n",
      "(1,)\n",
      "(1,)\n",
      "(0,)\n",
      "(1,)\n",
      "(0,)\n",
      "(0,)\n",
      "(1,)\n",
      "(1,)\n",
      "(1,)\n",
      "(0,)\n",
      "(1,)\n",
      "(1,)\n",
      "(0,)\n",
      "(1,)\n",
      "(0,)\n",
      "(1,)\n",
      "(1,)\n",
      "(0,)\n",
      "(1,)\n",
      "(0,)\n"
     ]
    },
    {
     "name": "stderr",
     "output_type": "stream",
     "text": [
      " 63%|██████▎   | 125/197 [00:55<00:31,  2.25it/s]"
     ]
    },
    {
     "name": "stdout",
     "output_type": "stream",
     "text": [
      "(0,)\n",
      "(1,)\n",
      "(1,)\n",
      "(0,)\n",
      "(1,)\n",
      "(1,)\n",
      "(0,)\n",
      "(0,)\n",
      "(0,)\n",
      "(1,)\n",
      "(0,)\n",
      "(1,)\n",
      "(1,)\n",
      "(3,)\n",
      "(3,)\n",
      "(1,)\n",
      "(3,)\n",
      "(1,)\n",
      "(0,)\n",
      "(1,)\n",
      "(0,)\n",
      "(1,)\n",
      "(0,)\n",
      "(1,)\n"
     ]
    },
    {
     "name": "stderr",
     "output_type": "stream",
     "text": [
      " 64%|██████▍   | 126/197 [00:55<00:31,  2.28it/s]"
     ]
    },
    {
     "name": "stdout",
     "output_type": "stream",
     "text": [
      "(2,)\n",
      "(2,)\n",
      "(0,)\n",
      "(1,)\n",
      "(0,)\n",
      "(0,)\n",
      "(1,)\n",
      "(0,)\n",
      "(0,)\n",
      "(1,)\n",
      "(0,)\n",
      "(1,)\n",
      "(1,)\n",
      "(0,)\n",
      "(1,)\n",
      "(0,)\n",
      "(0,)\n",
      "(1,)\n",
      "(0,)\n",
      "(1,)\n",
      "(0,)\n",
      "(0,)\n",
      "(1,)\n",
      "(0,)\n"
     ]
    },
    {
     "name": "stderr",
     "output_type": "stream",
     "text": [
      " 64%|██████▍   | 127/197 [00:56<00:30,  2.27it/s]"
     ]
    },
    {
     "name": "stdout",
     "output_type": "stream",
     "text": [
      "(0,)\n",
      "(0,)\n",
      "(0,)\n",
      "(0,)\n",
      "(2,)\n",
      "(1,)\n",
      "(1,)\n",
      "(2,)\n",
      "(0,)\n",
      "(1,)\n",
      "(0,)\n",
      "(1,)\n",
      "(0,)\n",
      "(0,)\n",
      "(1,)\n",
      "(0,)\n",
      "(0,)\n",
      "(0,)\n",
      "(1,)\n",
      "(1,)\n",
      "(1,)\n",
      "(2,)\n",
      "(1,)\n",
      "(1,)\n"
     ]
    },
    {
     "name": "stderr",
     "output_type": "stream",
     "text": [
      " 65%|██████▍   | 128/197 [00:56<00:30,  2.27it/s]"
     ]
    },
    {
     "name": "stdout",
     "output_type": "stream",
     "text": [
      "(0,)\n",
      "(0,)\n",
      "(1,)\n",
      "(1,)\n",
      "(1,)\n",
      "(1,)\n",
      "(0,)\n",
      "(1,)\n",
      "(0,)\n",
      "(0,)\n",
      "(1,)\n",
      "(0,)\n",
      "(0,)\n",
      "(1,)\n",
      "(0,)\n",
      "(0,)\n",
      "(0,)\n",
      "(0,)\n",
      "(1,)\n",
      "(1,)\n",
      "(0,)\n",
      "(0,)\n",
      "(0,)\n",
      "(1,)\n"
     ]
    },
    {
     "name": "stderr",
     "output_type": "stream",
     "text": [
      " 65%|██████▌   | 129/197 [00:57<00:29,  2.27it/s]"
     ]
    },
    {
     "name": "stdout",
     "output_type": "stream",
     "text": [
      "(0,)\n",
      "(0,)\n",
      "(1,)\n",
      "(0,)\n",
      "(0,)\n",
      "(1,)\n",
      "(0,)\n",
      "(0,)\n",
      "(0,)\n",
      "(0,)\n",
      "(1,)\n",
      "(0,)\n",
      "(0,)\n",
      "(0,)\n",
      "(1,)\n",
      "(1,)\n",
      "(0,)\n",
      "(0,)\n",
      "(0,)\n",
      "(0,)\n",
      "(1,)\n",
      "(1,)\n",
      "(1,)\n",
      "(0,)\n"
     ]
    },
    {
     "name": "stderr",
     "output_type": "stream",
     "text": [
      " 66%|██████▌   | 130/197 [00:57<00:29,  2.28it/s]"
     ]
    },
    {
     "name": "stdout",
     "output_type": "stream",
     "text": [
      "(0,)\n",
      "(1,)\n",
      "(0,)\n",
      "(0,)\n",
      "(2,)\n",
      "(0,)\n",
      "(0,)\n",
      "(0,)\n",
      "(1,)\n",
      "(0,)\n",
      "(0,)\n",
      "(0,)\n",
      "(0,)\n",
      "(0,)\n",
      "(0,)\n",
      "(0,)\n",
      "(1,)\n",
      "(0,)\n",
      "(1,)\n",
      "(0,)\n",
      "(1,)\n",
      "(0,)\n",
      "(0,)\n",
      "(0,)\n"
     ]
    },
    {
     "name": "stderr",
     "output_type": "stream",
     "text": [
      " 66%|██████▋   | 131/197 [00:57<00:28,  2.29it/s]"
     ]
    },
    {
     "name": "stdout",
     "output_type": "stream",
     "text": [
      "(0,)\n",
      "(0,)\n",
      "(0,)\n",
      "(1,)\n",
      "(0,)\n",
      "(0,)\n",
      "(0,)\n",
      "(0,)\n",
      "(0,)\n",
      "(0,)\n",
      "(2,)\n",
      "(1,)\n",
      "(1,)\n",
      "(0,)\n",
      "(0,)\n",
      "(0,)\n",
      "(0,)\n",
      "(0,)\n",
      "(1,)\n",
      "(1,)\n",
      "(1,)\n",
      "(0,)\n",
      "(0,)\n",
      "(0,)\n"
     ]
    },
    {
     "name": "stderr",
     "output_type": "stream",
     "text": [
      " 67%|██████▋   | 132/197 [00:58<00:28,  2.28it/s]"
     ]
    },
    {
     "name": "stdout",
     "output_type": "stream",
     "text": [
      "(0,)\n",
      "(0,)\n",
      "(0,)\n",
      "(1,)\n",
      "(0,)\n",
      "(1,)\n",
      "(0,)\n",
      "(0,)\n",
      "(0,)\n",
      "(0,)\n",
      "(0,)\n",
      "(1,)\n",
      "(0,)\n",
      "(1,)\n",
      "(2,)\n",
      "(0,)\n",
      "(1,)\n",
      "(1,)\n",
      "(1,)\n",
      "(2,)\n",
      "(2,)\n",
      "(0,)\n",
      "(0,)\n",
      "(0,)\n"
     ]
    },
    {
     "name": "stderr",
     "output_type": "stream",
     "text": [
      " 68%|██████▊   | 133/197 [00:58<00:28,  2.27it/s]"
     ]
    },
    {
     "name": "stdout",
     "output_type": "stream",
     "text": [
      "(0,)\n",
      "(0,)\n",
      "(1,)\n",
      "(0,)\n",
      "(0,)\n",
      "(1,)\n",
      "(1,)\n",
      "(1,)\n",
      "(1,)\n",
      "(0,)\n",
      "(0,)\n",
      "(1,)\n",
      "(0,)\n",
      "(1,)\n",
      "(0,)\n",
      "(0,)\n",
      "(1,)\n",
      "(0,)\n",
      "(1,)\n",
      "(0,)\n",
      "(0,)\n",
      "(2,)\n",
      "(1,)\n",
      "(1,)\n"
     ]
    },
    {
     "name": "stderr",
     "output_type": "stream",
     "text": [
      " 68%|██████▊   | 134/197 [00:59<00:27,  2.27it/s]"
     ]
    },
    {
     "name": "stdout",
     "output_type": "stream",
     "text": [
      "(1,)\n",
      "(0,)\n",
      "(1,)\n",
      "(0,)\n",
      "(1,)\n",
      "(1,)\n",
      "(0,)\n",
      "(1,)\n",
      "(1,)\n",
      "(0,)\n",
      "(1,)\n",
      "(1,)\n",
      "(2,)\n",
      "(1,)\n",
      "(3,)\n",
      "(0,)\n",
      "(1,)\n",
      "(0,)\n",
      "(0,)\n",
      "(1,)\n",
      "(0,)\n",
      "(0,)\n",
      "(1,)\n",
      "(1,)\n"
     ]
    },
    {
     "name": "stderr",
     "output_type": "stream",
     "text": [
      " 69%|██████▊   | 135/197 [00:59<00:27,  2.24it/s]"
     ]
    },
    {
     "name": "stdout",
     "output_type": "stream",
     "text": [
      "(1,)\n",
      "(1,)\n",
      "(1,)\n",
      "(1,)\n",
      "(0,)\n",
      "(1,)\n",
      "(0,)\n",
      "(0,)\n",
      "(0,)\n",
      "(1,)\n",
      "(0,)\n",
      "(1,)\n",
      "(0,)\n",
      "(0,)\n",
      "(0,)\n",
      "(0,)\n",
      "(1,)\n",
      "(1,)\n",
      "(1,)\n",
      "(1,)\n",
      "(1,)\n",
      "(0,)\n",
      "(2,)\n",
      "(0,)\n"
     ]
    },
    {
     "name": "stderr",
     "output_type": "stream",
     "text": [
      " 69%|██████▉   | 136/197 [01:00<00:27,  2.22it/s]"
     ]
    },
    {
     "name": "stdout",
     "output_type": "stream",
     "text": [
      "(1,)\n",
      "(2,)\n",
      "(0,)\n",
      "(0,)\n",
      "(0,)\n",
      "(0,)\n",
      "(1,)\n",
      "(8,)\n",
      "(0,)\n",
      "(0,)\n",
      "(1,)\n",
      "(0,)\n",
      "(3,)\n",
      "(0,)\n",
      "(0,)\n",
      "(0,)\n",
      "(0,)\n",
      "(1,)\n",
      "(0,)\n",
      "(0,)\n",
      "(0,)\n",
      "(2,)\n",
      "(5,)\n",
      "(0,)\n"
     ]
    },
    {
     "name": "stderr",
     "output_type": "stream",
     "text": [
      " 70%|██████▉   | 137/197 [01:00<00:26,  2.24it/s]"
     ]
    },
    {
     "name": "stdout",
     "output_type": "stream",
     "text": [
      "(4,)\n",
      "(1,)\n",
      "(0,)\n",
      "(1,)\n",
      "(1,)\n",
      "(0,)\n",
      "(1,)\n",
      "(0,)\n",
      "(0,)\n",
      "(4,)\n",
      "(0,)\n",
      "(4,)\n",
      "(0,)\n",
      "(0,)\n",
      "(0,)\n",
      "(1,)\n",
      "(2,)\n",
      "(0,)\n",
      "(0,)\n",
      "(4,)\n",
      "(4,)\n",
      "(1,)\n",
      "(4,)\n",
      "(0,)\n"
     ]
    },
    {
     "name": "stderr",
     "output_type": "stream",
     "text": [
      " 70%|███████   | 138/197 [01:01<00:26,  2.26it/s]"
     ]
    },
    {
     "name": "stdout",
     "output_type": "stream",
     "text": [
      "(0,)\n",
      "(0,)\n",
      "(2,)\n",
      "(0,)\n",
      "(1,)\n",
      "(0,)\n",
      "(1,)\n",
      "(4,)\n",
      "(4,)\n",
      "(1,)\n",
      "(5,)\n",
      "(0,)\n",
      "(0,)\n",
      "(1,)\n",
      "(1,)\n",
      "(1,)\n",
      "(0,)\n",
      "(2,)\n",
      "(0,)\n",
      "(2,)\n",
      "(0,)\n",
      "(1,)\n",
      "(0,)\n",
      "(0,)\n"
     ]
    },
    {
     "name": "stderr",
     "output_type": "stream",
     "text": [
      " 71%|███████   | 139/197 [01:01<00:25,  2.26it/s]"
     ]
    },
    {
     "name": "stdout",
     "output_type": "stream",
     "text": [
      "(2,)\n",
      "(2,)\n",
      "(1,)\n",
      "(2,)\n",
      "(9,)\n",
      "(3,)\n",
      "(0,)\n",
      "(0,)\n",
      "(1,)\n",
      "(0,)\n",
      "(1,)\n",
      "(0,)\n",
      "(1,)\n",
      "(0,)\n",
      "(0,)\n",
      "(1,)\n",
      "(0,)\n",
      "(0,)\n",
      "(0,)\n",
      "(0,)\n",
      "(0,)\n",
      "(1,)\n",
      "(8,)\n",
      "(0,)\n"
     ]
    },
    {
     "name": "stderr",
     "output_type": "stream",
     "text": [
      " 71%|███████   | 140/197 [01:02<00:29,  1.95it/s]"
     ]
    },
    {
     "name": "stdout",
     "output_type": "stream",
     "text": [
      "(0,)\n",
      "(0,)\n",
      "(1,)\n",
      "(1,)\n",
      "(0,)\n",
      "(1,)\n",
      "(4,)\n",
      "(0,)\n",
      "(1,)\n",
      "(0,)\n",
      "(1,)\n",
      "(0,)\n",
      "(0,)\n",
      "(0,)\n",
      "(1,)\n",
      "(0,)\n",
      "(0,)\n",
      "(0,)\n",
      "(0,)\n",
      "(1,)\n",
      "(2,)\n",
      "(0,)\n",
      "(5,)\n",
      "(6,)\n"
     ]
    },
    {
     "name": "stderr",
     "output_type": "stream",
     "text": [
      " 72%|███████▏  | 141/197 [01:02<00:27,  2.05it/s]"
     ]
    },
    {
     "name": "stdout",
     "output_type": "stream",
     "text": [
      "(0,)\n",
      "(2,)\n",
      "(0,)\n",
      "(0,)\n",
      "(1,)\n",
      "(0,)\n",
      "(0,)\n",
      "(5,)\n",
      "(0,)\n",
      "(1,)\n",
      "(0,)\n",
      "(1,)\n",
      "(0,)\n",
      "(6,)\n",
      "(3,)\n",
      "(1,)\n",
      "(1,)\n",
      "(3,)\n",
      "(0,)\n",
      "(0,)\n",
      "(0,)\n",
      "(0,)\n",
      "(0,)\n",
      "(0,)\n"
     ]
    },
    {
     "name": "stderr",
     "output_type": "stream",
     "text": [
      " 72%|███████▏  | 142/197 [01:03<00:25,  2.12it/s]"
     ]
    },
    {
     "name": "stdout",
     "output_type": "stream",
     "text": [
      "(0,)\n",
      "(1,)\n",
      "(0,)\n",
      "(1,)\n",
      "(0,)\n",
      "(0,)\n",
      "(4,)\n",
      "(1,)\n",
      "(6,)\n",
      "(0,)\n",
      "(0,)\n",
      "(4,)\n",
      "(0,)\n",
      "(0,)\n",
      "(0,)\n",
      "(1,)\n",
      "(1,)\n",
      "(0,)\n",
      "(1,)\n",
      "(1,)\n",
      "(1,)\n",
      "(1,)\n",
      "(0,)\n",
      "(0,)\n"
     ]
    },
    {
     "name": "stderr",
     "output_type": "stream",
     "text": [
      " 73%|███████▎  | 143/197 [01:03<00:25,  2.16it/s]"
     ]
    },
    {
     "name": "stdout",
     "output_type": "stream",
     "text": [
      "(1,)\n",
      "(0,)\n",
      "(0,)\n",
      "(0,)\n",
      "(4,)\n",
      "(0,)\n",
      "(0,)\n",
      "(2,)\n",
      "(1,)\n",
      "(1,)\n",
      "(0,)\n",
      "(7,)\n",
      "(0,)\n",
      "(0,)\n",
      "(1,)\n",
      "(1,)\n",
      "(6,)\n",
      "(1,)\n",
      "(0,)\n",
      "(0,)\n",
      "(0,)\n",
      "(0,)\n",
      "(1,)\n",
      "(0,)\n"
     ]
    },
    {
     "name": "stderr",
     "output_type": "stream",
     "text": [
      " 73%|███████▎  | 144/197 [01:03<00:24,  2.20it/s]"
     ]
    },
    {
     "name": "stdout",
     "output_type": "stream",
     "text": [
      "(5,)\n",
      "(0,)\n",
      "(0,)\n",
      "(0,)\n",
      "(0,)\n",
      "(0,)\n",
      "(0,)\n",
      "(0,)\n",
      "(5,)\n",
      "(0,)\n",
      "(0,)\n",
      "(1,)\n",
      "(0,)\n",
      "(1,)\n",
      "(0,)\n",
      "(1,)\n",
      "(0,)\n",
      "(0,)\n",
      "(0,)\n",
      "(2,)\n",
      "(4,)\n",
      "(4,)\n",
      "(2,)\n",
      "(0,)\n"
     ]
    },
    {
     "name": "stderr",
     "output_type": "stream",
     "text": [
      " 74%|███████▎  | 145/197 [01:04<00:23,  2.22it/s]"
     ]
    },
    {
     "name": "stdout",
     "output_type": "stream",
     "text": [
      "(4,)\n",
      "(0,)\n",
      "(0,)\n",
      "(1,)\n",
      "(1,)\n",
      "(0,)\n",
      "(0,)\n",
      "(0,)\n",
      "(2,)\n",
      "(0,)\n",
      "(0,)\n",
      "(1,)\n",
      "(2,)\n",
      "(0,)\n",
      "(3,)\n",
      "(1,)\n",
      "(3,)\n",
      "(0,)\n",
      "(1,)\n",
      "(0,)\n",
      "(0,)\n",
      "(1,)\n",
      "(0,)\n",
      "(0,)\n"
     ]
    },
    {
     "name": "stderr",
     "output_type": "stream",
     "text": [
      " 74%|███████▍  | 146/197 [01:04<00:22,  2.24it/s]"
     ]
    },
    {
     "name": "stdout",
     "output_type": "stream",
     "text": [
      "(0,)\n",
      "(0,)\n",
      "(0,)\n",
      "(4,)\n",
      "(0,)\n",
      "(0,)\n",
      "(0,)\n",
      "(7,)\n",
      "(4,)\n",
      "(0,)\n",
      "(1,)\n",
      "(1,)\n",
      "(3,)\n",
      "(0,)\n",
      "(0,)\n",
      "(2,)\n",
      "(3,)\n",
      "(4,)\n",
      "(0,)\n",
      "(0,)\n",
      "(0,)\n",
      "(4,)\n",
      "(3,)\n",
      "(1,)\n"
     ]
    },
    {
     "name": "stderr",
     "output_type": "stream",
     "text": [
      " 75%|███████▍  | 147/197 [01:05<00:22,  2.26it/s]"
     ]
    },
    {
     "name": "stdout",
     "output_type": "stream",
     "text": [
      "(0,)\n",
      "(0,)\n",
      "(0,)\n",
      "(3,)\n",
      "(0,)\n",
      "(3,)\n",
      "(0,)\n",
      "(0,)\n",
      "(4,)\n",
      "(1,)\n",
      "(1,)\n",
      "(0,)\n",
      "(0,)\n",
      "(1,)\n",
      "(1,)\n",
      "(0,)\n",
      "(0,)\n",
      "(6,)\n",
      "(0,)\n",
      "(1,)\n",
      "(0,)\n",
      "(0,)\n",
      "(0,)\n",
      "(0,)\n"
     ]
    },
    {
     "name": "stderr",
     "output_type": "stream",
     "text": [
      " 75%|███████▌  | 148/197 [01:05<00:21,  2.27it/s]"
     ]
    },
    {
     "name": "stdout",
     "output_type": "stream",
     "text": [
      "(1,)\n",
      "(0,)\n",
      "(0,)\n",
      "(0,)\n",
      "(1,)\n",
      "(2,)\n",
      "(2,)\n",
      "(0,)\n",
      "(4,)\n",
      "(0,)\n",
      "(0,)\n",
      "(0,)\n",
      "(1,)\n",
      "(0,)\n",
      "(0,)\n",
      "(0,)\n",
      "(4,)\n",
      "(3,)\n",
      "(3,)\n",
      "(0,)\n",
      "(0,)\n",
      "(2,)\n",
      "(2,)\n",
      "(4,)\n"
     ]
    },
    {
     "name": "stderr",
     "output_type": "stream",
     "text": [
      " 76%|███████▌  | 149/197 [01:06<00:21,  2.25it/s]"
     ]
    },
    {
     "name": "stdout",
     "output_type": "stream",
     "text": [
      "(2,)\n",
      "(1,)\n",
      "(2,)\n",
      "(0,)\n",
      "(0,)\n",
      "(0,)\n",
      "(0,)\n",
      "(0,)\n",
      "(3,)\n",
      "(0,)\n",
      "(1,)\n",
      "(0,)\n",
      "(0,)\n",
      "(4,)\n",
      "(2,)\n",
      "(1,)\n",
      "(0,)\n",
      "(0,)\n",
      "(0,)\n",
      "(1,)\n",
      "(0,)\n",
      "(3,)\n",
      "(1,)\n",
      "(1,)\n"
     ]
    },
    {
     "name": "stderr",
     "output_type": "stream",
     "text": [
      " 76%|███████▌  | 150/197 [01:06<00:20,  2.25it/s]"
     ]
    },
    {
     "name": "stdout",
     "output_type": "stream",
     "text": [
      "(0,)\n",
      "(0,)\n",
      "(0,)\n",
      "(1,)\n",
      "(0,)\n",
      "(1,)\n",
      "(0,)\n",
      "(2,)\n",
      "(2,)\n",
      "(0,)\n",
      "(1,)\n",
      "(1,)\n",
      "(0,)\n",
      "(0,)\n",
      "(0,)\n",
      "(0,)\n",
      "(0,)\n",
      "(1,)\n",
      "(3,)\n",
      "(1,)\n",
      "(3,)\n",
      "(0,)\n",
      "(2,)\n",
      "(0,)\n"
     ]
    },
    {
     "name": "stderr",
     "output_type": "stream",
     "text": [
      " 77%|███████▋  | 151/197 [01:07<00:20,  2.24it/s]"
     ]
    },
    {
     "name": "stdout",
     "output_type": "stream",
     "text": [
      "(0,)\n",
      "(1,)\n",
      "(0,)\n",
      "(1,)\n",
      "(0,)\n",
      "(0,)\n",
      "(0,)\n",
      "(2,)\n",
      "(1,)\n",
      "(2,)\n",
      "(1,)\n",
      "(1,)\n",
      "(2,)\n",
      "(4,)\n",
      "(4,)\n",
      "(1,)\n",
      "(3,)\n",
      "(0,)\n",
      "(0,)\n",
      "(2,)\n",
      "(3,)\n",
      "(1,)\n",
      "(0,)\n",
      "(0,)\n"
     ]
    },
    {
     "name": "stderr",
     "output_type": "stream",
     "text": [
      " 77%|███████▋  | 152/197 [01:07<00:20,  2.22it/s]"
     ]
    },
    {
     "name": "stdout",
     "output_type": "stream",
     "text": [
      "(2,)\n",
      "(5,)\n",
      "(0,)\n",
      "(0,)\n",
      "(4,)\n",
      "(0,)\n",
      "(0,)\n",
      "(0,)\n",
      "(4,)\n",
      "(0,)\n",
      "(1,)\n",
      "(0,)\n",
      "(1,)\n",
      "(1,)\n",
      "(5,)\n",
      "(3,)\n",
      "(2,)\n",
      "(0,)\n",
      "(2,)\n",
      "(0,)\n",
      "(1,)\n",
      "(0,)\n",
      "(0,)\n",
      "(0,)\n"
     ]
    },
    {
     "name": "stderr",
     "output_type": "stream",
     "text": [
      " 78%|███████▊  | 153/197 [01:07<00:19,  2.24it/s]"
     ]
    },
    {
     "name": "stdout",
     "output_type": "stream",
     "text": [
      "(1,)\n",
      "(0,)\n",
      "(4,)\n",
      "(0,)\n",
      "(0,)\n",
      "(4,)\n",
      "(0,)\n",
      "(1,)\n",
      "(1,)\n",
      "(2,)\n",
      "(1,)\n",
      "(1,)\n",
      "(0,)\n",
      "(0,)\n",
      "(0,)\n",
      "(4,)\n",
      "(3,)\n",
      "(7,)\n",
      "(0,)\n",
      "(0,)\n",
      "(0,)\n",
      "(0,)\n",
      "(4,)\n",
      "(0,)\n"
     ]
    },
    {
     "name": "stderr",
     "output_type": "stream",
     "text": [
      " 78%|███████▊  | 154/197 [01:08<00:19,  2.26it/s]"
     ]
    },
    {
     "name": "stdout",
     "output_type": "stream",
     "text": [
      "(3,)\n",
      "(0,)\n",
      "(0,)\n",
      "(3,)\n",
      "(1,)\n",
      "(0,)\n",
      "(0,)\n",
      "(4,)\n",
      "(0,)\n",
      "(1,)\n",
      "(0,)\n",
      "(0,)\n",
      "(0,)\n",
      "(0,)\n",
      "(2,)\n",
      "(0,)\n",
      "(0,)\n",
      "(1,)\n",
      "(0,)\n",
      "(0,)\n",
      "(0,)\n",
      "(0,)\n",
      "(0,)\n",
      "(1,)\n"
     ]
    },
    {
     "name": "stderr",
     "output_type": "stream",
     "text": [
      " 79%|███████▊  | 155/197 [01:08<00:18,  2.25it/s]"
     ]
    },
    {
     "name": "stdout",
     "output_type": "stream",
     "text": [
      "(2,)\n",
      "(0,)\n",
      "(1,)\n",
      "(1,)\n",
      "(1,)\n",
      "(1,)\n",
      "(1,)\n",
      "(0,)\n",
      "(0,)\n",
      "(1,)\n",
      "(0,)\n",
      "(1,)\n",
      "(1,)\n",
      "(1,)\n",
      "(4,)\n",
      "(4,)\n",
      "(3,)\n",
      "(3,)\n",
      "(0,)\n",
      "(2,)\n",
      "(0,)\n",
      "(1,)\n",
      "(0,)\n",
      "(0,)\n"
     ]
    },
    {
     "name": "stderr",
     "output_type": "stream",
     "text": [
      " 79%|███████▉  | 156/197 [01:09<00:18,  2.25it/s]"
     ]
    },
    {
     "name": "stdout",
     "output_type": "stream",
     "text": [
      "(0,)\n",
      "(1,)\n",
      "(0,)\n",
      "(0,)\n",
      "(1,)\n",
      "(4,)\n",
      "(4,)\n",
      "(1,)\n",
      "(1,)\n",
      "(2,)\n",
      "(1,)\n",
      "(1,)\n",
      "(1,)\n",
      "(1,)\n",
      "(0,)\n",
      "(1,)\n",
      "(0,)\n",
      "(0,)\n",
      "(0,)\n",
      "(0,)\n",
      "(1,)\n",
      "(1,)\n",
      "(1,)\n",
      "(4,)\n"
     ]
    },
    {
     "name": "stderr",
     "output_type": "stream",
     "text": [
      " 80%|███████▉  | 157/197 [01:09<00:17,  2.26it/s]"
     ]
    },
    {
     "name": "stdout",
     "output_type": "stream",
     "text": [
      "(2,)\n",
      "(3,)\n",
      "(0,)\n",
      "(5,)\n",
      "(0,)\n",
      "(0,)\n",
      "(0,)\n",
      "(1,)\n",
      "(1,)\n",
      "(0,)\n",
      "(1,)\n",
      "(0,)\n",
      "(1,)\n",
      "(0,)\n",
      "(0,)\n",
      "(2,)\n",
      "(0,)\n",
      "(1,)\n",
      "(0,)\n",
      "(0,)\n",
      "(0,)\n",
      "(1,)\n",
      "(1,)\n",
      "(0,)\n"
     ]
    },
    {
     "name": "stderr",
     "output_type": "stream",
     "text": [
      " 80%|████████  | 158/197 [01:10<00:17,  2.25it/s]"
     ]
    },
    {
     "name": "stdout",
     "output_type": "stream",
     "text": [
      "(1,)\n",
      "(0,)\n",
      "(0,)\n",
      "(59,)\n",
      "(23,)\n",
      "(0,)\n",
      "(0,)\n",
      "(0,)\n",
      "(1,)\n",
      "(0,)\n",
      "(0,)\n",
      "(10,)\n",
      "(0,)\n",
      "(8,)\n",
      "(0,)\n",
      "(0,)\n",
      "(1,)\n",
      "(0,)\n",
      "(0,)\n",
      "(1,)\n",
      "(1,)\n",
      "(1,)\n",
      "(0,)\n",
      "(0,)\n"
     ]
    },
    {
     "name": "stderr",
     "output_type": "stream",
     "text": [
      " 81%|████████  | 159/197 [01:10<00:16,  2.27it/s]"
     ]
    },
    {
     "name": "stdout",
     "output_type": "stream",
     "text": [
      "(0,)\n",
      "(1,)\n",
      "(0,)\n",
      "(1,)\n",
      "(0,)\n",
      "(1,)\n",
      "(1,)\n",
      "(0,)\n",
      "(1,)\n",
      "(0,)\n",
      "(1,)\n",
      "(0,)\n",
      "(0,)\n",
      "(0,)\n",
      "(0,)\n",
      "(0,)\n",
      "(0,)\n",
      "(0,)\n",
      "(1,)\n",
      "(1,)\n",
      "(0,)\n",
      "(1,)\n",
      "(2,)\n",
      "(1,)\n"
     ]
    },
    {
     "name": "stderr",
     "output_type": "stream",
     "text": [
      " 81%|████████  | 160/197 [01:10<00:16,  2.29it/s]"
     ]
    },
    {
     "name": "stdout",
     "output_type": "stream",
     "text": [
      "(0,)\n",
      "(0,)\n",
      "(0,)\n",
      "(2,)\n",
      "(2,)\n",
      "(2,)\n",
      "(3,)\n",
      "(2,)\n",
      "(0,)\n",
      "(2,)\n",
      "(0,)\n",
      "(0,)\n",
      "(1,)\n",
      "(1,)\n",
      "(0,)\n",
      "(0,)\n",
      "(0,)\n",
      "(0,)\n",
      "(0,)\n",
      "(1,)\n",
      "(0,)\n",
      "(1,)\n",
      "(0,)\n",
      "(0,)\n"
     ]
    },
    {
     "name": "stderr",
     "output_type": "stream",
     "text": [
      " 82%|████████▏ | 161/197 [01:11<00:15,  2.30it/s]"
     ]
    },
    {
     "name": "stdout",
     "output_type": "stream",
     "text": [
      "(0,)\n",
      "(0,)\n",
      "(1,)\n",
      "(2,)\n",
      "(2,)\n",
      "(0,)\n",
      "(1,)\n",
      "(0,)\n",
      "(0,)\n",
      "(3,)\n",
      "(5,)\n",
      "(0,)\n",
      "(0,)\n",
      "(1,)\n",
      "(0,)\n",
      "(0,)\n",
      "(1,)\n",
      "(0,)\n",
      "(0,)\n",
      "(0,)\n",
      "(0,)\n",
      "(1,)\n",
      "(1,)\n",
      "(0,)\n"
     ]
    },
    {
     "name": "stderr",
     "output_type": "stream",
     "text": [
      " 82%|████████▏ | 162/197 [01:11<00:15,  2.30it/s]"
     ]
    },
    {
     "name": "stdout",
     "output_type": "stream",
     "text": [
      "(1,)\n",
      "(2,)\n",
      "(1,)\n",
      "(2,)\n",
      "(3,)\n",
      "(1,)\n",
      "(1,)\n",
      "(0,)\n",
      "(1,)\n",
      "(3,)\n",
      "(4,)\n",
      "(31,)\n",
      "(0,)\n",
      "(2,)\n",
      "(0,)\n",
      "(6,)\n",
      "(0,)\n",
      "(0,)\n",
      "(23,)\n",
      "(0,)\n",
      "(1,)\n",
      "(26,)\n",
      "(0,)\n",
      "(0,)\n"
     ]
    },
    {
     "name": "stderr",
     "output_type": "stream",
     "text": [
      " 83%|████████▎ | 163/197 [01:12<00:14,  2.30it/s]"
     ]
    },
    {
     "name": "stdout",
     "output_type": "stream",
     "text": [
      "(38,)\n",
      "(0,)\n",
      "(0,)\n",
      "(1,)\n",
      "(5,)\n",
      "(0,)\n",
      "(0,)\n",
      "(0,)\n",
      "(0,)\n",
      "(1,)\n",
      "(0,)\n",
      "(1,)\n",
      "(0,)\n",
      "(0,)\n",
      "(1,)\n",
      "(0,)\n",
      "(0,)\n",
      "(0,)\n",
      "(1,)\n",
      "(1,)\n",
      "(0,)\n",
      "(0,)\n",
      "(2,)\n",
      "(0,)\n"
     ]
    },
    {
     "name": "stderr",
     "output_type": "stream",
     "text": [
      " 83%|████████▎ | 164/197 [01:12<00:14,  2.29it/s]"
     ]
    },
    {
     "name": "stdout",
     "output_type": "stream",
     "text": [
      "(1,)\n",
      "(2,)\n",
      "(0,)\n",
      "(5,)\n",
      "(0,)\n",
      "(0,)\n",
      "(1,)\n",
      "(2,)\n",
      "(0,)\n",
      "(1,)\n",
      "(0,)\n",
      "(0,)\n",
      "(1,)\n",
      "(0,)\n",
      "(0,)\n",
      "(0,)\n",
      "(1,)\n",
      "(0,)\n",
      "(8,)\n",
      "(0,)\n",
      "(5,)\n",
      "(0,)\n",
      "(7,)\n",
      "(16,)\n"
     ]
    },
    {
     "name": "stderr",
     "output_type": "stream",
     "text": [
      " 84%|████████▍ | 165/197 [01:13<00:13,  2.29it/s]"
     ]
    },
    {
     "name": "stdout",
     "output_type": "stream",
     "text": [
      "(14,)\n",
      "(3,)\n",
      "(22,)\n",
      "(34,)\n",
      "(0,)\n",
      "(19,)\n",
      "(0,)\n",
      "(0,)\n",
      "(0,)\n",
      "(0,)\n",
      "(45,)\n",
      "(0,)\n",
      "(0,)\n",
      "(28,)\n",
      "(10,)\n",
      "(1,)\n",
      "(0,)\n",
      "(6,)\n",
      "(0,)\n",
      "(0,)\n",
      "(1,)\n",
      "(0,)\n",
      "(6,)\n",
      "(1,)\n"
     ]
    },
    {
     "name": "stderr",
     "output_type": "stream",
     "text": [
      " 84%|████████▍ | 166/197 [01:13<00:13,  2.30it/s]"
     ]
    },
    {
     "name": "stdout",
     "output_type": "stream",
     "text": [
      "(0,)\n",
      "(0,)\n",
      "(0,)\n",
      "(0,)\n",
      "(0,)\n",
      "(1,)\n",
      "(0,)\n",
      "(1,)\n",
      "(0,)\n",
      "(0,)\n",
      "(0,)\n",
      "(1,)\n",
      "(1,)\n",
      "(1,)\n",
      "(0,)\n",
      "(0,)\n",
      "(1,)\n",
      "(1,)\n",
      "(0,)\n",
      "(1,)\n",
      "(1,)\n",
      "(0,)\n",
      "(0,)\n",
      "(0,)\n"
     ]
    },
    {
     "name": "stderr",
     "output_type": "stream",
     "text": [
      " 85%|████████▍ | 167/197 [01:14<00:13,  2.29it/s]"
     ]
    },
    {
     "name": "stdout",
     "output_type": "stream",
     "text": [
      "(1,)\n",
      "(2,)\n",
      "(0,)\n",
      "(0,)\n",
      "(2,)\n",
      "(1,)\n",
      "(3,)\n",
      "(1,)\n",
      "(1,)\n",
      "(0,)\n",
      "(0,)\n",
      "(0,)\n",
      "(0,)\n",
      "(0,)\n",
      "(2,)\n",
      "(2,)\n",
      "(2,)\n",
      "(18,)\n",
      "(6,)\n",
      "(0,)\n",
      "(0,)\n",
      "(1,)\n",
      "(5,)\n",
      "(15,)\n"
     ]
    },
    {
     "name": "stderr",
     "output_type": "stream",
     "text": [
      " 85%|████████▌ | 168/197 [01:14<00:12,  2.30it/s]"
     ]
    },
    {
     "name": "stdout",
     "output_type": "stream",
     "text": [
      "(0,)\n",
      "(2,)\n",
      "(6,)\n",
      "(2,)\n",
      "(0,)\n",
      "(0,)\n",
      "(0,)\n",
      "(9,)\n",
      "(13,)\n",
      "(7,)\n",
      "(0,)\n",
      "(0,)\n",
      "(1,)\n",
      "(1,)\n",
      "(0,)\n",
      "(0,)\n",
      "(0,)\n",
      "(0,)\n",
      "(0,)\n",
      "(0,)\n",
      "(1,)\n",
      "(0,)\n",
      "(0,)\n",
      "(0,)\n"
     ]
    },
    {
     "name": "stderr",
     "output_type": "stream",
     "text": [
      " 86%|████████▌ | 169/197 [01:14<00:12,  2.30it/s]"
     ]
    },
    {
     "name": "stdout",
     "output_type": "stream",
     "text": [
      "(0,)\n",
      "(1,)\n",
      "(1,)\n",
      "(2,)\n",
      "(0,)\n",
      "(0,)\n",
      "(0,)\n",
      "(0,)\n",
      "(1,)\n",
      "(0,)\n",
      "(0,)\n",
      "(0,)\n",
      "(1,)\n",
      "(1,)\n",
      "(1,)\n",
      "(0,)\n",
      "(1,)\n",
      "(0,)\n",
      "(2,)\n",
      "(10,)\n",
      "(1,)\n",
      "(0,)\n",
      "(0,)\n",
      "(0,)\n"
     ]
    },
    {
     "name": "stderr",
     "output_type": "stream",
     "text": [
      " 86%|████████▋ | 170/197 [01:15<00:11,  2.30it/s]"
     ]
    },
    {
     "name": "stdout",
     "output_type": "stream",
     "text": [
      "(0,)\n",
      "(1,)\n",
      "(0,)\n",
      "(0,)\n",
      "(2,)\n",
      "(3,)\n",
      "(0,)\n",
      "(0,)\n",
      "(0,)\n",
      "(2,)\n",
      "(1,)\n",
      "(0,)\n",
      "(0,)\n",
      "(1,)\n",
      "(1,)\n",
      "(0,)\n",
      "(2,)\n",
      "(1,)\n",
      "(2,)\n",
      "(3,)\n",
      "(2,)\n",
      "(0,)\n",
      "(1,)\n",
      "(1,)\n"
     ]
    },
    {
     "name": "stderr",
     "output_type": "stream",
     "text": [
      " 87%|████████▋ | 171/197 [01:15<00:11,  2.29it/s]"
     ]
    },
    {
     "name": "stdout",
     "output_type": "stream",
     "text": [
      "(0,)\n",
      "(2,)\n",
      "(2,)\n",
      "(3,)\n",
      "(1,)\n",
      "(0,)\n",
      "(0,)\n",
      "(0,)\n",
      "(1,)\n",
      "(7,)\n",
      "(2,)\n",
      "(0,)\n",
      "(0,)\n",
      "(0,)\n",
      "(0,)\n",
      "(1,)\n",
      "(0,)\n",
      "(2,)\n",
      "(0,)\n",
      "(11,)\n",
      "(18,)\n",
      "(1,)\n",
      "(6,)\n",
      "(36,)\n"
     ]
    },
    {
     "name": "stderr",
     "output_type": "stream",
     "text": [
      " 87%|████████▋ | 172/197 [01:16<00:11,  2.26it/s]"
     ]
    },
    {
     "name": "stdout",
     "output_type": "stream",
     "text": [
      "(0,)\n",
      "(2,)\n",
      "(0,)\n",
      "(58,)\n",
      "(14,)\n",
      "(6,)\n",
      "(20,)\n",
      "(1,)\n",
      "(2,)\n",
      "(16,)\n",
      "(11,)\n",
      "(0,)\n",
      "(14,)\n",
      "(0,)\n",
      "(0,)\n",
      "(0,)\n",
      "(0,)\n",
      "(0,)\n",
      "(0,)\n",
      "(0,)\n",
      "(0,)\n",
      "(1,)\n",
      "(1,)\n",
      "(1,)\n"
     ]
    },
    {
     "name": "stderr",
     "output_type": "stream",
     "text": [
      " 88%|████████▊ | 173/197 [01:16<00:10,  2.25it/s]"
     ]
    },
    {
     "name": "stdout",
     "output_type": "stream",
     "text": [
      "(1,)\n",
      "(0,)\n",
      "(1,)\n",
      "(0,)\n",
      "(0,)\n",
      "(2,)\n",
      "(0,)\n",
      "(1,)\n",
      "(1,)\n",
      "(0,)\n",
      "(0,)\n",
      "(0,)\n",
      "(1,)\n",
      "(1,)\n",
      "(0,)\n",
      "(0,)\n",
      "(1,)\n",
      "(0,)\n",
      "(1,)\n",
      "(2,)\n",
      "(2,)\n",
      "(1,)\n",
      "(1,)\n",
      "(0,)\n"
     ]
    },
    {
     "name": "stderr",
     "output_type": "stream",
     "text": [
      " 88%|████████▊ | 174/197 [01:17<00:10,  2.27it/s]"
     ]
    },
    {
     "name": "stdout",
     "output_type": "stream",
     "text": [
      "(0,)\n",
      "(0,)\n",
      "(1,)\n",
      "(1,)\n",
      "(0,)\n",
      "(4,)\n",
      "(4,)\n",
      "(2,)\n",
      "(1,)\n",
      "(2,)\n",
      "(7,)\n",
      "(0,)\n",
      "(1,)\n",
      "(1,)\n",
      "(1,)\n",
      "(2,)\n",
      "(2,)\n",
      "(0,)\n",
      "(5,)\n",
      "(3,)\n",
      "(0,)\n",
      "(0,)\n",
      "(0,)\n",
      "(0,)\n"
     ]
    },
    {
     "name": "stderr",
     "output_type": "stream",
     "text": [
      " 89%|████████▉ | 175/197 [01:17<00:09,  2.28it/s]"
     ]
    },
    {
     "name": "stdout",
     "output_type": "stream",
     "text": [
      "(0,)\n",
      "(0,)\n",
      "(2,)\n",
      "(2,)\n",
      "(2,)\n",
      "(3,)\n",
      "(3,)\n",
      "(11,)\n",
      "(0,)\n",
      "(0,)\n",
      "(0,)\n",
      "(0,)\n",
      "(33,)\n",
      "(0,)\n",
      "(0,)\n",
      "(6,)\n",
      "(48,)\n",
      "(33,)\n",
      "(0,)\n",
      "(44,)\n",
      "(23,)\n",
      "(0,)\n",
      "(22,)\n",
      "(21,)\n"
     ]
    },
    {
     "name": "stderr",
     "output_type": "stream",
     "text": [
      " 89%|████████▉ | 176/197 [01:17<00:09,  2.29it/s]"
     ]
    },
    {
     "name": "stdout",
     "output_type": "stream",
     "text": [
      "(0,)\n",
      "(0,)\n",
      "(0,)\n",
      "(1,)\n",
      "(1,)\n",
      "(0,)\n",
      "(1,)\n",
      "(0,)\n",
      "(0,)\n",
      "(0,)\n",
      "(0,)\n",
      "(0,)\n",
      "(0,)\n",
      "(2,)\n",
      "(0,)\n",
      "(1,)\n",
      "(1,)\n",
      "(1,)\n",
      "(0,)\n",
      "(1,)\n",
      "(0,)\n",
      "(2,)\n",
      "(1,)\n",
      "(0,)\n"
     ]
    },
    {
     "name": "stderr",
     "output_type": "stream",
     "text": [
      " 90%|████████▉ | 177/197 [01:18<00:08,  2.28it/s]"
     ]
    },
    {
     "name": "stdout",
     "output_type": "stream",
     "text": [
      "(0,)\n",
      "(1,)\n",
      "(0,)\n",
      "(2,)\n",
      "(0,)\n",
      "(0,)\n",
      "(0,)\n",
      "(1,)\n",
      "(0,)\n",
      "(0,)\n",
      "(0,)\n",
      "(1,)\n",
      "(1,)\n",
      "(0,)\n",
      "(0,)\n",
      "(1,)\n",
      "(0,)\n",
      "(0,)\n",
      "(1,)\n",
      "(1,)\n",
      "(0,)\n",
      "(2,)\n",
      "(1,)\n",
      "(2,)\n"
     ]
    },
    {
     "name": "stderr",
     "output_type": "stream",
     "text": [
      " 90%|█████████ | 178/197 [01:18<00:08,  2.29it/s]"
     ]
    },
    {
     "name": "stdout",
     "output_type": "stream",
     "text": [
      "(0,)\n",
      "(1,)\n",
      "(2,)\n",
      "(0,)\n",
      "(3,)\n",
      "(0,)\n",
      "(2,)\n",
      "(0,)\n",
      "(0,)\n",
      "(0,)\n",
      "(3,)\n",
      "(7,)\n",
      "(5,)\n",
      "(0,)\n",
      "(0,)\n",
      "(0,)\n",
      "(0,)\n",
      "(1,)\n",
      "(0,)\n",
      "(2,)\n",
      "(2,)\n",
      "(0,)\n",
      "(0,)\n",
      "(6,)\n"
     ]
    },
    {
     "name": "stderr",
     "output_type": "stream",
     "text": [
      " 91%|█████████ | 179/197 [01:19<00:07,  2.27it/s]"
     ]
    },
    {
     "name": "stdout",
     "output_type": "stream",
     "text": [
      "(2,)\n",
      "(0,)\n",
      "(0,)\n",
      "(2,)\n",
      "(2,)\n",
      "(0,)\n",
      "(2,)\n",
      "(1,)\n",
      "(2,)\n",
      "(1,)\n",
      "(4,)\n",
      "(2,)\n",
      "(0,)\n",
      "(1,)\n",
      "(1,)\n",
      "(0,)\n",
      "(0,)\n",
      "(2,)\n",
      "(2,)\n",
      "(3,)\n",
      "(1,)\n",
      "(2,)\n",
      "(0,)\n",
      "(1,)\n"
     ]
    },
    {
     "name": "stderr",
     "output_type": "stream",
     "text": [
      " 91%|█████████▏| 180/197 [01:19<00:07,  2.23it/s]"
     ]
    },
    {
     "name": "stdout",
     "output_type": "stream",
     "text": [
      "(1,)\n",
      "(1,)\n",
      "(1,)\n",
      "(0,)\n",
      "(0,)\n",
      "(1,)\n",
      "(0,)\n",
      "(0,)\n",
      "(2,)\n",
      "(0,)\n",
      "(1,)\n",
      "(3,)\n",
      "(1,)\n",
      "(1,)\n",
      "(3,)\n",
      "(0,)\n",
      "(0,)\n",
      "(0,)\n",
      "(1,)\n",
      "(1,)\n",
      "(0,)\n",
      "(0,)\n",
      "(0,)\n",
      "(0,)\n"
     ]
    },
    {
     "name": "stderr",
     "output_type": "stream",
     "text": [
      " 92%|█████████▏| 181/197 [01:20<00:07,  2.21it/s]"
     ]
    },
    {
     "name": "stdout",
     "output_type": "stream",
     "text": [
      "(1,)\n",
      "(4,)\n",
      "(2,)\n",
      "(0,)\n",
      "(0,)\n",
      "(0,)\n",
      "(0,)\n",
      "(0,)\n",
      "(2,)\n",
      "(3,)\n",
      "(0,)\n",
      "(0,)\n",
      "(0,)\n",
      "(3,)\n",
      "(2,)\n",
      "(0,)\n",
      "(1,)\n",
      "(0,)\n",
      "(0,)\n",
      "(0,)\n",
      "(1,)\n",
      "(0,)\n",
      "(3,)\n",
      "(3,)\n"
     ]
    },
    {
     "name": "stderr",
     "output_type": "stream",
     "text": [
      " 92%|█████████▏| 182/197 [01:20<00:06,  2.21it/s]"
     ]
    },
    {
     "name": "stdout",
     "output_type": "stream",
     "text": [
      "(1,)\n",
      "(3,)\n",
      "(0,)\n",
      "(3,)\n",
      "(1,)\n",
      "(0,)\n",
      "(0,)\n",
      "(0,)\n",
      "(0,)\n",
      "(0,)\n",
      "(0,)\n",
      "(0,)\n",
      "(1,)\n",
      "(2,)\n",
      "(1,)\n",
      "(1,)\n",
      "(0,)\n",
      "(0,)\n",
      "(1,)\n",
      "(1,)\n",
      "(0,)\n",
      "(1,)\n",
      "(0,)\n",
      "(0,)\n"
     ]
    },
    {
     "name": "stderr",
     "output_type": "stream",
     "text": [
      " 93%|█████████▎| 183/197 [01:21<00:06,  2.21it/s]"
     ]
    },
    {
     "name": "stdout",
     "output_type": "stream",
     "text": [
      "(2,)\n",
      "(0,)\n",
      "(0,)\n",
      "(1,)\n",
      "(1,)\n",
      "(0,)\n",
      "(0,)\n",
      "(0,)\n",
      "(0,)\n",
      "(0,)\n",
      "(0,)\n",
      "(0,)\n",
      "(1,)\n",
      "(0,)\n",
      "(1,)\n",
      "(0,)\n",
      "(1,)\n",
      "(0,)\n",
      "(1,)\n",
      "(0,)\n",
      "(1,)\n",
      "(0,)\n",
      "(1,)\n",
      "(0,)\n"
     ]
    },
    {
     "name": "stderr",
     "output_type": "stream",
     "text": [
      " 93%|█████████▎| 184/197 [01:21<00:05,  2.17it/s]"
     ]
    },
    {
     "name": "stdout",
     "output_type": "stream",
     "text": [
      "(0,)\n",
      "(0,)\n",
      "(1,)\n",
      "(7,)\n",
      "(1,)\n",
      "(1,)\n",
      "(2,)\n",
      "(0,)\n",
      "(2,)\n",
      "(2,)\n",
      "(5,)\n",
      "(0,)\n",
      "(6,)\n",
      "(1,)\n",
      "(4,)\n",
      "(2,)\n",
      "(2,)\n",
      "(1,)\n",
      "(4,)\n",
      "(2,)\n",
      "(4,)\n",
      "(1,)\n",
      "(2,)\n",
      "(2,)\n"
     ]
    },
    {
     "name": "stderr",
     "output_type": "stream",
     "text": [
      " 94%|█████████▍| 185/197 [01:22<00:05,  2.20it/s]"
     ]
    },
    {
     "name": "stdout",
     "output_type": "stream",
     "text": [
      "(2,)\n",
      "(0,)\n",
      "(10,)\n",
      "(2,)\n",
      "(2,)\n",
      "(2,)\n",
      "(0,)\n",
      "(2,)\n",
      "(0,)\n",
      "(0,)\n",
      "(0,)\n",
      "(4,)\n",
      "(0,)\n",
      "(0,)\n",
      "(0,)\n",
      "(0,)\n",
      "(2,)\n",
      "(0,)\n",
      "(2,)\n",
      "(4,)\n",
      "(3,)\n",
      "(0,)\n",
      "(0,)\n",
      "(1,)\n"
     ]
    },
    {
     "name": "stderr",
     "output_type": "stream",
     "text": [
      " 94%|█████████▍| 186/197 [01:22<00:04,  2.22it/s]"
     ]
    },
    {
     "name": "stdout",
     "output_type": "stream",
     "text": [
      "(0,)\n",
      "(0,)\n",
      "(0,)\n",
      "(3,)\n",
      "(2,)\n",
      "(0,)\n",
      "(0,)\n",
      "(2,)\n",
      "(1,)\n",
      "(0,)\n",
      "(1,)\n",
      "(2,)\n",
      "(2,)\n",
      "(3,)\n",
      "(1,)\n",
      "(1,)\n",
      "(1,)\n",
      "(0,)\n",
      "(1,)\n",
      "(0,)\n",
      "(1,)\n",
      "(0,)\n",
      "(1,)\n",
      "(1,)\n"
     ]
    },
    {
     "name": "stderr",
     "output_type": "stream",
     "text": [
      " 95%|█████████▍| 187/197 [01:22<00:04,  2.22it/s]"
     ]
    },
    {
     "name": "stdout",
     "output_type": "stream",
     "text": [
      "(0,)\n",
      "(0,)\n",
      "(0,)\n",
      "(0,)\n",
      "(3,)\n",
      "(1,)\n",
      "(1,)\n",
      "(1,)\n",
      "(1,)\n",
      "(1,)\n",
      "(1,)\n",
      "(0,)\n",
      "(2,)\n",
      "(6,)\n",
      "(3,)\n",
      "(2,)\n",
      "(0,)\n",
      "(1,)\n",
      "(1,)\n",
      "(0,)\n",
      "(2,)\n",
      "(0,)\n",
      "(0,)\n",
      "(2,)\n"
     ]
    },
    {
     "name": "stderr",
     "output_type": "stream",
     "text": [
      " 95%|█████████▌| 188/197 [01:23<00:04,  2.22it/s]"
     ]
    },
    {
     "name": "stdout",
     "output_type": "stream",
     "text": [
      "(4,)\n",
      "(3,)\n",
      "(1,)\n",
      "(2,)\n",
      "(0,)\n",
      "(5,)\n",
      "(0,)\n",
      "(1,)\n",
      "(0,)\n",
      "(1,)\n",
      "(0,)\n",
      "(1,)\n",
      "(0,)\n",
      "(0,)\n",
      "(1,)\n",
      "(3,)\n",
      "(1,)\n",
      "(1,)\n",
      "(0,)\n",
      "(1,)\n",
      "(0,)\n",
      "(0,)\n",
      "(0,)\n",
      "(0,)\n"
     ]
    },
    {
     "name": "stderr",
     "output_type": "stream",
     "text": [
      " 96%|█████████▌| 189/197 [01:23<00:03,  2.26it/s]"
     ]
    },
    {
     "name": "stdout",
     "output_type": "stream",
     "text": [
      "(0,)\n",
      "(1,)\n",
      "(0,)\n",
      "(0,)\n",
      "(3,)\n",
      "(1,)\n",
      "(2,)\n",
      "(0,)\n",
      "(0,)\n",
      "(1,)\n",
      "(9,)\n",
      "(1,)\n",
      "(1,)\n",
      "(4,)\n",
      "(0,)\n",
      "(1,)\n",
      "(0,)\n",
      "(1,)\n",
      "(0,)\n",
      "(0,)\n",
      "(0,)\n",
      "(1,)\n",
      "(1,)\n",
      "(0,)\n"
     ]
    },
    {
     "name": "stderr",
     "output_type": "stream",
     "text": [
      " 96%|█████████▋| 190/197 [01:24<00:03,  2.28it/s]"
     ]
    },
    {
     "name": "stdout",
     "output_type": "stream",
     "text": [
      "(0,)\n",
      "(0,)\n",
      "(1,)\n",
      "(0,)\n",
      "(0,)\n",
      "(1,)\n",
      "(1,)\n",
      "(2,)\n",
      "(0,)\n",
      "(0,)\n",
      "(1,)\n",
      "(0,)\n",
      "(3,)\n",
      "(1,)\n",
      "(9,)\n",
      "(4,)\n",
      "(0,)\n",
      "(0,)\n",
      "(0,)\n",
      "(0,)\n",
      "(4,)\n",
      "(8,)\n",
      "(2,)\n",
      "(3,)\n"
     ]
    },
    {
     "name": "stderr",
     "output_type": "stream",
     "text": [
      " 97%|█████████▋| 191/197 [01:24<00:02,  2.29it/s]"
     ]
    },
    {
     "name": "stdout",
     "output_type": "stream",
     "text": [
      "(3,)\n",
      "(3,)\n",
      "(1,)\n",
      "(2,)\n",
      "(0,)\n",
      "(1,)\n",
      "(2,)\n",
      "(2,)\n",
      "(1,)\n",
      "(4,)\n",
      "(0,)\n",
      "(8,)\n",
      "(1,)\n",
      "(1,)\n",
      "(1,)\n",
      "(1,)\n",
      "(1,)\n",
      "(0,)\n",
      "(0,)\n",
      "(1,)\n",
      "(1,)\n",
      "(1,)\n",
      "(0,)\n",
      "(0,)\n"
     ]
    },
    {
     "name": "stderr",
     "output_type": "stream",
     "text": [
      " 97%|█████████▋| 192/197 [01:25<00:02,  2.32it/s]"
     ]
    },
    {
     "name": "stdout",
     "output_type": "stream",
     "text": [
      "(0,)\n",
      "(1,)\n",
      "(0,)\n",
      "(1,)\n",
      "(0,)\n",
      "(0,)\n",
      "(0,)\n",
      "(1,)\n",
      "(0,)\n",
      "(0,)\n",
      "(0,)\n",
      "(0,)\n",
      "(1,)\n",
      "(0,)\n",
      "(0,)\n",
      "(0,)\n",
      "(1,)\n",
      "(1,)\n",
      "(0,)\n",
      "(1,)\n",
      "(1,)\n",
      "(0,)\n",
      "(0,)\n",
      "(1,)\n"
     ]
    },
    {
     "name": "stderr",
     "output_type": "stream",
     "text": [
      " 98%|█████████▊| 193/197 [01:25<00:01,  2.34it/s]"
     ]
    },
    {
     "name": "stdout",
     "output_type": "stream",
     "text": [
      "(0,)\n",
      "(0,)\n",
      "(0,)\n",
      "(2,)\n",
      "(0,)\n",
      "(0,)\n",
      "(0,)\n",
      "(0,)\n",
      "(0,)\n",
      "(2,)\n",
      "(0,)\n",
      "(0,)\n",
      "(0,)\n",
      "(0,)\n",
      "(1,)\n",
      "(1,)\n",
      "(1,)\n",
      "(0,)\n",
      "(0,)\n",
      "(0,)\n",
      "(1,)\n",
      "(0,)\n",
      "(0,)\n",
      "(1,)\n"
     ]
    },
    {
     "name": "stderr",
     "output_type": "stream",
     "text": [
      " 98%|█████████▊| 194/197 [01:25<00:01,  2.35it/s]"
     ]
    },
    {
     "name": "stdout",
     "output_type": "stream",
     "text": [
      "(0,)\n",
      "(1,)\n",
      "(0,)\n",
      "(0,)\n",
      "(0,)\n",
      "(2,)\n",
      "(0,)\n",
      "(0,)\n",
      "(1,)\n",
      "(0,)\n",
      "(0,)\n",
      "(2,)\n",
      "(1,)\n",
      "(0,)\n",
      "(1,)\n",
      "(1,)\n",
      "(1,)\n",
      "(0,)\n",
      "(0,)\n",
      "(0,)\n",
      "(1,)\n",
      "(1,)\n",
      "(0,)\n",
      "(1,)\n"
     ]
    },
    {
     "name": "stderr",
     "output_type": "stream",
     "text": [
      " 99%|█████████▉| 195/197 [01:26<00:00,  2.35it/s]"
     ]
    },
    {
     "name": "stdout",
     "output_type": "stream",
     "text": [
      "(0,)\n",
      "(0,)\n",
      "(0,)\n",
      "(1,)\n",
      "(0,)\n",
      "(0,)\n",
      "(1,)\n",
      "(0,)\n",
      "(0,)\n",
      "(1,)\n",
      "(0,)\n",
      "(0,)\n",
      "(0,)\n",
      "(1,)\n",
      "(0,)\n",
      "(1,)\n",
      "(0,)\n",
      "(1,)\n",
      "(0,)\n",
      "(0,)\n",
      "(1,)\n",
      "(0,)\n",
      "(0,)\n",
      "(1,)\n"
     ]
    },
    {
     "name": "stderr",
     "output_type": "stream",
     "text": [
      " 99%|█████████▉| 196/197 [01:26<00:00,  2.36it/s]"
     ]
    },
    {
     "name": "stdout",
     "output_type": "stream",
     "text": [
      "(1,)\n",
      "(0,)\n",
      "(1,)\n",
      "(0,)\n",
      "(1,)\n",
      "(0,)\n",
      "(0,)\n",
      "(0,)\n",
      "(0,)\n",
      "(0,)\n",
      "(0,)\n",
      "(1,)\n",
      "(0,)\n",
      "(0,)\n",
      "(0,)\n",
      "(0,)\n",
      "(0,)\n",
      "(1,)\n",
      "(1,)\n",
      "(0,)\n",
      "(0,)\n",
      "(1,)\n",
      "(0,)\n",
      "(1,)\n"
     ]
    },
    {
     "name": "stderr",
     "output_type": "stream",
     "text": [
      "100%|██████████| 197/197 [01:27<00:00,  2.24it/s]"
     ]
    },
    {
     "name": "stdout",
     "output_type": "stream",
     "text": [
      "(0,)\n",
      "(1,)\n"
     ]
    },
    {
     "name": "stderr",
     "output_type": "stream",
     "text": [
      "\n",
      "  0%|          | 1/327 [00:00<04:43,  1.15it/s]"
     ]
    },
    {
     "name": "stdout",
     "output_type": "stream",
     "text": [
      "(0,)\n",
      "(0,)\n",
      "(0,)\n",
      "(1,)\n",
      "(0,)\n",
      "(0,)\n",
      "(0,)\n",
      "(0,)\n",
      "(1,)\n",
      "(0,)\n",
      "(0,)\n",
      "(1,)\n",
      "(1,)\n",
      "(1,)\n",
      "(1,)\n",
      "(0,)\n",
      "(0,)\n",
      "(1,)\n",
      "(0,)\n",
      "(1,)\n",
      "(0,)\n",
      "(1,)\n",
      "(2,)\n",
      "(1,)\n"
     ]
    },
    {
     "name": "stderr",
     "output_type": "stream",
     "text": [
      "  1%|          | 2/327 [00:01<03:59,  1.36it/s]"
     ]
    },
    {
     "name": "stdout",
     "output_type": "stream",
     "text": [
      "(1,)\n",
      "(0,)\n",
      "(1,)\n",
      "(0,)\n",
      "(0,)\n",
      "(0,)\n",
      "(1,)\n",
      "(0,)\n",
      "(1,)\n",
      "(1,)\n",
      "(0,)\n",
      "(1,)\n",
      "(0,)\n",
      "(0,)\n",
      "(0,)\n",
      "(0,)\n",
      "(1,)\n",
      "(0,)\n",
      "(1,)\n",
      "(0,)\n",
      "(0,)\n",
      "(0,)\n",
      "(1,)\n",
      "(0,)\n"
     ]
    },
    {
     "name": "stderr",
     "output_type": "stream",
     "text": [
      "  1%|          | 3/327 [00:01<03:28,  1.55it/s]"
     ]
    },
    {
     "name": "stdout",
     "output_type": "stream",
     "text": [
      "(0,)\n",
      "(1,)\n",
      "(0,)\n",
      "(1,)\n",
      "(0,)\n",
      "(0,)\n",
      "(0,)\n",
      "(2,)\n",
      "(1,)\n",
      "(0,)\n",
      "(1,)\n",
      "(1,)\n",
      "(1,)\n",
      "(0,)\n",
      "(0,)\n",
      "(1,)\n",
      "(1,)\n",
      "(0,)\n",
      "(0,)\n",
      "(0,)\n",
      "(1,)\n",
      "(0,)\n",
      "(0,)\n",
      "(0,)\n"
     ]
    },
    {
     "name": "stderr",
     "output_type": "stream",
     "text": [
      "  1%|          | 4/327 [00:02<03:06,  1.73it/s]"
     ]
    },
    {
     "name": "stdout",
     "output_type": "stream",
     "text": [
      "(1,)\n",
      "(0,)\n",
      "(0,)\n",
      "(2,)\n",
      "(2,)\n",
      "(1,)\n",
      "(0,)\n",
      "(1,)\n",
      "(0,)\n",
      "(1,)\n",
      "(2,)\n",
      "(0,)\n",
      "(0,)\n",
      "(0,)\n",
      "(1,)\n",
      "(0,)\n",
      "(1,)\n",
      "(2,)\n",
      "(0,)\n",
      "(1,)\n",
      "(1,)\n",
      "(1,)\n",
      "(0,)\n",
      "(0,)\n"
     ]
    },
    {
     "name": "stderr",
     "output_type": "stream",
     "text": [
      "  2%|▏         | 5/327 [00:02<02:51,  1.88it/s]"
     ]
    },
    {
     "name": "stdout",
     "output_type": "stream",
     "text": [
      "(0,)\n",
      "(0,)\n",
      "(1,)\n",
      "(0,)\n",
      "(1,)\n",
      "(1,)\n",
      "(0,)\n",
      "(0,)\n",
      "(0,)\n",
      "(1,)\n",
      "(1,)\n",
      "(0,)\n",
      "(0,)\n",
      "(1,)\n",
      "(0,)\n",
      "(0,)\n",
      "(0,)\n",
      "(1,)\n",
      "(0,)\n",
      "(1,)\n",
      "(0,)\n",
      "(1,)\n",
      "(1,)\n",
      "(0,)\n"
     ]
    },
    {
     "name": "stderr",
     "output_type": "stream",
     "text": [
      "  2%|▏         | 6/327 [00:03<02:41,  1.99it/s]"
     ]
    },
    {
     "name": "stdout",
     "output_type": "stream",
     "text": [
      "(0,)\n",
      "(1,)\n",
      "(0,)\n",
      "(1,)\n",
      "(1,)\n",
      "(0,)\n",
      "(1,)\n",
      "(0,)\n",
      "(0,)\n",
      "(1,)\n",
      "(1,)\n",
      "(1,)\n",
      "(1,)\n",
      "(3,)\n",
      "(1,)\n",
      "(0,)\n",
      "(0,)\n",
      "(0,)\n",
      "(1,)\n",
      "(1,)\n",
      "(1,)\n",
      "(0,)\n",
      "(0,)\n",
      "(0,)\n"
     ]
    },
    {
     "name": "stderr",
     "output_type": "stream",
     "text": [
      "  2%|▏         | 7/327 [00:03<02:33,  2.09it/s]"
     ]
    },
    {
     "name": "stdout",
     "output_type": "stream",
     "text": [
      "(0,)\n",
      "(0,)\n",
      "(1,)\n",
      "(1,)\n",
      "(0,)\n",
      "(1,)\n",
      "(0,)\n",
      "(0,)\n",
      "(0,)\n",
      "(1,)\n",
      "(1,)\n",
      "(0,)\n",
      "(0,)\n",
      "(0,)\n",
      "(1,)\n",
      "(0,)\n",
      "(1,)\n",
      "(0,)\n",
      "(2,)\n",
      "(0,)\n",
      "(1,)\n",
      "(0,)\n",
      "(1,)\n",
      "(0,)\n"
     ]
    },
    {
     "name": "stderr",
     "output_type": "stream",
     "text": [
      "  2%|▏         | 8/327 [00:03<02:27,  2.16it/s]"
     ]
    },
    {
     "name": "stdout",
     "output_type": "stream",
     "text": [
      "(1,)\n",
      "(5,)\n",
      "(2,)\n",
      "(3,)\n",
      "(2,)\n",
      "(0,)\n",
      "(0,)\n",
      "(1,)\n",
      "(1,)\n",
      "(0,)\n",
      "(0,)\n",
      "(0,)\n",
      "(1,)\n",
      "(0,)\n",
      "(0,)\n",
      "(1,)\n",
      "(0,)\n",
      "(0,)\n",
      "(0,)\n",
      "(0,)\n",
      "(1,)\n",
      "(1,)\n",
      "(0,)\n",
      "(0,)\n"
     ]
    },
    {
     "name": "stderr",
     "output_type": "stream",
     "text": [
      "  3%|▎         | 9/327 [00:04<02:24,  2.20it/s]"
     ]
    },
    {
     "name": "stdout",
     "output_type": "stream",
     "text": [
      "(0,)\n",
      "(2,)\n",
      "(1,)\n",
      "(1,)\n",
      "(1,)\n",
      "(1,)\n",
      "(1,)\n",
      "(0,)\n",
      "(1,)\n",
      "(1,)\n",
      "(0,)\n",
      "(1,)\n",
      "(1,)\n",
      "(0,)\n",
      "(0,)\n",
      "(1,)\n",
      "(1,)\n",
      "(0,)\n",
      "(1,)\n",
      "(0,)\n",
      "(0,)\n",
      "(0,)\n",
      "(1,)\n",
      "(1,)\n"
     ]
    },
    {
     "name": "stderr",
     "output_type": "stream",
     "text": [
      "  3%|▎         | 10/327 [00:04<02:21,  2.24it/s]"
     ]
    },
    {
     "name": "stdout",
     "output_type": "stream",
     "text": [
      "(0,)\n",
      "(1,)\n",
      "(1,)\n",
      "(1,)\n",
      "(1,)\n",
      "(0,)\n",
      "(0,)\n",
      "(1,)\n",
      "(0,)\n",
      "(1,)\n",
      "(0,)\n",
      "(0,)\n",
      "(1,)\n",
      "(2,)\n",
      "(1,)\n",
      "(0,)\n",
      "(0,)\n",
      "(1,)\n",
      "(2,)\n",
      "(2,)\n",
      "(0,)\n",
      "(0,)\n",
      "(0,)\n",
      "(3,)\n"
     ]
    },
    {
     "name": "stderr",
     "output_type": "stream",
     "text": [
      "  3%|▎         | 11/327 [00:05<02:19,  2.27it/s]"
     ]
    },
    {
     "name": "stdout",
     "output_type": "stream",
     "text": [
      "(0,)\n",
      "(1,)\n",
      "(0,)\n",
      "(1,)\n",
      "(0,)\n",
      "(0,)\n",
      "(0,)\n",
      "(1,)\n",
      "(1,)\n",
      "(0,)\n",
      "(0,)\n",
      "(1,)\n",
      "(0,)\n",
      "(1,)\n",
      "(1,)\n",
      "(0,)\n",
      "(1,)\n",
      "(0,)\n",
      "(0,)\n",
      "(1,)\n",
      "(0,)\n",
      "(1,)\n",
      "(0,)\n",
      "(1,)\n"
     ]
    },
    {
     "name": "stderr",
     "output_type": "stream",
     "text": [
      "  4%|▎         | 12/327 [00:05<02:17,  2.29it/s]"
     ]
    },
    {
     "name": "stdout",
     "output_type": "stream",
     "text": [
      "(0,)\n",
      "(1,)\n",
      "(1,)\n",
      "(2,)\n",
      "(1,)\n",
      "(0,)\n",
      "(1,)\n",
      "(0,)\n",
      "(1,)\n",
      "(0,)\n",
      "(0,)\n",
      "(0,)\n",
      "(0,)\n",
      "(1,)\n",
      "(0,)\n",
      "(0,)\n",
      "(1,)\n",
      "(2,)\n",
      "(1,)\n",
      "(0,)\n",
      "(0,)\n",
      "(0,)\n",
      "(1,)\n",
      "(0,)\n"
     ]
    },
    {
     "name": "stderr",
     "output_type": "stream",
     "text": [
      "  4%|▍         | 13/327 [00:05<02:15,  2.32it/s]"
     ]
    },
    {
     "name": "stdout",
     "output_type": "stream",
     "text": [
      "(0,)\n",
      "(0,)\n",
      "(0,)\n",
      "(1,)\n",
      "(0,)\n",
      "(0,)\n",
      "(1,)\n",
      "(0,)\n",
      "(1,)\n",
      "(0,)\n",
      "(1,)\n",
      "(0,)\n",
      "(0,)\n",
      "(0,)\n",
      "(1,)\n",
      "(0,)\n",
      "(0,)\n",
      "(0,)\n",
      "(0,)\n",
      "(0,)\n",
      "(0,)\n",
      "(1,)\n",
      "(0,)\n",
      "(0,)\n"
     ]
    },
    {
     "name": "stderr",
     "output_type": "stream",
     "text": [
      "  4%|▍         | 14/327 [00:06<02:17,  2.28it/s]"
     ]
    },
    {
     "name": "stdout",
     "output_type": "stream",
     "text": [
      "(0,)\n",
      "(1,)\n",
      "(1,)\n",
      "(0,)\n",
      "(0,)\n",
      "(1,)\n",
      "(0,)\n",
      "(0,)\n",
      "(1,)\n",
      "(1,)\n",
      "(0,)\n",
      "(1,)\n",
      "(1,)\n",
      "(0,)\n",
      "(0,)\n",
      "(1,)\n",
      "(1,)\n",
      "(0,)\n",
      "(0,)\n",
      "(1,)\n",
      "(1,)\n",
      "(1,)\n",
      "(0,)\n",
      "(1,)\n"
     ]
    },
    {
     "name": "stderr",
     "output_type": "stream",
     "text": [
      "  5%|▍         | 15/327 [00:06<02:17,  2.27it/s]"
     ]
    },
    {
     "name": "stdout",
     "output_type": "stream",
     "text": [
      "(1,)\n",
      "(0,)\n",
      "(0,)\n",
      "(0,)\n",
      "(0,)\n",
      "(0,)\n",
      "(0,)\n",
      "(1,)\n",
      "(0,)\n",
      "(0,)\n",
      "(0,)\n",
      "(1,)\n",
      "(0,)\n",
      "(1,)\n",
      "(0,)\n",
      "(0,)\n",
      "(0,)\n",
      "(0,)\n",
      "(1,)\n",
      "(1,)\n",
      "(0,)\n",
      "(0,)\n",
      "(0,)\n",
      "(0,)\n"
     ]
    },
    {
     "name": "stderr",
     "output_type": "stream",
     "text": [
      "  5%|▍         | 16/327 [00:07<02:15,  2.29it/s]"
     ]
    },
    {
     "name": "stdout",
     "output_type": "stream",
     "text": [
      "(1,)\n",
      "(0,)\n",
      "(0,)\n",
      "(0,)\n",
      "(1,)\n",
      "(0,)\n",
      "(1,)\n",
      "(2,)\n",
      "(2,)\n",
      "(1,)\n",
      "(0,)\n",
      "(0,)\n",
      "(1,)\n",
      "(0,)\n",
      "(0,)\n",
      "(0,)\n",
      "(0,)\n",
      "(0,)\n",
      "(0,)\n",
      "(0,)\n",
      "(0,)\n",
      "(1,)\n",
      "(0,)\n",
      "(1,)\n"
     ]
    },
    {
     "name": "stderr",
     "output_type": "stream",
     "text": [
      "  5%|▌         | 17/327 [00:07<02:14,  2.30it/s]"
     ]
    },
    {
     "name": "stdout",
     "output_type": "stream",
     "text": [
      "(0,)\n",
      "(1,)\n",
      "(0,)\n",
      "(0,)\n",
      "(0,)\n",
      "(0,)\n",
      "(1,)\n",
      "(0,)\n",
      "(0,)\n",
      "(1,)\n",
      "(1,)\n",
      "(1,)\n",
      "(1,)\n",
      "(1,)\n",
      "(0,)\n",
      "(1,)\n",
      "(0,)\n",
      "(1,)\n",
      "(1,)\n",
      "(1,)\n",
      "(0,)\n",
      "(0,)\n",
      "(1,)\n",
      "(0,)\n"
     ]
    },
    {
     "name": "stderr",
     "output_type": "stream",
     "text": [
      "  6%|▌         | 18/327 [00:08<02:13,  2.31it/s]"
     ]
    },
    {
     "name": "stdout",
     "output_type": "stream",
     "text": [
      "(0,)\n",
      "(1,)\n",
      "(1,)\n",
      "(0,)\n",
      "(1,)\n",
      "(1,)\n",
      "(0,)\n",
      "(0,)\n",
      "(1,)\n",
      "(1,)\n",
      "(2,)\n",
      "(1,)\n",
      "(0,)\n",
      "(0,)\n",
      "(2,)\n",
      "(0,)\n",
      "(0,)\n",
      "(0,)\n",
      "(0,)\n",
      "(0,)\n",
      "(0,)\n",
      "(0,)\n",
      "(1,)\n",
      "(1,)\n"
     ]
    },
    {
     "name": "stderr",
     "output_type": "stream",
     "text": [
      "  6%|▌         | 19/327 [00:08<02:12,  2.33it/s]"
     ]
    },
    {
     "name": "stdout",
     "output_type": "stream",
     "text": [
      "(0,)\n",
      "(0,)\n",
      "(0,)\n",
      "(0,)\n",
      "(0,)\n",
      "(1,)\n",
      "(1,)\n",
      "(0,)\n",
      "(0,)\n",
      "(0,)\n",
      "(0,)\n",
      "(0,)\n",
      "(4,)\n",
      "(2,)\n",
      "(0,)\n",
      "(0,)\n",
      "(0,)\n",
      "(0,)\n",
      "(1,)\n",
      "(0,)\n",
      "(0,)\n",
      "(0,)\n",
      "(0,)\n",
      "(0,)\n"
     ]
    },
    {
     "name": "stderr",
     "output_type": "stream",
     "text": [
      "  6%|▌         | 20/327 [00:09<02:11,  2.33it/s]"
     ]
    },
    {
     "name": "stdout",
     "output_type": "stream",
     "text": [
      "(1,)\n",
      "(0,)\n",
      "(0,)\n",
      "(0,)\n",
      "(0,)\n",
      "(1,)\n",
      "(0,)\n",
      "(0,)\n",
      "(1,)\n",
      "(1,)\n",
      "(1,)\n",
      "(1,)\n",
      "(0,)\n",
      "(1,)\n",
      "(0,)\n",
      "(1,)\n",
      "(0,)\n",
      "(0,)\n",
      "(3,)\n",
      "(0,)\n",
      "(1,)\n",
      "(0,)\n",
      "(0,)\n",
      "(0,)\n"
     ]
    },
    {
     "name": "stderr",
     "output_type": "stream",
     "text": [
      "  6%|▋         | 21/327 [00:09<02:11,  2.33it/s]"
     ]
    },
    {
     "name": "stdout",
     "output_type": "stream",
     "text": [
      "(0,)\n",
      "(1,)\n",
      "(2,)\n",
      "(1,)\n",
      "(0,)\n",
      "(0,)\n",
      "(0,)\n",
      "(0,)\n",
      "(0,)\n",
      "(0,)\n",
      "(1,)\n",
      "(1,)\n",
      "(0,)\n",
      "(0,)\n",
      "(0,)\n",
      "(1,)\n",
      "(4,)\n",
      "(3,)\n",
      "(0,)\n",
      "(0,)\n",
      "(0,)\n",
      "(0,)\n",
      "(1,)\n",
      "(1,)\n"
     ]
    },
    {
     "name": "stderr",
     "output_type": "stream",
     "text": [
      "  7%|▋         | 22/327 [00:09<02:10,  2.34it/s]"
     ]
    },
    {
     "name": "stdout",
     "output_type": "stream",
     "text": [
      "(0,)\n",
      "(1,)\n",
      "(0,)\n",
      "(0,)\n",
      "(0,)\n",
      "(0,)\n",
      "(0,)\n",
      "(0,)\n",
      "(1,)\n",
      "(0,)\n",
      "(0,)\n",
      "(1,)\n",
      "(0,)\n",
      "(0,)\n",
      "(0,)\n",
      "(1,)\n",
      "(1,)\n",
      "(0,)\n",
      "(1,)\n",
      "(0,)\n",
      "(0,)\n",
      "(0,)\n",
      "(0,)\n",
      "(1,)\n"
     ]
    },
    {
     "name": "stderr",
     "output_type": "stream",
     "text": [
      "  7%|▋         | 23/327 [00:10<02:09,  2.34it/s]"
     ]
    },
    {
     "name": "stdout",
     "output_type": "stream",
     "text": [
      "(0,)\n",
      "(0,)\n",
      "(0,)\n",
      "(1,)\n",
      "(0,)\n",
      "(1,)\n",
      "(0,)\n",
      "(0,)\n",
      "(0,)\n",
      "(1,)\n",
      "(0,)\n",
      "(1,)\n",
      "(0,)\n",
      "(0,)\n",
      "(0,)\n",
      "(0,)\n",
      "(0,)\n",
      "(0,)\n",
      "(1,)\n",
      "(0,)\n",
      "(0,)\n",
      "(1,)\n",
      "(1,)\n",
      "(1,)\n"
     ]
    },
    {
     "name": "stderr",
     "output_type": "stream",
     "text": [
      "  7%|▋         | 24/327 [00:10<02:09,  2.35it/s]"
     ]
    },
    {
     "name": "stdout",
     "output_type": "stream",
     "text": [
      "(0,)\n",
      "(0,)\n",
      "(2,)\n",
      "(2,)\n",
      "(3,)\n",
      "(2,)\n",
      "(0,)\n",
      "(1,)\n",
      "(0,)\n",
      "(1,)\n",
      "(1,)\n",
      "(1,)\n",
      "(0,)\n",
      "(0,)\n",
      "(1,)\n",
      "(1,)\n",
      "(0,)\n",
      "(0,)\n",
      "(0,)\n",
      "(0,)\n",
      "(0,)\n",
      "(1,)\n",
      "(0,)\n",
      "(0,)\n"
     ]
    },
    {
     "name": "stderr",
     "output_type": "stream",
     "text": [
      "  8%|▊         | 25/327 [00:11<02:08,  2.34it/s]"
     ]
    },
    {
     "name": "stdout",
     "output_type": "stream",
     "text": [
      "(1,)\n",
      "(0,)\n",
      "(2,)\n",
      "(0,)\n",
      "(0,)\n",
      "(1,)\n",
      "(1,)\n",
      "(0,)\n",
      "(0,)\n",
      "(1,)\n",
      "(1,)\n",
      "(0,)\n",
      "(0,)\n",
      "(1,)\n",
      "(0,)\n",
      "(1,)\n",
      "(1,)\n",
      "(0,)\n",
      "(0,)\n",
      "(2,)\n",
      "(1,)\n",
      "(0,)\n",
      "(2,)\n",
      "(0,)\n"
     ]
    },
    {
     "name": "stderr",
     "output_type": "stream",
     "text": [
      "  8%|▊         | 26/327 [00:11<02:08,  2.35it/s]"
     ]
    },
    {
     "name": "stdout",
     "output_type": "stream",
     "text": [
      "(0,)\n",
      "(0,)\n",
      "(1,)\n",
      "(0,)\n",
      "(0,)\n",
      "(0,)\n",
      "(1,)\n",
      "(1,)\n",
      "(1,)\n",
      "(0,)\n",
      "(0,)\n",
      "(0,)\n",
      "(1,)\n",
      "(1,)\n",
      "(0,)\n",
      "(0,)\n",
      "(0,)\n",
      "(0,)\n",
      "(1,)\n",
      "(0,)\n",
      "(1,)\n",
      "(1,)\n",
      "(0,)\n",
      "(1,)\n"
     ]
    },
    {
     "name": "stderr",
     "output_type": "stream",
     "text": [
      "  8%|▊         | 27/327 [00:12<02:08,  2.34it/s]"
     ]
    },
    {
     "name": "stdout",
     "output_type": "stream",
     "text": [
      "(0,)\n",
      "(0,)\n",
      "(1,)\n",
      "(0,)\n",
      "(0,)\n",
      "(0,)\n",
      "(0,)\n",
      "(1,)\n",
      "(0,)\n",
      "(0,)\n",
      "(0,)\n",
      "(0,)\n",
      "(1,)\n",
      "(0,)\n",
      "(0,)\n",
      "(1,)\n",
      "(1,)\n",
      "(1,)\n",
      "(0,)\n",
      "(0,)\n",
      "(0,)\n",
      "(1,)\n",
      "(1,)\n",
      "(1,)\n"
     ]
    },
    {
     "name": "stderr",
     "output_type": "stream",
     "text": [
      "  9%|▊         | 28/327 [00:12<02:07,  2.34it/s]"
     ]
    },
    {
     "name": "stdout",
     "output_type": "stream",
     "text": [
      "(2,)\n",
      "(0,)\n",
      "(0,)\n",
      "(10,)\n",
      "(1,)\n",
      "(0,)\n",
      "(1,)\n",
      "(0,)\n",
      "(0,)\n",
      "(0,)\n",
      "(1,)\n",
      "(0,)\n",
      "(1,)\n",
      "(0,)\n",
      "(1,)\n",
      "(1,)\n",
      "(0,)\n",
      "(0,)\n",
      "(0,)\n",
      "(0,)\n",
      "(0,)\n",
      "(1,)\n",
      "(1,)\n",
      "(0,)\n"
     ]
    },
    {
     "name": "stderr",
     "output_type": "stream",
     "text": [
      "  9%|▉         | 29/327 [00:12<02:07,  2.34it/s]"
     ]
    },
    {
     "name": "stdout",
     "output_type": "stream",
     "text": [
      "(1,)\n",
      "(0,)\n",
      "(1,)\n",
      "(1,)\n",
      "(0,)\n",
      "(0,)\n",
      "(0,)\n",
      "(0,)\n",
      "(0,)\n",
      "(3,)\n",
      "(0,)\n",
      "(1,)\n",
      "(0,)\n",
      "(9,)\n",
      "(0,)\n",
      "(0,)\n",
      "(1,)\n",
      "(1,)\n",
      "(0,)\n",
      "(1,)\n",
      "(1,)\n",
      "(0,)\n",
      "(0,)\n",
      "(0,)\n"
     ]
    },
    {
     "name": "stderr",
     "output_type": "stream",
     "text": [
      "  9%|▉         | 30/327 [00:13<02:06,  2.35it/s]"
     ]
    },
    {
     "name": "stdout",
     "output_type": "stream",
     "text": [
      "(0,)\n",
      "(0,)\n",
      "(0,)\n",
      "(1,)\n",
      "(0,)\n",
      "(0,)\n",
      "(1,)\n",
      "(1,)\n",
      "(0,)\n",
      "(0,)\n",
      "(2,)\n",
      "(0,)\n",
      "(1,)\n",
      "(0,)\n",
      "(0,)\n",
      "(0,)\n",
      "(1,)\n",
      "(0,)\n",
      "(1,)\n",
      "(0,)\n",
      "(0,)\n",
      "(0,)\n",
      "(0,)\n",
      "(0,)\n"
     ]
    },
    {
     "name": "stderr",
     "output_type": "stream",
     "text": [
      "  9%|▉         | 31/327 [00:13<02:05,  2.35it/s]"
     ]
    },
    {
     "name": "stdout",
     "output_type": "stream",
     "text": [
      "(0,)\n",
      "(1,)\n",
      "(0,)\n",
      "(0,)\n",
      "(0,)\n",
      "(1,)\n",
      "(1,)\n",
      "(2,)\n",
      "(1,)\n",
      "(4,)\n",
      "(1,)\n",
      "(2,)\n",
      "(1,)\n",
      "(0,)\n",
      "(0,)\n",
      "(0,)\n",
      "(0,)\n",
      "(1,)\n",
      "(0,)\n",
      "(0,)\n",
      "(0,)\n",
      "(0,)\n",
      "(0,)\n",
      "(0,)\n"
     ]
    },
    {
     "name": "stderr",
     "output_type": "stream",
     "text": [
      " 10%|▉         | 32/327 [00:14<02:05,  2.36it/s]"
     ]
    },
    {
     "name": "stdout",
     "output_type": "stream",
     "text": [
      "(0,)\n",
      "(0,)\n",
      "(0,)\n",
      "(1,)\n",
      "(0,)\n",
      "(0,)\n",
      "(0,)\n",
      "(0,)\n",
      "(1,)\n",
      "(0,)\n",
      "(1,)\n",
      "(1,)\n",
      "(11,)\n",
      "(0,)\n",
      "(0,)\n",
      "(1,)\n",
      "(2,)\n",
      "(0,)\n",
      "(0,)\n",
      "(1,)\n",
      "(0,)\n",
      "(1,)\n",
      "(0,)\n",
      "(1,)\n"
     ]
    },
    {
     "name": "stderr",
     "output_type": "stream",
     "text": [
      " 10%|█         | 33/327 [00:14<02:04,  2.36it/s]"
     ]
    },
    {
     "name": "stdout",
     "output_type": "stream",
     "text": [
      "(0,)\n",
      "(0,)\n",
      "(3,)\n",
      "(0,)\n",
      "(1,)\n",
      "(0,)\n",
      "(0,)\n",
      "(1,)\n",
      "(0,)\n",
      "(0,)\n",
      "(1,)\n",
      "(0,)\n",
      "(1,)\n",
      "(0,)\n",
      "(1,)\n",
      "(1,)\n",
      "(0,)\n",
      "(1,)\n",
      "(0,)\n",
      "(1,)\n",
      "(0,)\n",
      "(0,)\n",
      "(0,)\n",
      "(0,)\n"
     ]
    },
    {
     "name": "stderr",
     "output_type": "stream",
     "text": [
      " 10%|█         | 34/327 [00:14<02:04,  2.36it/s]"
     ]
    },
    {
     "name": "stdout",
     "output_type": "stream",
     "text": [
      "(0,)\n",
      "(0,)\n",
      "(1,)\n",
      "(0,)\n",
      "(1,)\n",
      "(1,)\n",
      "(0,)\n",
      "(0,)\n",
      "(1,)\n",
      "(1,)\n",
      "(0,)\n",
      "(2,)\n",
      "(0,)\n",
      "(1,)\n",
      "(1,)\n",
      "(0,)\n",
      "(1,)\n",
      "(1,)\n",
      "(1,)\n",
      "(1,)\n",
      "(0,)\n",
      "(0,)\n",
      "(1,)\n",
      "(0,)\n"
     ]
    },
    {
     "name": "stderr",
     "output_type": "stream",
     "text": [
      " 11%|█         | 35/327 [00:15<02:03,  2.36it/s]"
     ]
    },
    {
     "name": "stdout",
     "output_type": "stream",
     "text": [
      "(0,)\n",
      "(1,)\n",
      "(0,)\n",
      "(1,)\n",
      "(0,)\n",
      "(0,)\n",
      "(1,)\n",
      "(1,)\n",
      "(0,)\n",
      "(1,)\n",
      "(1,)\n",
      "(0,)\n",
      "(1,)\n",
      "(0,)\n",
      "(1,)\n",
      "(0,)\n",
      "(0,)\n",
      "(1,)\n",
      "(0,)\n",
      "(3,)\n",
      "(0,)\n",
      "(0,)\n",
      "(1,)\n",
      "(0,)\n"
     ]
    },
    {
     "name": "stderr",
     "output_type": "stream",
     "text": [
      " 11%|█         | 36/327 [00:15<02:03,  2.35it/s]"
     ]
    },
    {
     "name": "stdout",
     "output_type": "stream",
     "text": [
      "(0,)\n",
      "(1,)\n",
      "(0,)\n",
      "(0,)\n",
      "(0,)\n",
      "(1,)\n",
      "(0,)\n",
      "(0,)\n",
      "(1,)\n",
      "(1,)\n",
      "(1,)\n",
      "(0,)\n",
      "(1,)\n",
      "(0,)\n",
      "(1,)\n",
      "(10,)\n",
      "(0,)\n",
      "(2,)\n",
      "(8,)\n",
      "(1,)\n",
      "(0,)\n",
      "(0,)\n",
      "(0,)\n",
      "(1,)\n"
     ]
    },
    {
     "name": "stderr",
     "output_type": "stream",
     "text": [
      " 11%|█▏        | 37/327 [00:16<02:03,  2.35it/s]"
     ]
    },
    {
     "name": "stdout",
     "output_type": "stream",
     "text": [
      "(0,)\n",
      "(0,)\n",
      "(0,)\n",
      "(1,)\n",
      "(0,)\n",
      "(1,)\n",
      "(0,)\n",
      "(1,)\n",
      "(0,)\n",
      "(1,)\n",
      "(0,)\n",
      "(1,)\n",
      "(1,)\n",
      "(0,)\n",
      "(0,)\n",
      "(0,)\n",
      "(0,)\n",
      "(1,)\n",
      "(0,)\n",
      "(0,)\n",
      "(1,)\n",
      "(1,)\n",
      "(1,)\n",
      "(0,)\n"
     ]
    },
    {
     "name": "stderr",
     "output_type": "stream",
     "text": [
      " 12%|█▏        | 38/327 [00:16<02:02,  2.35it/s]"
     ]
    },
    {
     "name": "stdout",
     "output_type": "stream",
     "text": [
      "(0,)\n",
      "(0,)\n",
      "(1,)\n",
      "(1,)\n",
      "(1,)\n",
      "(0,)\n",
      "(1,)\n",
      "(0,)\n",
      "(6,)\n",
      "(2,)\n",
      "(1,)\n",
      "(0,)\n",
      "(0,)\n",
      "(0,)\n",
      "(0,)\n",
      "(0,)\n",
      "(0,)\n",
      "(0,)\n",
      "(0,)\n",
      "(0,)\n",
      "(1,)\n",
      "(1,)\n",
      "(1,)\n",
      "(0,)\n"
     ]
    },
    {
     "name": "stderr",
     "output_type": "stream",
     "text": [
      " 12%|█▏        | 39/327 [00:17<02:02,  2.35it/s]"
     ]
    },
    {
     "name": "stdout",
     "output_type": "stream",
     "text": [
      "(1,)\n",
      "(1,)\n",
      "(1,)\n",
      "(0,)\n",
      "(0,)\n",
      "(0,)\n",
      "(0,)\n",
      "(1,)\n",
      "(0,)\n",
      "(0,)\n",
      "(1,)\n",
      "(2,)\n",
      "(1,)\n",
      "(7,)\n",
      "(0,)\n",
      "(1,)\n",
      "(0,)\n",
      "(0,)\n",
      "(1,)\n",
      "(0,)\n",
      "(0,)\n",
      "(1,)\n",
      "(0,)\n",
      "(1,)\n"
     ]
    },
    {
     "name": "stderr",
     "output_type": "stream",
     "text": [
      " 12%|█▏        | 40/327 [00:17<02:02,  2.35it/s]"
     ]
    },
    {
     "name": "stdout",
     "output_type": "stream",
     "text": [
      "(0,)\n",
      "(0,)\n",
      "(2,)\n",
      "(0,)\n",
      "(0,)\n",
      "(0,)\n",
      "(1,)\n",
      "(1,)\n",
      "(1,)\n",
      "(0,)\n",
      "(1,)\n",
      "(0,)\n",
      "(0,)\n",
      "(0,)\n",
      "(1,)\n",
      "(1,)\n",
      "(1,)\n",
      "(0,)\n",
      "(0,)\n",
      "(1,)\n",
      "(0,)\n",
      "(0,)\n",
      "(0,)\n",
      "(1,)\n"
     ]
    },
    {
     "name": "stderr",
     "output_type": "stream",
     "text": [
      " 13%|█▎        | 41/327 [00:17<02:01,  2.35it/s]"
     ]
    },
    {
     "name": "stdout",
     "output_type": "stream",
     "text": [
      "(1,)\n",
      "(1,)\n",
      "(1,)\n",
      "(0,)\n",
      "(2,)\n",
      "(2,)\n",
      "(1,)\n",
      "(1,)\n",
      "(0,)\n",
      "(3,)\n",
      "(0,)\n",
      "(0,)\n",
      "(0,)\n",
      "(1,)\n",
      "(0,)\n",
      "(0,)\n",
      "(0,)\n",
      "(1,)\n",
      "(0,)\n",
      "(1,)\n",
      "(0,)\n",
      "(0,)\n",
      "(1,)\n",
      "(1,)\n"
     ]
    },
    {
     "name": "stderr",
     "output_type": "stream",
     "text": [
      " 13%|█▎        | 42/327 [00:18<02:01,  2.35it/s]"
     ]
    },
    {
     "name": "stdout",
     "output_type": "stream",
     "text": [
      "(1,)\n",
      "(1,)\n",
      "(0,)\n",
      "(0,)\n",
      "(0,)\n",
      "(1,)\n",
      "(0,)\n",
      "(0,)\n",
      "(0,)\n",
      "(0,)\n",
      "(0,)\n",
      "(3,)\n",
      "(0,)\n",
      "(1,)\n",
      "(1,)\n",
      "(0,)\n",
      "(1,)\n",
      "(1,)\n",
      "(0,)\n",
      "(0,)\n",
      "(1,)\n",
      "(0,)\n",
      "(0,)\n",
      "(0,)\n"
     ]
    },
    {
     "name": "stderr",
     "output_type": "stream",
     "text": [
      " 13%|█▎        | 43/327 [00:18<02:01,  2.34it/s]"
     ]
    },
    {
     "name": "stdout",
     "output_type": "stream",
     "text": [
      "(0,)\n",
      "(1,)\n",
      "(0,)\n",
      "(2,)\n",
      "(0,)\n",
      "(1,)\n",
      "(0,)\n",
      "(1,)\n",
      "(2,)\n",
      "(1,)\n",
      "(1,)\n",
      "(0,)\n",
      "(0,)\n",
      "(1,)\n",
      "(0,)\n",
      "(1,)\n",
      "(1,)\n",
      "(1,)\n",
      "(0,)\n",
      "(0,)\n",
      "(2,)\n",
      "(1,)\n",
      "(0,)\n",
      "(2,)\n"
     ]
    },
    {
     "name": "stderr",
     "output_type": "stream",
     "text": [
      " 13%|█▎        | 44/327 [00:19<02:00,  2.35it/s]"
     ]
    },
    {
     "name": "stdout",
     "output_type": "stream",
     "text": [
      "(0,)\n",
      "(0,)\n",
      "(1,)\n",
      "(0,)\n",
      "(0,)\n",
      "(4,)\n",
      "(1,)\n",
      "(1,)\n",
      "(1,)\n",
      "(1,)\n",
      "(0,)\n",
      "(0,)\n",
      "(1,)\n",
      "(0,)\n",
      "(0,)\n",
      "(0,)\n",
      "(0,)\n",
      "(0,)\n",
      "(1,)\n",
      "(1,)\n",
      "(0,)\n",
      "(0,)\n",
      "(1,)\n",
      "(1,)\n"
     ]
    },
    {
     "name": "stderr",
     "output_type": "stream",
     "text": [
      " 14%|█▍        | 45/327 [00:19<02:00,  2.34it/s]"
     ]
    },
    {
     "name": "stdout",
     "output_type": "stream",
     "text": [
      "(0,)\n",
      "(1,)\n",
      "(0,)\n",
      "(2,)\n",
      "(1,)\n",
      "(1,)\n",
      "(0,)\n",
      "(1,)\n",
      "(0,)\n",
      "(0,)\n",
      "(0,)\n",
      "(0,)\n",
      "(1,)\n",
      "(1,)\n",
      "(0,)\n",
      "(1,)\n",
      "(0,)\n",
      "(0,)\n",
      "(1,)\n",
      "(0,)\n",
      "(1,)\n",
      "(0,)\n",
      "(0,)\n",
      "(0,)\n"
     ]
    },
    {
     "name": "stderr",
     "output_type": "stream",
     "text": [
      " 14%|█▍        | 46/327 [00:20<02:00,  2.34it/s]"
     ]
    },
    {
     "name": "stdout",
     "output_type": "stream",
     "text": [
      "(0,)\n",
      "(2,)\n",
      "(0,)\n",
      "(0,)\n",
      "(1,)\n",
      "(2,)\n",
      "(0,)\n",
      "(0,)\n",
      "(1,)\n",
      "(0,)\n",
      "(1,)\n",
      "(1,)\n",
      "(0,)\n",
      "(1,)\n",
      "(1,)\n",
      "(1,)\n",
      "(1,)\n",
      "(1,)\n",
      "(2,)\n",
      "(2,)\n",
      "(3,)\n",
      "(1,)\n",
      "(0,)\n",
      "(0,)\n"
     ]
    },
    {
     "name": "stderr",
     "output_type": "stream",
     "text": [
      " 14%|█▍        | 47/327 [00:20<01:59,  2.34it/s]"
     ]
    },
    {
     "name": "stdout",
     "output_type": "stream",
     "text": [
      "(0,)\n",
      "(0,)\n",
      "(1,)\n",
      "(1,)\n",
      "(0,)\n",
      "(1,)\n",
      "(0,)\n",
      "(1,)\n",
      "(2,)\n",
      "(1,)\n",
      "(0,)\n",
      "(1,)\n",
      "(0,)\n",
      "(1,)\n",
      "(0,)\n",
      "(1,)\n",
      "(0,)\n",
      "(1,)\n",
      "(1,)\n",
      "(1,)\n",
      "(1,)\n",
      "(1,)\n",
      "(0,)\n",
      "(0,)\n"
     ]
    },
    {
     "name": "stderr",
     "output_type": "stream",
     "text": [
      " 15%|█▍        | 48/327 [00:20<01:59,  2.34it/s]"
     ]
    },
    {
     "name": "stdout",
     "output_type": "stream",
     "text": [
      "(1,)\n",
      "(0,)\n",
      "(1,)\n",
      "(1,)\n",
      "(0,)\n",
      "(0,)\n",
      "(0,)\n",
      "(1,)\n",
      "(1,)\n",
      "(0,)\n",
      "(0,)\n",
      "(0,)\n",
      "(0,)\n",
      "(1,)\n",
      "(1,)\n",
      "(1,)\n",
      "(0,)\n",
      "(0,)\n",
      "(0,)\n",
      "(1,)\n",
      "(1,)\n",
      "(5,)\n",
      "(3,)\n",
      "(0,)\n"
     ]
    },
    {
     "name": "stderr",
     "output_type": "stream",
     "text": [
      " 15%|█▍        | 49/327 [00:21<01:58,  2.35it/s]"
     ]
    },
    {
     "name": "stdout",
     "output_type": "stream",
     "text": [
      "(1,)\n",
      "(0,)\n",
      "(0,)\n",
      "(0,)\n",
      "(0,)\n",
      "(0,)\n",
      "(0,)\n",
      "(1,)\n",
      "(1,)\n",
      "(0,)\n",
      "(0,)\n",
      "(0,)\n",
      "(1,)\n",
      "(1,)\n",
      "(0,)\n",
      "(0,)\n",
      "(1,)\n",
      "(0,)\n",
      "(1,)\n",
      "(0,)\n",
      "(1,)\n",
      "(0,)\n",
      "(0,)\n",
      "(1,)\n"
     ]
    },
    {
     "name": "stderr",
     "output_type": "stream",
     "text": [
      " 15%|█▌        | 50/327 [00:21<01:57,  2.36it/s]"
     ]
    },
    {
     "name": "stdout",
     "output_type": "stream",
     "text": [
      "(0,)\n",
      "(0,)\n",
      "(1,)\n",
      "(0,)\n",
      "(0,)\n",
      "(0,)\n",
      "(0,)\n",
      "(0,)\n",
      "(1,)\n",
      "(0,)\n",
      "(0,)\n",
      "(1,)\n",
      "(0,)\n",
      "(0,)\n",
      "(0,)\n",
      "(1,)\n",
      "(0,)\n",
      "(1,)\n",
      "(0,)\n",
      "(1,)\n",
      "(0,)\n",
      "(0,)\n",
      "(1,)\n",
      "(0,)\n"
     ]
    },
    {
     "name": "stderr",
     "output_type": "stream",
     "text": [
      " 16%|█▌        | 51/327 [00:22<01:56,  2.36it/s]"
     ]
    },
    {
     "name": "stdout",
     "output_type": "stream",
     "text": [
      "(1,)\n",
      "(0,)\n",
      "(0,)\n",
      "(0,)\n",
      "(0,)\n",
      "(0,)\n",
      "(1,)\n",
      "(1,)\n",
      "(0,)\n",
      "(0,)\n",
      "(0,)\n",
      "(0,)\n",
      "(0,)\n",
      "(1,)\n",
      "(0,)\n",
      "(1,)\n",
      "(0,)\n",
      "(0,)\n",
      "(1,)\n",
      "(0,)\n",
      "(1,)\n",
      "(3,)\n",
      "(1,)\n",
      "(2,)\n"
     ]
    },
    {
     "name": "stderr",
     "output_type": "stream",
     "text": [
      " 16%|█▌        | 52/327 [00:22<01:56,  2.37it/s]"
     ]
    },
    {
     "name": "stdout",
     "output_type": "stream",
     "text": [
      "(1,)\n",
      "(0,)\n",
      "(0,)\n",
      "(0,)\n",
      "(0,)\n",
      "(0,)\n",
      "(0,)\n",
      "(0,)\n",
      "(1,)\n",
      "(0,)\n",
      "(1,)\n",
      "(2,)\n",
      "(1,)\n",
      "(0,)\n",
      "(0,)\n",
      "(1,)\n",
      "(0,)\n",
      "(0,)\n",
      "(0,)\n",
      "(1,)\n",
      "(0,)\n",
      "(0,)\n",
      "(1,)\n",
      "(0,)\n"
     ]
    },
    {
     "name": "stderr",
     "output_type": "stream",
     "text": [
      " 16%|█▌        | 53/327 [00:23<01:55,  2.37it/s]"
     ]
    },
    {
     "name": "stdout",
     "output_type": "stream",
     "text": [
      "(0,)\n",
      "(1,)\n",
      "(0,)\n",
      "(0,)\n",
      "(0,)\n",
      "(0,)\n",
      "(1,)\n",
      "(0,)\n",
      "(0,)\n",
      "(0,)\n",
      "(0,)\n",
      "(0,)\n",
      "(1,)\n",
      "(1,)\n",
      "(0,)\n",
      "(0,)\n",
      "(1,)\n",
      "(1,)\n",
      "(0,)\n",
      "(0,)\n",
      "(0,)\n",
      "(1,)\n",
      "(0,)\n",
      "(0,)\n"
     ]
    },
    {
     "name": "stderr",
     "output_type": "stream",
     "text": [
      " 17%|█▋        | 54/327 [00:23<01:54,  2.38it/s]"
     ]
    },
    {
     "name": "stdout",
     "output_type": "stream",
     "text": [
      "(0,)\n",
      "(0,)\n",
      "(1,)\n",
      "(0,)\n",
      "(0,)\n",
      "(0,)\n",
      "(0,)\n",
      "(0,)\n",
      "(0,)\n",
      "(0,)\n",
      "(0,)\n",
      "(0,)\n",
      "(1,)\n",
      "(0,)\n",
      "(1,)\n",
      "(1,)\n",
      "(0,)\n",
      "(0,)\n",
      "(1,)\n",
      "(0,)\n",
      "(0,)\n",
      "(1,)\n",
      "(1,)\n",
      "(2,)\n"
     ]
    },
    {
     "name": "stderr",
     "output_type": "stream",
     "text": [
      " 17%|█▋        | 55/327 [00:23<01:54,  2.37it/s]"
     ]
    },
    {
     "name": "stdout",
     "output_type": "stream",
     "text": [
      "(0,)\n",
      "(1,)\n",
      "(1,)\n",
      "(0,)\n",
      "(0,)\n",
      "(0,)\n",
      "(1,)\n",
      "(1,)\n",
      "(0,)\n",
      "(0,)\n",
      "(0,)\n",
      "(1,)\n",
      "(0,)\n",
      "(0,)\n",
      "(1,)\n",
      "(1,)\n",
      "(0,)\n",
      "(0,)\n",
      "(1,)\n",
      "(1,)\n",
      "(1,)\n",
      "(2,)\n",
      "(1,)\n",
      "(0,)\n"
     ]
    },
    {
     "name": "stderr",
     "output_type": "stream",
     "text": [
      " 17%|█▋        | 56/327 [00:24<01:54,  2.37it/s]"
     ]
    },
    {
     "name": "stdout",
     "output_type": "stream",
     "text": [
      "(0,)\n",
      "(1,)\n",
      "(0,)\n",
      "(0,)\n",
      "(0,)\n",
      "(1,)\n",
      "(0,)\n",
      "(0,)\n",
      "(0,)\n",
      "(0,)\n",
      "(0,)\n",
      "(0,)\n",
      "(0,)\n",
      "(1,)\n",
      "(0,)\n",
      "(0,)\n",
      "(1,)\n",
      "(1,)\n",
      "(0,)\n",
      "(1,)\n",
      "(1,)\n",
      "(1,)\n",
      "(0,)\n",
      "(0,)\n"
     ]
    },
    {
     "name": "stderr",
     "output_type": "stream",
     "text": [
      " 17%|█▋        | 57/327 [00:24<01:53,  2.37it/s]"
     ]
    },
    {
     "name": "stdout",
     "output_type": "stream",
     "text": [
      "(0,)\n",
      "(0,)\n",
      "(1,)\n",
      "(1,)\n",
      "(0,)\n",
      "(1,)\n",
      "(1,)\n",
      "(1,)\n",
      "(0,)\n",
      "(0,)\n",
      "(1,)\n",
      "(0,)\n",
      "(0,)\n",
      "(0,)\n",
      "(0,)\n",
      "(0,)\n",
      "(0,)\n",
      "(1,)\n",
      "(0,)\n",
      "(0,)\n",
      "(1,)\n",
      "(0,)\n",
      "(2,)\n",
      "(1,)\n"
     ]
    },
    {
     "name": "stderr",
     "output_type": "stream",
     "text": [
      " 18%|█▊        | 58/327 [00:25<01:53,  2.37it/s]"
     ]
    },
    {
     "name": "stdout",
     "output_type": "stream",
     "text": [
      "(0,)\n",
      "(0,)\n",
      "(1,)\n",
      "(0,)\n",
      "(3,)\n",
      "(1,)\n",
      "(0,)\n",
      "(1,)\n",
      "(0,)\n",
      "(0,)\n",
      "(0,)\n",
      "(0,)\n",
      "(1,)\n",
      "(0,)\n",
      "(0,)\n",
      "(0,)\n",
      "(1,)\n",
      "(0,)\n",
      "(0,)\n",
      "(0,)\n",
      "(0,)\n",
      "(1,)\n",
      "(0,)\n",
      "(0,)\n"
     ]
    },
    {
     "name": "stderr",
     "output_type": "stream",
     "text": [
      " 18%|█▊        | 59/327 [00:25<01:53,  2.36it/s]"
     ]
    },
    {
     "name": "stdout",
     "output_type": "stream",
     "text": [
      "(0,)\n",
      "(1,)\n",
      "(2,)\n",
      "(1,)\n",
      "(1,)\n",
      "(0,)\n",
      "(1,)\n",
      "(0,)\n",
      "(1,)\n",
      "(1,)\n",
      "(1,)\n",
      "(1,)\n",
      "(0,)\n",
      "(1,)\n",
      "(0,)\n",
      "(0,)\n",
      "(0,)\n",
      "(1,)\n",
      "(0,)\n",
      "(0,)\n",
      "(1,)\n",
      "(0,)\n",
      "(0,)\n",
      "(1,)\n"
     ]
    },
    {
     "name": "stderr",
     "output_type": "stream",
     "text": [
      " 18%|█▊        | 60/327 [00:26<01:53,  2.36it/s]"
     ]
    },
    {
     "name": "stdout",
     "output_type": "stream",
     "text": [
      "(1,)\n",
      "(0,)\n",
      "(1,)\n",
      "(0,)\n",
      "(0,)\n",
      "(0,)\n",
      "(1,)\n",
      "(0,)\n",
      "(0,)\n",
      "(1,)\n",
      "(1,)\n",
      "(1,)\n",
      "(2,)\n",
      "(1,)\n",
      "(1,)\n",
      "(1,)\n",
      "(0,)\n",
      "(0,)\n",
      "(1,)\n",
      "(1,)\n",
      "(0,)\n",
      "(1,)\n",
      "(0,)\n",
      "(0,)\n"
     ]
    },
    {
     "name": "stderr",
     "output_type": "stream",
     "text": [
      " 19%|█▊        | 61/327 [00:26<01:53,  2.35it/s]"
     ]
    },
    {
     "name": "stdout",
     "output_type": "stream",
     "text": [
      "(1,)\n",
      "(1,)\n",
      "(0,)\n",
      "(0,)\n",
      "(1,)\n",
      "(1,)\n",
      "(1,)\n",
      "(0,)\n",
      "(0,)\n",
      "(1,)\n",
      "(0,)\n",
      "(0,)\n",
      "(1,)\n",
      "(1,)\n",
      "(0,)\n",
      "(0,)\n",
      "(1,)\n",
      "(2,)\n",
      "(2,)\n",
      "(0,)\n",
      "(0,)\n",
      "(1,)\n",
      "(1,)\n",
      "(1,)\n"
     ]
    },
    {
     "name": "stderr",
     "output_type": "stream",
     "text": [
      " 19%|█▉        | 62/327 [00:26<01:52,  2.35it/s]"
     ]
    },
    {
     "name": "stdout",
     "output_type": "stream",
     "text": [
      "(1,)\n",
      "(0,)\n",
      "(1,)\n",
      "(0,)\n",
      "(1,)\n",
      "(1,)\n",
      "(0,)\n",
      "(0,)\n",
      "(0,)\n",
      "(0,)\n",
      "(1,)\n",
      "(0,)\n",
      "(0,)\n",
      "(0,)\n",
      "(0,)\n",
      "(0,)\n",
      "(0,)\n",
      "(1,)\n",
      "(0,)\n",
      "(1,)\n",
      "(0,)\n",
      "(2,)\n",
      "(2,)\n",
      "(2,)\n"
     ]
    },
    {
     "name": "stderr",
     "output_type": "stream",
     "text": [
      " 19%|█▉        | 63/327 [00:27<01:52,  2.35it/s]"
     ]
    },
    {
     "name": "stdout",
     "output_type": "stream",
     "text": [
      "(0,)\n",
      "(0,)\n",
      "(0,)\n",
      "(1,)\n",
      "(0,)\n",
      "(1,)\n",
      "(1,)\n",
      "(1,)\n",
      "(0,)\n",
      "(0,)\n",
      "(0,)\n",
      "(1,)\n",
      "(0,)\n",
      "(1,)\n",
      "(0,)\n",
      "(0,)\n",
      "(1,)\n",
      "(0,)\n",
      "(0,)\n",
      "(1,)\n",
      "(1,)\n",
      "(0,)\n",
      "(0,)\n",
      "(1,)\n"
     ]
    },
    {
     "name": "stderr",
     "output_type": "stream",
     "text": [
      " 20%|█▉        | 64/327 [00:27<01:52,  2.35it/s]"
     ]
    },
    {
     "name": "stdout",
     "output_type": "stream",
     "text": [
      "(0,)\n",
      "(0,)\n",
      "(0,)\n",
      "(0,)\n",
      "(2,)\n",
      "(1,)\n",
      "(1,)\n",
      "(1,)\n",
      "(1,)\n",
      "(0,)\n",
      "(1,)\n",
      "(0,)\n",
      "(1,)\n",
      "(1,)\n",
      "(1,)\n",
      "(0,)\n",
      "(1,)\n",
      "(0,)\n",
      "(0,)\n",
      "(1,)\n",
      "(2,)\n",
      "(1,)\n",
      "(0,)\n",
      "(0,)\n"
     ]
    },
    {
     "name": "stderr",
     "output_type": "stream",
     "text": [
      " 20%|█▉        | 65/327 [00:28<01:51,  2.35it/s]"
     ]
    },
    {
     "name": "stdout",
     "output_type": "stream",
     "text": [
      "(0,)\n",
      "(0,)\n",
      "(0,)\n",
      "(1,)\n",
      "(1,)\n",
      "(1,)\n",
      "(0,)\n",
      "(0,)\n",
      "(1,)\n",
      "(0,)\n",
      "(0,)\n",
      "(1,)\n",
      "(0,)\n",
      "(0,)\n",
      "(0,)\n",
      "(1,)\n",
      "(1,)\n",
      "(0,)\n",
      "(0,)\n",
      "(1,)\n",
      "(1,)\n",
      "(0,)\n",
      "(0,)\n",
      "(1,)\n"
     ]
    },
    {
     "name": "stderr",
     "output_type": "stream",
     "text": [
      " 20%|██        | 66/327 [00:28<01:51,  2.34it/s]"
     ]
    },
    {
     "name": "stdout",
     "output_type": "stream",
     "text": [
      "(0,)\n",
      "(0,)\n",
      "(1,)\n",
      "(0,)\n",
      "(1,)\n",
      "(2,)\n",
      "(0,)\n",
      "(2,)\n",
      "(1,)\n",
      "(0,)\n",
      "(1,)\n",
      "(0,)\n",
      "(0,)\n",
      "(0,)\n",
      "(2,)\n",
      "(0,)\n",
      "(1,)\n",
      "(0,)\n",
      "(1,)\n",
      "(1,)\n",
      "(2,)\n",
      "(1,)\n",
      "(1,)\n",
      "(1,)\n"
     ]
    },
    {
     "name": "stderr",
     "output_type": "stream",
     "text": [
      " 20%|██        | 67/327 [00:29<01:51,  2.33it/s]"
     ]
    },
    {
     "name": "stdout",
     "output_type": "stream",
     "text": [
      "(0,)\n",
      "(1,)\n",
      "(1,)\n",
      "(2,)\n",
      "(1,)\n",
      "(1,)\n",
      "(0,)\n",
      "(0,)\n",
      "(1,)\n",
      "(0,)\n",
      "(2,)\n",
      "(2,)\n",
      "(2,)\n",
      "(1,)\n",
      "(0,)\n",
      "(1,)\n",
      "(0,)\n",
      "(2,)\n",
      "(1,)\n",
      "(1,)\n",
      "(1,)\n",
      "(0,)\n",
      "(0,)\n",
      "(0,)\n"
     ]
    },
    {
     "name": "stderr",
     "output_type": "stream",
     "text": [
      " 21%|██        | 68/327 [00:29<01:51,  2.33it/s]"
     ]
    },
    {
     "name": "stdout",
     "output_type": "stream",
     "text": [
      "(0,)\n",
      "(0,)\n",
      "(0,)\n",
      "(0,)\n",
      "(1,)\n",
      "(1,)\n",
      "(1,)\n",
      "(0,)\n",
      "(0,)\n",
      "(1,)\n",
      "(1,)\n",
      "(2,)\n",
      "(0,)\n",
      "(0,)\n",
      "(1,)\n",
      "(1,)\n",
      "(1,)\n",
      "(0,)\n",
      "(0,)\n",
      "(0,)\n",
      "(1,)\n",
      "(0,)\n",
      "(1,)\n",
      "(1,)\n"
     ]
    },
    {
     "name": "stderr",
     "output_type": "stream",
     "text": [
      " 21%|██        | 69/327 [00:29<01:50,  2.34it/s]"
     ]
    },
    {
     "name": "stdout",
     "output_type": "stream",
     "text": [
      "(0,)\n",
      "(0,)\n",
      "(1,)\n",
      "(0,)\n",
      "(1,)\n",
      "(0,)\n",
      "(1,)\n",
      "(0,)\n",
      "(1,)\n",
      "(1,)\n",
      "(1,)\n",
      "(2,)\n",
      "(4,)\n",
      "(0,)\n",
      "(0,)\n",
      "(0,)\n",
      "(0,)\n",
      "(1,)\n",
      "(0,)\n",
      "(1,)\n",
      "(0,)\n",
      "(0,)\n",
      "(0,)\n",
      "(1,)\n"
     ]
    },
    {
     "name": "stderr",
     "output_type": "stream",
     "text": [
      " 21%|██▏       | 70/327 [00:30<01:50,  2.33it/s]"
     ]
    },
    {
     "name": "stdout",
     "output_type": "stream",
     "text": [
      "(1,)\n",
      "(0,)\n",
      "(1,)\n",
      "(0,)\n",
      "(1,)\n",
      "(0,)\n",
      "(1,)\n",
      "(1,)\n",
      "(1,)\n",
      "(2,)\n",
      "(1,)\n",
      "(1,)\n",
      "(2,)\n",
      "(1,)\n",
      "(1,)\n",
      "(0,)\n",
      "(1,)\n",
      "(1,)\n",
      "(1,)\n",
      "(2,)\n",
      "(0,)\n",
      "(1,)\n",
      "(0,)\n",
      "(0,)\n"
     ]
    },
    {
     "name": "stderr",
     "output_type": "stream",
     "text": [
      " 22%|██▏       | 71/327 [00:30<01:49,  2.33it/s]"
     ]
    },
    {
     "name": "stdout",
     "output_type": "stream",
     "text": [
      "(0,)\n",
      "(1,)\n",
      "(0,)\n",
      "(1,)\n",
      "(0,)\n",
      "(0,)\n",
      "(0,)\n",
      "(1,)\n",
      "(1,)\n",
      "(1,)\n",
      "(0,)\n",
      "(0,)\n",
      "(0,)\n",
      "(1,)\n",
      "(0,)\n",
      "(1,)\n",
      "(0,)\n",
      "(1,)\n",
      "(0,)\n",
      "(1,)\n",
      "(0,)\n",
      "(0,)\n",
      "(1,)\n",
      "(0,)\n"
     ]
    },
    {
     "name": "stderr",
     "output_type": "stream",
     "text": [
      " 22%|██▏       | 72/327 [00:31<01:48,  2.34it/s]"
     ]
    },
    {
     "name": "stdout",
     "output_type": "stream",
     "text": [
      "(0,)\n",
      "(1,)\n",
      "(1,)\n",
      "(0,)\n",
      "(1,)\n",
      "(0,)\n",
      "(0,)\n",
      "(0,)\n",
      "(0,)\n",
      "(0,)\n",
      "(0,)\n",
      "(1,)\n",
      "(0,)\n",
      "(0,)\n",
      "(0,)\n",
      "(1,)\n",
      "(1,)\n",
      "(1,)\n",
      "(0,)\n",
      "(1,)\n",
      "(2,)\n",
      "(0,)\n",
      "(0,)\n",
      "(1,)\n"
     ]
    },
    {
     "name": "stderr",
     "output_type": "stream",
     "text": [
      " 22%|██▏       | 73/327 [00:31<01:48,  2.34it/s]"
     ]
    },
    {
     "name": "stdout",
     "output_type": "stream",
     "text": [
      "(1,)\n",
      "(0,)\n",
      "(0,)\n",
      "(1,)\n",
      "(1,)\n",
      "(1,)\n",
      "(1,)\n",
      "(0,)\n",
      "(0,)\n",
      "(0,)\n",
      "(1,)\n",
      "(1,)\n",
      "(0,)\n",
      "(0,)\n",
      "(0,)\n",
      "(1,)\n",
      "(0,)\n",
      "(0,)\n",
      "(0,)\n",
      "(0,)\n",
      "(0,)\n",
      "(0,)\n",
      "(1,)\n",
      "(1,)\n"
     ]
    },
    {
     "name": "stderr",
     "output_type": "stream",
     "text": [
      " 23%|██▎       | 74/327 [00:32<01:48,  2.34it/s]"
     ]
    },
    {
     "name": "stdout",
     "output_type": "stream",
     "text": [
      "(1,)\n",
      "(1,)\n",
      "(1,)\n",
      "(0,)\n",
      "(1,)\n",
      "(0,)\n",
      "(1,)\n",
      "(0,)\n",
      "(2,)\n",
      "(1,)\n",
      "(0,)\n",
      "(0,)\n",
      "(0,)\n",
      "(0,)\n",
      "(1,)\n",
      "(1,)\n",
      "(1,)\n",
      "(0,)\n",
      "(0,)\n",
      "(0,)\n",
      "(1,)\n",
      "(0,)\n",
      "(0,)\n",
      "(0,)\n"
     ]
    },
    {
     "name": "stderr",
     "output_type": "stream",
     "text": [
      " 23%|██▎       | 75/327 [00:32<01:47,  2.34it/s]"
     ]
    },
    {
     "name": "stdout",
     "output_type": "stream",
     "text": [
      "(0,)\n",
      "(1,)\n",
      "(0,)\n",
      "(1,)\n",
      "(0,)\n",
      "(0,)\n",
      "(0,)\n",
      "(0,)\n",
      "(1,)\n",
      "(1,)\n",
      "(0,)\n",
      "(1,)\n",
      "(1,)\n",
      "(0,)\n",
      "(0,)\n",
      "(1,)\n",
      "(0,)\n",
      "(0,)\n",
      "(1,)\n",
      "(0,)\n",
      "(1,)\n",
      "(0,)\n",
      "(0,)\n",
      "(0,)\n"
     ]
    },
    {
     "name": "stderr",
     "output_type": "stream",
     "text": [
      " 23%|██▎       | 76/327 [00:32<01:47,  2.34it/s]"
     ]
    },
    {
     "name": "stdout",
     "output_type": "stream",
     "text": [
      "(2,)\n",
      "(1,)\n",
      "(0,)\n",
      "(0,)\n",
      "(0,)\n",
      "(1,)\n",
      "(1,)\n",
      "(2,)\n",
      "(0,)\n",
      "(2,)\n",
      "(0,)\n",
      "(0,)\n",
      "(0,)\n",
      "(1,)\n",
      "(1,)\n",
      "(1,)\n",
      "(1,)\n",
      "(0,)\n",
      "(0,)\n",
      "(0,)\n",
      "(1,)\n",
      "(0,)\n",
      "(0,)\n",
      "(0,)\n"
     ]
    },
    {
     "name": "stderr",
     "output_type": "stream",
     "text": [
      " 24%|██▎       | 77/327 [00:33<01:46,  2.35it/s]"
     ]
    },
    {
     "name": "stdout",
     "output_type": "stream",
     "text": [
      "(0,)\n",
      "(0,)\n",
      "(0,)\n",
      "(0,)\n",
      "(1,)\n",
      "(0,)\n",
      "(0,)\n",
      "(0,)\n",
      "(0,)\n",
      "(0,)\n",
      "(0,)\n",
      "(0,)\n",
      "(1,)\n",
      "(0,)\n",
      "(0,)\n",
      "(1,)\n",
      "(0,)\n",
      "(0,)\n",
      "(0,)\n",
      "(0,)\n",
      "(1,)\n",
      "(1,)\n",
      "(0,)\n",
      "(1,)\n"
     ]
    },
    {
     "name": "stderr",
     "output_type": "stream",
     "text": [
      " 24%|██▍       | 78/327 [00:33<01:46,  2.34it/s]"
     ]
    },
    {
     "name": "stdout",
     "output_type": "stream",
     "text": [
      "(1,)\n",
      "(2,)\n",
      "(0,)\n",
      "(0,)\n",
      "(0,)\n",
      "(1,)\n",
      "(0,)\n",
      "(1,)\n",
      "(0,)\n",
      "(0,)\n",
      "(0,)\n",
      "(1,)\n",
      "(1,)\n",
      "(2,)\n",
      "(1,)\n",
      "(1,)\n",
      "(2,)\n",
      "(2,)\n",
      "(1,)\n",
      "(0,)\n",
      "(0,)\n",
      "(0,)\n",
      "(0,)\n",
      "(1,)\n"
     ]
    },
    {
     "name": "stderr",
     "output_type": "stream",
     "text": [
      " 24%|██▍       | 79/327 [00:34<01:45,  2.35it/s]"
     ]
    },
    {
     "name": "stdout",
     "output_type": "stream",
     "text": [
      "(0,)\n",
      "(1,)\n",
      "(0,)\n",
      "(0,)\n",
      "(1,)\n",
      "(0,)\n",
      "(0,)\n",
      "(1,)\n",
      "(0,)\n",
      "(1,)\n",
      "(0,)\n",
      "(0,)\n",
      "(0,)\n",
      "(0,)\n",
      "(0,)\n",
      "(0,)\n",
      "(1,)\n",
      "(1,)\n",
      "(1,)\n",
      "(0,)\n",
      "(0,)\n",
      "(2,)\n",
      "(0,)\n",
      "(0,)\n"
     ]
    },
    {
     "name": "stderr",
     "output_type": "stream",
     "text": [
      " 24%|██▍       | 80/327 [00:34<01:45,  2.35it/s]"
     ]
    },
    {
     "name": "stdout",
     "output_type": "stream",
     "text": [
      "(1,)\n",
      "(1,)\n",
      "(1,)\n",
      "(0,)\n",
      "(0,)\n",
      "(0,)\n",
      "(0,)\n",
      "(0,)\n",
      "(1,)\n",
      "(1,)\n",
      "(0,)\n",
      "(1,)\n",
      "(0,)\n",
      "(0,)\n",
      "(0,)\n",
      "(1,)\n",
      "(0,)\n",
      "(1,)\n",
      "(0,)\n",
      "(0,)\n",
      "(1,)\n",
      "(0,)\n",
      "(0,)\n",
      "(1,)\n"
     ]
    },
    {
     "name": "stderr",
     "output_type": "stream",
     "text": [
      " 25%|██▍       | 81/327 [00:35<01:45,  2.34it/s]"
     ]
    },
    {
     "name": "stdout",
     "output_type": "stream",
     "text": [
      "(0,)\n",
      "(0,)\n",
      "(1,)\n",
      "(1,)\n",
      "(2,)\n",
      "(1,)\n",
      "(1,)\n",
      "(0,)\n",
      "(1,)\n",
      "(0,)\n",
      "(1,)\n",
      "(1,)\n",
      "(0,)\n",
      "(0,)\n",
      "(1,)\n",
      "(0,)\n",
      "(0,)\n",
      "(1,)\n",
      "(0,)\n",
      "(1,)\n",
      "(1,)\n",
      "(1,)\n",
      "(1,)\n",
      "(0,)\n"
     ]
    },
    {
     "name": "stderr",
     "output_type": "stream",
     "text": [
      " 25%|██▌       | 82/327 [00:35<01:44,  2.34it/s]"
     ]
    },
    {
     "name": "stdout",
     "output_type": "stream",
     "text": [
      "(1,)\n",
      "(0,)\n",
      "(0,)\n",
      "(1,)\n",
      "(0,)\n",
      "(1,)\n",
      "(0,)\n",
      "(0,)\n",
      "(0,)\n",
      "(0,)\n",
      "(1,)\n",
      "(0,)\n",
      "(1,)\n",
      "(0,)\n",
      "(1,)\n",
      "(1,)\n",
      "(0,)\n",
      "(1,)\n",
      "(0,)\n",
      "(0,)\n",
      "(3,)\n",
      "(1,)\n",
      "(3,)\n",
      "(0,)\n"
     ]
    },
    {
     "name": "stderr",
     "output_type": "stream",
     "text": [
      " 25%|██▌       | 83/327 [00:35<01:44,  2.33it/s]"
     ]
    },
    {
     "name": "stdout",
     "output_type": "stream",
     "text": [
      "(1,)\n",
      "(0,)\n",
      "(1,)\n",
      "(0,)\n",
      "(1,)\n",
      "(1,)\n",
      "(0,)\n",
      "(0,)\n",
      "(1,)\n",
      "(1,)\n",
      "(0,)\n",
      "(0,)\n",
      "(1,)\n",
      "(0,)\n",
      "(1,)\n",
      "(0,)\n",
      "(1,)\n",
      "(1,)\n",
      "(1,)\n",
      "(3,)\n",
      "(1,)\n",
      "(0,)\n",
      "(1,)\n",
      "(0,)\n"
     ]
    },
    {
     "name": "stderr",
     "output_type": "stream",
     "text": [
      " 26%|██▌       | 84/327 [00:36<01:44,  2.33it/s]"
     ]
    },
    {
     "name": "stdout",
     "output_type": "stream",
     "text": [
      "(1,)\n",
      "(1,)\n",
      "(1,)\n",
      "(1,)\n",
      "(1,)\n",
      "(0,)\n",
      "(2,)\n",
      "(2,)\n",
      "(0,)\n",
      "(1,)\n",
      "(0,)\n",
      "(1,)\n",
      "(1,)\n",
      "(0,)\n",
      "(1,)\n",
      "(0,)\n",
      "(1,)\n",
      "(0,)\n",
      "(1,)\n",
      "(1,)\n",
      "(1,)\n",
      "(0,)\n",
      "(0,)\n",
      "(0,)\n"
     ]
    },
    {
     "name": "stderr",
     "output_type": "stream",
     "text": [
      " 26%|██▌       | 85/327 [00:36<01:43,  2.34it/s]"
     ]
    },
    {
     "name": "stdout",
     "output_type": "stream",
     "text": [
      "(0,)\n",
      "(0,)\n",
      "(0,)\n",
      "(1,)\n",
      "(1,)\n",
      "(1,)\n",
      "(0,)\n",
      "(1,)\n",
      "(0,)\n",
      "(1,)\n",
      "(1,)\n",
      "(0,)\n",
      "(0,)\n",
      "(1,)\n",
      "(1,)\n",
      "(0,)\n",
      "(0,)\n",
      "(0,)\n",
      "(0,)\n",
      "(1,)\n",
      "(0,)\n",
      "(0,)\n",
      "(0,)\n",
      "(1,)\n"
     ]
    },
    {
     "name": "stderr",
     "output_type": "stream",
     "text": [
      " 26%|██▋       | 86/327 [00:37<01:43,  2.34it/s]"
     ]
    },
    {
     "name": "stdout",
     "output_type": "stream",
     "text": [
      "(2,)\n",
      "(2,)\n",
      "(0,)\n",
      "(0,)\n",
      "(2,)\n",
      "(1,)\n",
      "(0,)\n",
      "(0,)\n",
      "(0,)\n",
      "(0,)\n",
      "(1,)\n",
      "(1,)\n",
      "(1,)\n",
      "(0,)\n",
      "(1,)\n",
      "(1,)\n",
      "(0,)\n",
      "(0,)\n",
      "(0,)\n",
      "(0,)\n",
      "(0,)\n",
      "(0,)\n",
      "(1,)\n",
      "(0,)\n"
     ]
    },
    {
     "name": "stderr",
     "output_type": "stream",
     "text": [
      " 27%|██▋       | 87/327 [00:37<01:42,  2.35it/s]"
     ]
    },
    {
     "name": "stdout",
     "output_type": "stream",
     "text": [
      "(1,)\n",
      "(1,)\n",
      "(0,)\n",
      "(1,)\n",
      "(0,)\n",
      "(1,)\n",
      "(0,)\n",
      "(0,)\n",
      "(0,)\n",
      "(0,)\n",
      "(0,)\n",
      "(0,)\n",
      "(0,)\n",
      "(1,)\n",
      "(0,)\n",
      "(0,)\n",
      "(0,)\n",
      "(1,)\n",
      "(0,)\n",
      "(0,)\n",
      "(0,)\n",
      "(1,)\n",
      "(1,)\n",
      "(0,)\n"
     ]
    },
    {
     "name": "stderr",
     "output_type": "stream",
     "text": [
      " 27%|██▋       | 88/327 [00:37<01:41,  2.35it/s]"
     ]
    },
    {
     "name": "stdout",
     "output_type": "stream",
     "text": [
      "(0,)\n",
      "(0,)\n",
      "(0,)\n",
      "(0,)\n",
      "(0,)\n",
      "(0,)\n",
      "(2,)\n",
      "(0,)\n",
      "(0,)\n",
      "(0,)\n",
      "(1,)\n",
      "(1,)\n",
      "(2,)\n",
      "(1,)\n",
      "(0,)\n",
      "(1,)\n",
      "(1,)\n",
      "(1,)\n",
      "(1,)\n",
      "(0,)\n",
      "(2,)\n",
      "(1,)\n",
      "(1,)\n",
      "(1,)\n"
     ]
    },
    {
     "name": "stderr",
     "output_type": "stream",
     "text": [
      " 27%|██▋       | 89/327 [00:38<01:41,  2.35it/s]"
     ]
    },
    {
     "name": "stdout",
     "output_type": "stream",
     "text": [
      "(2,)\n",
      "(2,)\n",
      "(0,)\n",
      "(1,)\n",
      "(0,)\n",
      "(1,)\n",
      "(0,)\n",
      "(1,)\n",
      "(0,)\n",
      "(0,)\n",
      "(0,)\n",
      "(1,)\n",
      "(1,)\n",
      "(2,)\n",
      "(2,)\n",
      "(1,)\n",
      "(3,)\n",
      "(0,)\n",
      "(0,)\n",
      "(1,)\n",
      "(0,)\n",
      "(0,)\n",
      "(1,)\n",
      "(1,)\n"
     ]
    },
    {
     "name": "stderr",
     "output_type": "stream",
     "text": [
      " 28%|██▊       | 90/327 [00:38<01:40,  2.35it/s]"
     ]
    },
    {
     "name": "stdout",
     "output_type": "stream",
     "text": [
      "(1,)\n",
      "(1,)\n",
      "(0,)\n",
      "(1,)\n",
      "(0,)\n",
      "(0,)\n",
      "(0,)\n",
      "(0,)\n",
      "(0,)\n",
      "(0,)\n",
      "(0,)\n",
      "(0,)\n",
      "(1,)\n",
      "(0,)\n",
      "(1,)\n",
      "(1,)\n",
      "(0,)\n",
      "(2,)\n",
      "(1,)\n",
      "(2,)\n",
      "(0,)\n",
      "(0,)\n",
      "(0,)\n",
      "(0,)\n"
     ]
    },
    {
     "name": "stderr",
     "output_type": "stream",
     "text": [
      " 28%|██▊       | 91/327 [00:39<01:40,  2.34it/s]"
     ]
    },
    {
     "name": "stdout",
     "output_type": "stream",
     "text": [
      "(1,)\n",
      "(1,)\n",
      "(1,)\n",
      "(2,)\n",
      "(1,)\n",
      "(0,)\n",
      "(0,)\n",
      "(1,)\n",
      "(0,)\n",
      "(1,)\n",
      "(1,)\n",
      "(0,)\n",
      "(0,)\n",
      "(0,)\n",
      "(0,)\n",
      "(2,)\n",
      "(4,)\n",
      "(0,)\n",
      "(3,)\n",
      "(1,)\n",
      "(1,)\n",
      "(1,)\n",
      "(1,)\n",
      "(1,)\n"
     ]
    },
    {
     "name": "stderr",
     "output_type": "stream",
     "text": [
      " 28%|██▊       | 92/327 [00:39<01:40,  2.35it/s]"
     ]
    },
    {
     "name": "stdout",
     "output_type": "stream",
     "text": [
      "(1,)\n",
      "(0,)\n",
      "(0,)\n",
      "(0,)\n",
      "(0,)\n",
      "(0,)\n",
      "(1,)\n",
      "(1,)\n",
      "(1,)\n",
      "(0,)\n",
      "(0,)\n",
      "(0,)\n",
      "(1,)\n",
      "(0,)\n",
      "(1,)\n",
      "(1,)\n",
      "(1,)\n",
      "(2,)\n",
      "(0,)\n",
      "(0,)\n",
      "(0,)\n",
      "(2,)\n",
      "(1,)\n",
      "(0,)\n"
     ]
    },
    {
     "name": "stderr",
     "output_type": "stream",
     "text": [
      " 28%|██▊       | 93/327 [00:40<01:39,  2.35it/s]"
     ]
    },
    {
     "name": "stdout",
     "output_type": "stream",
     "text": [
      "(1,)\n",
      "(1,)\n",
      "(2,)\n",
      "(1,)\n",
      "(0,)\n",
      "(2,)\n",
      "(0,)\n",
      "(0,)\n",
      "(1,)\n",
      "(0,)\n",
      "(0,)\n",
      "(0,)\n",
      "(4,)\n",
      "(0,)\n",
      "(1,)\n",
      "(0,)\n",
      "(0,)\n",
      "(1,)\n",
      "(0,)\n",
      "(0,)\n",
      "(1,)\n",
      "(0,)\n",
      "(1,)\n",
      "(0,)\n"
     ]
    },
    {
     "name": "stderr",
     "output_type": "stream",
     "text": [
      " 29%|██▊       | 94/327 [00:40<01:39,  2.34it/s]"
     ]
    },
    {
     "name": "stdout",
     "output_type": "stream",
     "text": [
      "(1,)\n",
      "(0,)\n",
      "(0,)\n",
      "(1,)\n",
      "(0,)\n",
      "(1,)\n",
      "(1,)\n",
      "(0,)\n",
      "(1,)\n",
      "(1,)\n",
      "(0,)\n",
      "(1,)\n",
      "(2,)\n",
      "(0,)\n",
      "(0,)\n",
      "(1,)\n",
      "(0,)\n",
      "(0,)\n",
      "(1,)\n",
      "(1,)\n",
      "(0,)\n",
      "(0,)\n",
      "(0,)\n",
      "(0,)\n"
     ]
    },
    {
     "name": "stderr",
     "output_type": "stream",
     "text": [
      " 29%|██▉       | 95/327 [00:40<01:39,  2.34it/s]"
     ]
    },
    {
     "name": "stdout",
     "output_type": "stream",
     "text": [
      "(0,)\n",
      "(0,)\n",
      "(1,)\n",
      "(0,)\n",
      "(1,)\n",
      "(1,)\n",
      "(1,)\n",
      "(0,)\n",
      "(0,)\n",
      "(1,)\n",
      "(1,)\n",
      "(0,)\n",
      "(0,)\n",
      "(0,)\n",
      "(1,)\n",
      "(1,)\n",
      "(0,)\n",
      "(1,)\n",
      "(1,)\n",
      "(1,)\n",
      "(0,)\n",
      "(1,)\n",
      "(1,)\n",
      "(1,)\n"
     ]
    },
    {
     "name": "stderr",
     "output_type": "stream",
     "text": [
      " 29%|██▉       | 96/327 [00:41<01:38,  2.35it/s]"
     ]
    },
    {
     "name": "stdout",
     "output_type": "stream",
     "text": [
      "(0,)\n",
      "(0,)\n",
      "(1,)\n",
      "(1,)\n",
      "(1,)\n",
      "(0,)\n",
      "(0,)\n",
      "(0,)\n",
      "(1,)\n",
      "(1,)\n",
      "(1,)\n",
      "(0,)\n",
      "(0,)\n",
      "(0,)\n",
      "(0,)\n",
      "(0,)\n",
      "(0,)\n",
      "(0,)\n",
      "(0,)\n",
      "(0,)\n",
      "(2,)\n",
      "(0,)\n",
      "(2,)\n",
      "(0,)\n"
     ]
    },
    {
     "name": "stderr",
     "output_type": "stream",
     "text": [
      " 30%|██▉       | 97/327 [00:41<01:38,  2.34it/s]"
     ]
    },
    {
     "name": "stdout",
     "output_type": "stream",
     "text": [
      "(0,)\n",
      "(0,)\n",
      "(0,)\n",
      "(1,)\n",
      "(1,)\n",
      "(1,)\n",
      "(1,)\n",
      "(1,)\n",
      "(0,)\n",
      "(1,)\n",
      "(0,)\n",
      "(0,)\n",
      "(0,)\n",
      "(0,)\n",
      "(1,)\n",
      "(1,)\n",
      "(1,)\n",
      "(0,)\n",
      "(0,)\n",
      "(0,)\n",
      "(1,)\n",
      "(0,)\n",
      "(1,)\n",
      "(1,)\n"
     ]
    },
    {
     "name": "stderr",
     "output_type": "stream",
     "text": [
      " 30%|██▉       | 98/327 [00:42<01:38,  2.32it/s]"
     ]
    },
    {
     "name": "stdout",
     "output_type": "stream",
     "text": [
      "(3,)\n",
      "(1,)\n",
      "(2,)\n",
      "(0,)\n",
      "(8,)\n",
      "(3,)\n",
      "(1,)\n",
      "(0,)\n",
      "(1,)\n",
      "(0,)\n",
      "(2,)\n",
      "(0,)\n",
      "(1,)\n",
      "(0,)\n",
      "(0,)\n",
      "(0,)\n",
      "(0,)\n",
      "(3,)\n",
      "(4,)\n",
      "(0,)\n",
      "(6,)\n",
      "(0,)\n",
      "(2,)\n",
      "(0,)\n"
     ]
    },
    {
     "name": "stderr",
     "output_type": "stream",
     "text": [
      " 30%|███       | 99/327 [00:42<01:38,  2.32it/s]"
     ]
    },
    {
     "name": "stdout",
     "output_type": "stream",
     "text": [
      "(2,)\n",
      "(0,)\n",
      "(0,)\n",
      "(12,)\n",
      "(0,)\n",
      "(0,)\n",
      "(1,)\n",
      "(6,)\n",
      "(3,)\n",
      "(1,)\n",
      "(0,)\n",
      "(0,)\n",
      "(0,)\n",
      "(0,)\n",
      "(1,)\n",
      "(0,)\n",
      "(0,)\n",
      "(1,)\n",
      "(0,)\n",
      "(5,)\n",
      "(0,)\n",
      "(1,)\n",
      "(0,)\n",
      "(0,)\n"
     ]
    },
    {
     "name": "stderr",
     "output_type": "stream",
     "text": [
      " 31%|███       | 100/327 [00:43<01:37,  2.33it/s]"
     ]
    },
    {
     "name": "stdout",
     "output_type": "stream",
     "text": [
      "(0,)\n",
      "(1,)\n",
      "(0,)\n",
      "(0,)\n",
      "(0,)\n",
      "(0,)\n",
      "(1,)\n",
      "(0,)\n",
      "(0,)\n",
      "(0,)\n",
      "(0,)\n",
      "(0,)\n",
      "(1,)\n",
      "(2,)\n",
      "(0,)\n",
      "(1,)\n",
      "(0,)\n",
      "(0,)\n",
      "(0,)\n",
      "(1,)\n",
      "(0,)\n",
      "(0,)\n",
      "(0,)\n",
      "(1,)\n"
     ]
    },
    {
     "name": "stderr",
     "output_type": "stream",
     "text": [
      " 31%|███       | 101/327 [00:43<01:37,  2.32it/s]"
     ]
    },
    {
     "name": "stdout",
     "output_type": "stream",
     "text": [
      "(0,)\n",
      "(0,)\n",
      "(0,)\n",
      "(0,)\n",
      "(0,)\n",
      "(1,)\n",
      "(1,)\n",
      "(1,)\n",
      "(1,)\n",
      "(4,)\n",
      "(2,)\n",
      "(0,)\n",
      "(0,)\n",
      "(5,)\n",
      "(1,)\n",
      "(0,)\n",
      "(0,)\n",
      "(1,)\n",
      "(0,)\n",
      "(1,)\n",
      "(1,)\n",
      "(0,)\n",
      "(2,)\n",
      "(1,)\n"
     ]
    },
    {
     "name": "stderr",
     "output_type": "stream",
     "text": [
      " 31%|███       | 102/327 [00:43<01:37,  2.31it/s]"
     ]
    },
    {
     "name": "stdout",
     "output_type": "stream",
     "text": [
      "(0,)\n",
      "(0,)\n",
      "(0,)\n",
      "(1,)\n",
      "(0,)\n",
      "(1,)\n",
      "(0,)\n",
      "(0,)\n",
      "(0,)\n",
      "(0,)\n",
      "(0,)\n",
      "(0,)\n",
      "(2,)\n",
      "(0,)\n",
      "(0,)\n",
      "(1,)\n",
      "(0,)\n",
      "(0,)\n",
      "(1,)\n",
      "(3,)\n",
      "(1,)\n",
      "(1,)\n",
      "(0,)\n",
      "(2,)\n"
     ]
    },
    {
     "name": "stderr",
     "output_type": "stream",
     "text": [
      " 31%|███▏      | 103/327 [00:44<01:37,  2.30it/s]"
     ]
    },
    {
     "name": "stdout",
     "output_type": "stream",
     "text": [
      "(0,)\n",
      "(1,)\n",
      "(1,)\n",
      "(6,)\n",
      "(1,)\n",
      "(1,)\n",
      "(1,)\n",
      "(0,)\n",
      "(7,)\n",
      "(4,)\n",
      "(0,)\n",
      "(2,)\n",
      "(1,)\n",
      "(1,)\n",
      "(0,)\n",
      "(1,)\n",
      "(0,)\n",
      "(0,)\n",
      "(0,)\n",
      "(1,)\n",
      "(0,)\n",
      "(0,)\n",
      "(1,)\n",
      "(2,)\n"
     ]
    },
    {
     "name": "stderr",
     "output_type": "stream",
     "text": [
      " 32%|███▏      | 104/327 [00:44<01:36,  2.31it/s]"
     ]
    },
    {
     "name": "stdout",
     "output_type": "stream",
     "text": [
      "(3,)\n",
      "(0,)\n",
      "(2,)\n",
      "(5,)\n",
      "(1,)\n",
      "(0,)\n",
      "(0,)\n",
      "(3,)\n",
      "(1,)\n",
      "(0,)\n",
      "(0,)\n",
      "(1,)\n",
      "(0,)\n",
      "(0,)\n",
      "(0,)\n",
      "(0,)\n",
      "(0,)\n",
      "(0,)\n",
      "(0,)\n",
      "(0,)\n",
      "(1,)\n",
      "(0,)\n",
      "(5,)\n",
      "(1,)\n"
     ]
    },
    {
     "name": "stderr",
     "output_type": "stream",
     "text": [
      " 32%|███▏      | 105/327 [00:45<01:36,  2.30it/s]"
     ]
    },
    {
     "name": "stdout",
     "output_type": "stream",
     "text": [
      "(0,)\n",
      "(0,)\n",
      "(0,)\n",
      "(4,)\n",
      "(8,)\n",
      "(2,)\n",
      "(3,)\n",
      "(1,)\n",
      "(0,)\n",
      "(1,)\n",
      "(1,)\n",
      "(1,)\n",
      "(4,)\n",
      "(2,)\n",
      "(0,)\n",
      "(1,)\n",
      "(4,)\n",
      "(0,)\n",
      "(5,)\n",
      "(0,)\n",
      "(0,)\n",
      "(1,)\n",
      "(0,)\n",
      "(5,)\n"
     ]
    },
    {
     "name": "stderr",
     "output_type": "stream",
     "text": [
      " 32%|███▏      | 106/327 [00:45<01:36,  2.29it/s]"
     ]
    },
    {
     "name": "stdout",
     "output_type": "stream",
     "text": [
      "(1,)\n",
      "(1,)\n",
      "(1,)\n",
      "(1,)\n",
      "(2,)\n",
      "(1,)\n",
      "(3,)\n",
      "(1,)\n",
      "(3,)\n",
      "(0,)\n",
      "(2,)\n",
      "(0,)\n",
      "(0,)\n",
      "(0,)\n",
      "(1,)\n",
      "(0,)\n",
      "(1,)\n",
      "(0,)\n",
      "(3,)\n",
      "(0,)\n",
      "(1,)\n",
      "(1,)\n",
      "(2,)\n",
      "(0,)\n"
     ]
    },
    {
     "name": "stderr",
     "output_type": "stream",
     "text": [
      " 33%|███▎      | 107/327 [00:46<01:35,  2.29it/s]"
     ]
    },
    {
     "name": "stdout",
     "output_type": "stream",
     "text": [
      "(3,)\n",
      "(0,)\n",
      "(1,)\n",
      "(1,)\n",
      "(1,)\n",
      "(6,)\n",
      "(2,)\n",
      "(4,)\n",
      "(2,)\n",
      "(2,)\n",
      "(1,)\n",
      "(0,)\n",
      "(0,)\n",
      "(2,)\n",
      "(0,)\n",
      "(0,)\n",
      "(5,)\n",
      "(6,)\n",
      "(2,)\n",
      "(2,)\n",
      "(2,)\n",
      "(2,)\n",
      "(0,)\n",
      "(0,)\n"
     ]
    },
    {
     "name": "stderr",
     "output_type": "stream",
     "text": [
      " 33%|███▎      | 108/327 [00:46<01:35,  2.30it/s]"
     ]
    },
    {
     "name": "stdout",
     "output_type": "stream",
     "text": [
      "(1,)\n",
      "(0,)\n",
      "(1,)\n",
      "(1,)\n",
      "(1,)\n",
      "(1,)\n",
      "(0,)\n",
      "(2,)\n",
      "(2,)\n",
      "(0,)\n",
      "(0,)\n",
      "(4,)\n",
      "(9,)\n",
      "(3,)\n",
      "(1,)\n",
      "(0,)\n",
      "(1,)\n",
      "(0,)\n",
      "(1,)\n",
      "(0,)\n",
      "(1,)\n",
      "(0,)\n",
      "(0,)\n",
      "(0,)\n"
     ]
    },
    {
     "name": "stderr",
     "output_type": "stream",
     "text": [
      " 33%|███▎      | 109/327 [00:47<01:34,  2.31it/s]"
     ]
    },
    {
     "name": "stdout",
     "output_type": "stream",
     "text": [
      "(0,)\n",
      "(10,)\n",
      "(1,)\n",
      "(0,)\n",
      "(0,)\n",
      "(28,)\n",
      "(0,)\n",
      "(1,)\n",
      "(1,)\n",
      "(1,)\n",
      "(1,)\n",
      "(1,)\n",
      "(0,)\n",
      "(1,)\n",
      "(1,)\n",
      "(0,)\n",
      "(0,)\n",
      "(0,)\n",
      "(0,)\n",
      "(0,)\n",
      "(1,)\n",
      "(1,)\n",
      "(0,)\n",
      "(1,)\n"
     ]
    },
    {
     "name": "stderr",
     "output_type": "stream",
     "text": [
      " 34%|███▎      | 110/327 [00:47<01:33,  2.31it/s]"
     ]
    },
    {
     "name": "stdout",
     "output_type": "stream",
     "text": [
      "(1,)\n",
      "(0,)\n",
      "(0,)\n",
      "(0,)\n",
      "(0,)\n",
      "(0,)\n",
      "(1,)\n",
      "(0,)\n",
      "(2,)\n",
      "(4,)\n",
      "(2,)\n",
      "(2,)\n",
      "(1,)\n",
      "(2,)\n",
      "(0,)\n",
      "(1,)\n",
      "(1,)\n",
      "(1,)\n",
      "(2,)\n",
      "(0,)\n",
      "(2,)\n",
      "(1,)\n",
      "(2,)\n",
      "(0,)\n"
     ]
    },
    {
     "name": "stderr",
     "output_type": "stream",
     "text": [
      " 34%|███▍      | 111/327 [00:47<01:32,  2.32it/s]"
     ]
    },
    {
     "name": "stdout",
     "output_type": "stream",
     "text": [
      "(0,)\n",
      "(0,)\n",
      "(0,)\n",
      "(2,)\n",
      "(1,)\n",
      "(0,)\n",
      "(0,)\n",
      "(0,)\n",
      "(0,)\n",
      "(0,)\n",
      "(1,)\n",
      "(0,)\n",
      "(1,)\n",
      "(2,)\n",
      "(3,)\n",
      "(0,)\n",
      "(0,)\n",
      "(15,)\n",
      "(0,)\n",
      "(0,)\n",
      "(43,)\n",
      "(5,)\n",
      "(18,)\n",
      "(0,)\n"
     ]
    },
    {
     "name": "stderr",
     "output_type": "stream",
     "text": [
      " 34%|███▍      | 112/327 [00:48<01:31,  2.34it/s]"
     ]
    },
    {
     "name": "stdout",
     "output_type": "stream",
     "text": [
      "(0,)\n",
      "(0,)\n",
      "(0,)\n",
      "(0,)\n",
      "(2,)\n",
      "(0,)\n",
      "(0,)\n",
      "(0,)\n",
      "(1,)\n",
      "(0,)\n",
      "(0,)\n",
      "(1,)\n",
      "(2,)\n",
      "(0,)\n",
      "(4,)\n",
      "(1,)\n",
      "(1,)\n",
      "(0,)\n",
      "(0,)\n",
      "(1,)\n",
      "(9,)\n",
      "(0,)\n",
      "(0,)\n",
      "(0,)\n"
     ]
    },
    {
     "name": "stderr",
     "output_type": "stream",
     "text": [
      " 35%|███▍      | 113/327 [00:48<01:31,  2.35it/s]"
     ]
    },
    {
     "name": "stdout",
     "output_type": "stream",
     "text": [
      "(1,)\n",
      "(0,)\n",
      "(0,)\n",
      "(0,)\n",
      "(0,)\n",
      "(38,)\n",
      "(0,)\n",
      "(0,)\n",
      "(43,)\n",
      "(16,)\n",
      "(0,)\n",
      "(0,)\n",
      "(0,)\n",
      "(0,)\n",
      "(0,)\n",
      "(2,)\n",
      "(0,)\n",
      "(0,)\n",
      "(0,)\n",
      "(0,)\n",
      "(1,)\n",
      "(0,)\n",
      "(1,)\n",
      "(1,)\n"
     ]
    },
    {
     "name": "stderr",
     "output_type": "stream",
     "text": [
      " 35%|███▍      | 114/327 [00:49<01:32,  2.31it/s]"
     ]
    },
    {
     "name": "stdout",
     "output_type": "stream",
     "text": [
      "(0,)\n",
      "(0,)\n",
      "(0,)\n",
      "(0,)\n",
      "(0,)\n",
      "(1,)\n",
      "(2,)\n",
      "(0,)\n",
      "(1,)\n",
      "(1,)\n",
      "(0,)\n",
      "(0,)\n",
      "(0,)\n",
      "(0,)\n",
      "(0,)\n",
      "(6,)\n",
      "(0,)\n",
      "(0,)\n",
      "(0,)\n",
      "(1,)\n",
      "(1,)\n",
      "(1,)\n",
      "(2,)\n",
      "(2,)\n"
     ]
    },
    {
     "name": "stderr",
     "output_type": "stream",
     "text": [
      " 35%|███▌      | 115/327 [00:49<01:31,  2.31it/s]"
     ]
    },
    {
     "name": "stdout",
     "output_type": "stream",
     "text": [
      "(28,)\n",
      "(7,)\n",
      "(0,)\n",
      "(5,)\n",
      "(0,)\n",
      "(0,)\n",
      "(2,)\n",
      "(0,)\n",
      "(0,)\n",
      "(0,)\n",
      "(1,)\n",
      "(1,)\n",
      "(1,)\n",
      "(0,)\n",
      "(1,)\n",
      "(0,)\n",
      "(0,)\n",
      "(0,)\n",
      "(1,)\n",
      "(1,)\n",
      "(0,)\n",
      "(0,)\n",
      "(0,)\n",
      "(2,)\n"
     ]
    },
    {
     "name": "stderr",
     "output_type": "stream",
     "text": [
      " 35%|███▌      | 116/327 [00:50<01:30,  2.34it/s]"
     ]
    },
    {
     "name": "stdout",
     "output_type": "stream",
     "text": [
      "(0,)\n",
      "(1,)\n",
      "(2,)\n",
      "(0,)\n",
      "(0,)\n",
      "(1,)\n",
      "(0,)\n",
      "(1,)\n",
      "(0,)\n",
      "(0,)\n",
      "(0,)\n",
      "(0,)\n",
      "(2,)\n",
      "(1,)\n",
      "(3,)\n",
      "(6,)\n",
      "(0,)\n",
      "(0,)\n",
      "(1,)\n",
      "(0,)\n",
      "(0,)\n",
      "(0,)\n",
      "(1,)\n",
      "(0,)\n"
     ]
    },
    {
     "name": "stderr",
     "output_type": "stream",
     "text": [
      " 36%|███▌      | 117/327 [00:50<01:29,  2.36it/s]"
     ]
    },
    {
     "name": "stdout",
     "output_type": "stream",
     "text": [
      "(0,)\n",
      "(0,)\n",
      "(0,)\n",
      "(3,)\n",
      "(0,)\n",
      "(2,)\n",
      "(0,)\n",
      "(0,)\n",
      "(2,)\n",
      "(1,)\n",
      "(4,)\n",
      "(1,)\n",
      "(0,)\n",
      "(2,)\n",
      "(1,)\n",
      "(0,)\n",
      "(0,)\n",
      "(2,)\n",
      "(1,)\n",
      "(0,)\n",
      "(0,)\n",
      "(2,)\n",
      "(0,)\n",
      "(1,)\n"
     ]
    },
    {
     "name": "stderr",
     "output_type": "stream",
     "text": [
      " 36%|███▌      | 118/327 [00:50<01:28,  2.37it/s]"
     ]
    },
    {
     "name": "stdout",
     "output_type": "stream",
     "text": [
      "(2,)\n",
      "(2,)\n",
      "(1,)\n",
      "(0,)\n",
      "(0,)\n",
      "(1,)\n",
      "(0,)\n",
      "(0,)\n",
      "(0,)\n",
      "(21,)\n",
      "(1,)\n",
      "(39,)\n",
      "(11,)\n",
      "(1,)\n",
      "(0,)\n",
      "(1,)\n",
      "(0,)\n",
      "(1,)\n",
      "(0,)\n",
      "(1,)\n",
      "(0,)\n",
      "(0,)\n",
      "(0,)\n",
      "(0,)\n"
     ]
    },
    {
     "name": "stderr",
     "output_type": "stream",
     "text": [
      " 36%|███▋      | 119/327 [00:51<01:27,  2.38it/s]"
     ]
    },
    {
     "name": "stdout",
     "output_type": "stream",
     "text": [
      "(1,)\n",
      "(0,)\n",
      "(0,)\n",
      "(0,)\n",
      "(0,)\n",
      "(0,)\n",
      "(0,)\n",
      "(0,)\n",
      "(0,)\n",
      "(0,)\n",
      "(0,)\n",
      "(1,)\n",
      "(1,)\n",
      "(1,)\n",
      "(1,)\n",
      "(0,)\n",
      "(0,)\n",
      "(2,)\n",
      "(1,)\n",
      "(1,)\n",
      "(1,)\n",
      "(1,)\n",
      "(0,)\n",
      "(0,)\n"
     ]
    },
    {
     "name": "stderr",
     "output_type": "stream",
     "text": [
      " 37%|███▋      | 120/327 [00:51<01:26,  2.39it/s]"
     ]
    },
    {
     "name": "stdout",
     "output_type": "stream",
     "text": [
      "(1,)\n",
      "(2,)\n",
      "(0,)\n",
      "(2,)\n",
      "(3,)\n",
      "(3,)\n",
      "(5,)\n",
      "(0,)\n",
      "(0,)\n",
      "(1,)\n",
      "(0,)\n",
      "(1,)\n",
      "(0,)\n",
      "(0,)\n",
      "(1,)\n",
      "(0,)\n",
      "(0,)\n",
      "(3,)\n",
      "(3,)\n",
      "(1,)\n",
      "(0,)\n",
      "(0,)\n",
      "(25,)\n",
      "(11,)\n"
     ]
    },
    {
     "name": "stderr",
     "output_type": "stream",
     "text": [
      " 37%|███▋      | 121/327 [00:52<01:26,  2.40it/s]"
     ]
    },
    {
     "name": "stdout",
     "output_type": "stream",
     "text": [
      "(0,)\n",
      "(0,)\n",
      "(8,)\n",
      "(0,)\n",
      "(0,)\n",
      "(0,)\n",
      "(0,)\n",
      "(1,)\n",
      "(1,)\n",
      "(2,)\n",
      "(1,)\n",
      "(0,)\n",
      "(0,)\n",
      "(0,)\n",
      "(0,)\n",
      "(0,)\n",
      "(0,)\n",
      "(1,)\n",
      "(0,)\n",
      "(1,)\n",
      "(1,)\n",
      "(1,)\n",
      "(0,)\n",
      "(1,)\n"
     ]
    },
    {
     "name": "stderr",
     "output_type": "stream",
     "text": [
      " 37%|███▋      | 122/327 [00:52<01:25,  2.39it/s]"
     ]
    },
    {
     "name": "stdout",
     "output_type": "stream",
     "text": [
      "(0,)\n",
      "(1,)\n",
      "(0,)\n",
      "(0,)\n",
      "(1,)\n",
      "(1,)\n",
      "(0,)\n",
      "(1,)\n",
      "(1,)\n",
      "(1,)\n",
      "(1,)\n",
      "(2,)\n",
      "(0,)\n",
      "(0,)\n",
      "(0,)\n",
      "(4,)\n",
      "(0,)\n",
      "(0,)\n",
      "(1,)\n",
      "(0,)\n",
      "(1,)\n",
      "(1,)\n",
      "(0,)\n",
      "(1,)\n"
     ]
    },
    {
     "name": "stderr",
     "output_type": "stream",
     "text": [
      " 38%|███▊      | 123/327 [00:52<01:26,  2.36it/s]"
     ]
    },
    {
     "name": "stdout",
     "output_type": "stream",
     "text": [
      "(0,)\n",
      "(0,)\n",
      "(0,)\n",
      "(0,)\n",
      "(0,)\n",
      "(0,)\n",
      "(0,)\n",
      "(0,)\n",
      "(0,)\n",
      "(1,)\n",
      "(1,)\n",
      "(2,)\n",
      "(0,)\n",
      "(0,)\n",
      "(0,)\n",
      "(3,)\n",
      "(6,)\n",
      "(1,)\n",
      "(1,)\n",
      "(2,)\n",
      "(0,)\n",
      "(2,)\n",
      "(1,)\n",
      "(0,)\n"
     ]
    },
    {
     "name": "stderr",
     "output_type": "stream",
     "text": [
      " 38%|███▊      | 124/327 [00:53<01:26,  2.35it/s]"
     ]
    },
    {
     "name": "stdout",
     "output_type": "stream",
     "text": [
      "(0,)\n",
      "(0,)\n",
      "(1,)\n",
      "(0,)\n",
      "(0,)\n",
      "(0,)\n",
      "(0,)\n",
      "(0,)\n",
      "(1,)\n",
      "(2,)\n",
      "(2,)\n",
      "(1,)\n",
      "(1,)\n",
      "(0,)\n",
      "(0,)\n",
      "(1,)\n",
      "(0,)\n",
      "(1,)\n",
      "(1,)\n",
      "(2,)\n",
      "(0,)\n",
      "(0,)\n",
      "(2,)\n",
      "(0,)\n"
     ]
    },
    {
     "name": "stderr",
     "output_type": "stream",
     "text": [
      " 38%|███▊      | 125/327 [00:53<01:26,  2.35it/s]"
     ]
    },
    {
     "name": "stdout",
     "output_type": "stream",
     "text": [
      "(0,)\n",
      "(1,)\n",
      "(0,)\n",
      "(1,)\n",
      "(0,)\n",
      "(0,)\n",
      "(0,)\n",
      "(0,)\n",
      "(0,)\n",
      "(1,)\n",
      "(1,)\n",
      "(0,)\n",
      "(2,)\n",
      "(0,)\n",
      "(2,)\n",
      "(1,)\n",
      "(3,)\n",
      "(3,)\n",
      "(0,)\n",
      "(1,)\n",
      "(1,)\n",
      "(1,)\n",
      "(2,)\n",
      "(0,)\n"
     ]
    },
    {
     "name": "stderr",
     "output_type": "stream",
     "text": [
      " 39%|███▊      | 126/327 [00:54<01:25,  2.35it/s]"
     ]
    },
    {
     "name": "stdout",
     "output_type": "stream",
     "text": [
      "(5,)\n",
      "(5,)\n",
      "(0,)\n",
      "(0,)\n",
      "(0,)\n",
      "(1,)\n",
      "(1,)\n",
      "(0,)\n",
      "(0,)\n",
      "(0,)\n",
      "(3,)\n",
      "(1,)\n",
      "(1,)\n",
      "(0,)\n",
      "(2,)\n",
      "(0,)\n",
      "(0,)\n",
      "(1,)\n",
      "(1,)\n",
      "(0,)\n",
      "(1,)\n",
      "(1,)\n",
      "(0,)\n",
      "(0,)\n"
     ]
    },
    {
     "name": "stderr",
     "output_type": "stream",
     "text": [
      " 39%|███▉      | 127/327 [00:54<01:25,  2.35it/s]"
     ]
    },
    {
     "name": "stdout",
     "output_type": "stream",
     "text": [
      "(3,)\n",
      "(0,)\n",
      "(1,)\n",
      "(1,)\n",
      "(0,)\n",
      "(1,)\n",
      "(2,)\n",
      "(0,)\n",
      "(1,)\n",
      "(0,)\n",
      "(3,)\n",
      "(0,)\n",
      "(0,)\n",
      "(0,)\n",
      "(0,)\n",
      "(1,)\n",
      "(3,)\n",
      "(2,)\n",
      "(0,)\n",
      "(1,)\n",
      "(1,)\n",
      "(0,)\n",
      "(0,)\n",
      "(3,)\n"
     ]
    },
    {
     "name": "stderr",
     "output_type": "stream",
     "text": [
      " 39%|███▉      | 128/327 [00:55<01:24,  2.35it/s]"
     ]
    },
    {
     "name": "stdout",
     "output_type": "stream",
     "text": [
      "(0,)\n",
      "(1,)\n",
      "(5,)\n",
      "(0,)\n",
      "(1,)\n",
      "(0,)\n",
      "(0,)\n",
      "(2,)\n",
      "(4,)\n",
      "(3,)\n",
      "(8,)\n",
      "(1,)\n",
      "(0,)\n",
      "(1,)\n",
      "(0,)\n",
      "(1,)\n",
      "(2,)\n",
      "(2,)\n",
      "(1,)\n",
      "(0,)\n",
      "(0,)\n",
      "(1,)\n",
      "(1,)\n",
      "(1,)\n"
     ]
    },
    {
     "name": "stderr",
     "output_type": "stream",
     "text": [
      " 39%|███▉      | 129/327 [00:55<01:23,  2.37it/s]"
     ]
    },
    {
     "name": "stdout",
     "output_type": "stream",
     "text": [
      "(0,)\n",
      "(0,)\n",
      "(0,)\n",
      "(0,)\n",
      "(1,)\n",
      "(0,)\n",
      "(0,)\n",
      "(0,)\n",
      "(0,)\n",
      "(0,)\n",
      "(5,)\n",
      "(3,)\n",
      "(1,)\n",
      "(1,)\n",
      "(0,)\n",
      "(0,)\n",
      "(0,)\n",
      "(0,)\n",
      "(0,)\n",
      "(0,)\n",
      "(0,)\n",
      "(1,)\n",
      "(0,)\n",
      "(0,)\n"
     ]
    },
    {
     "name": "stderr",
     "output_type": "stream",
     "text": [
      " 40%|███▉      | 130/327 [00:55<01:22,  2.39it/s]"
     ]
    },
    {
     "name": "stdout",
     "output_type": "stream",
     "text": [
      "(0,)\n",
      "(0,)\n",
      "(1,)\n",
      "(0,)\n",
      "(1,)\n",
      "(0,)\n",
      "(1,)\n",
      "(1,)\n",
      "(0,)\n",
      "(0,)\n",
      "(0,)\n",
      "(0,)\n",
      "(1,)\n",
      "(0,)\n",
      "(0,)\n",
      "(0,)\n",
      "(1,)\n",
      "(0,)\n",
      "(1,)\n",
      "(0,)\n",
      "(0,)\n",
      "(0,)\n",
      "(0,)\n",
      "(0,)\n"
     ]
    },
    {
     "name": "stderr",
     "output_type": "stream",
     "text": [
      " 40%|████      | 131/327 [00:57<01:26,  2.27it/s]"
     ]
    },
    {
     "name": "stdout",
     "output_type": "stream",
     "text": [
      "(0,)\n",
      "(0,)\n",
      "(1,)\n",
      "(1,)\n",
      "(0,)\n",
      "(0,)\n",
      "(0,)\n",
      "(0,)\n",
      "(0,)\n",
      "(1,)\n",
      "(0,)\n",
      "(1,)\n",
      "(0,)\n",
      "(0,)\n",
      "(0,)\n",
      "(1,)\n",
      "(0,)\n",
      "(0,)\n",
      "(0,)\n",
      "(0,)\n",
      "(0,)\n",
      "(0,)\n"
     ]
    },
    {
     "name": "stderr",
     "output_type": "stream",
     "text": [
      "\n"
     ]
    },
    {
     "ename": "IndexError",
     "evalue": "list index out of range",
     "output_type": "error",
     "traceback": [
      "\u001b[0;31m---------------------------------------------------------------------------\u001b[0m",
      "\u001b[0;31mIndexError\u001b[0m                                Traceback (most recent call last)",
      "\u001b[0;32m<ipython-input-8-ad72f9372fbd>\u001b[0m in \u001b[0;36m<module>\u001b[0;34m\u001b[0m\n\u001b[1;32m     45\u001b[0m             \u001b[0mcoarse_results\u001b[0m\u001b[0;34m.\u001b[0m\u001b[0mappend\u001b[0m\u001b[0;34m(\u001b[0m\u001b[0mcoarse_detector\u001b[0m\u001b[0;34m.\u001b[0m\u001b[0meval\u001b[0m\u001b[0;34m(\u001b[0m\u001b[0mcoarse_val\u001b[0m\u001b[0;34m)\u001b[0m\u001b[0;34m)\u001b[0m\u001b[0;34m\u001b[0m\u001b[0;34m\u001b[0m\u001b[0m\n\u001b[1;32m     46\u001b[0m \u001b[0;34m\u001b[0m\u001b[0m\n\u001b[0;32m---> 47\u001b[0;31m         \u001b[0mmap50\u001b[0m \u001b[0;34m=\u001b[0m \u001b[0mcompute_map\u001b[0m\u001b[0;34m(\u001b[0m\u001b[0mfine_results\u001b[0m\u001b[0;34m,\u001b[0m \u001b[0mcoarse_results\u001b[0m\u001b[0;34m)\u001b[0m\u001b[0;34m\u001b[0m\u001b[0;34m\u001b[0m\u001b[0m\n\u001b[0m\u001b[1;32m     48\u001b[0m         \u001b[0mprint\u001b[0m\u001b[0;34m(\u001b[0m\u001b[0;34m'MAP: \\n'\u001b[0m\u001b[0;34m,\u001b[0m \u001b[0mmap50\u001b[0m \u001b[0;34m)\u001b[0m\u001b[0;34m\u001b[0m\u001b[0;34m\u001b[0m\u001b[0m\n\u001b[1;32m     49\u001b[0m \u001b[0;34m\u001b[0m\u001b[0m\n",
      "\u001b[0;32m~/SAR/SAR_OD/SAROD-main/utils.py\u001b[0m in \u001b[0;36mcompute_map\u001b[0;34m(fine_result, coarse_result)\u001b[0m\n\u001b[1;32m    327\u001b[0m     \u001b[0;32mif\u001b[0m \u001b[0mlen\u001b[0m\u001b[0;34m(\u001b[0m\u001b[0mfine_result\u001b[0m\u001b[0;34m)\u001b[0m \u001b[0;34m>\u001b[0m \u001b[0;36m0\u001b[0m\u001b[0;34m:\u001b[0m\u001b[0;34m\u001b[0m\u001b[0;34m\u001b[0m\u001b[0m\n\u001b[1;32m    328\u001b[0m         \u001b[0;32mfor\u001b[0m \u001b[0mresult\u001b[0m \u001b[0;32min\u001b[0m \u001b[0mfine_result\u001b[0m\u001b[0;34m:\u001b[0m\u001b[0;34m\u001b[0m\u001b[0;34m\u001b[0m\u001b[0m\n\u001b[0;32m--> 329\u001b[0;31m             \u001b[0mfinal_stats\u001b[0m\u001b[0;34m.\u001b[0m\u001b[0mappend\u001b[0m\u001b[0;34m(\u001b[0m\u001b[0mresult\u001b[0m\u001b[0;34m[\u001b[0m\u001b[0;36m6\u001b[0m\u001b[0;34m]\u001b[0m\u001b[0;34m)\u001b[0m\u001b[0;34m\u001b[0m\u001b[0;34m\u001b[0m\u001b[0m\n\u001b[0m\u001b[1;32m    330\u001b[0m \u001b[0;34m\u001b[0m\u001b[0m\n\u001b[1;32m    331\u001b[0m     \u001b[0;32mif\u001b[0m \u001b[0mlen\u001b[0m\u001b[0;34m(\u001b[0m\u001b[0mcoarse_result\u001b[0m\u001b[0;34m)\u001b[0m \u001b[0;34m>\u001b[0m \u001b[0;36m0\u001b[0m\u001b[0;34m:\u001b[0m\u001b[0;34m\u001b[0m\u001b[0;34m\u001b[0m\u001b[0m\n",
      "\u001b[0;31mIndexError\u001b[0m: list index out of range"
     ]
    }
   ],
   "source": [
    "for e in range(epochs):\n",
    "    train_imgs = load_filenames(split_train_path, split, bs).files_array()\n",
    "    fine_train_dataset = load_dataset(train_imgs, fine_tr, bs)\n",
    "    coarse_train_dataset = load_dataset(train_imgs, fine_tr, bs)\n",
    "\n",
    "    fine_train_loader = load_dataloader(bs, fine_train_dataset)\n",
    "    coarse_train_loader = load_dataloader(bs, coarse_train_dataset)\n",
    "\n",
    "    fine_train_nb = len(fine_train_loader)\n",
    "    coarse_train_nb = len(coarse_train_loader)\n",
    "    assert fine_train_nb == coarse_train_nb, 'fine & coarse train batch number is not matched'\n",
    "    nb = fine_train_nb\n",
    "\n",
    "    for i, (fine_train, coarse_train) in tqdm.tqdm(enumerate(zip(fine_train_loader, coarse_train_loader)),\n",
    "                                                   total=fine_train_nb):\n",
    "        fine_detector.train(e, i, nb, fine_train_dataset, fine_train)\n",
    "        coarse_detector.train(e, i, nb, coarse_train_dataset, coarse_train)\n",
    "\n",
    "        # result = (source_path, paths[si], mp, mr, map50, nl, stats)\n",
    "        fine_results = fine_detector.eval(fine_train)\n",
    "        coarse_results = coarse_detector.eval(coarse_train)\n",
    "\n",
    "        rl_agent.train(e, i, nb, fine_results, coarse_results)\n",
    "        \n",
    "        break\n",
    "        \n",
    "    # Validation\n",
    "    if e % 10 == 0:\n",
    "        fine_dataset, coarse_dataset, policies = rl_agent.eval(split_val_path, original_img_path)\n",
    "\n",
    "        fine_val_dataset = load_dataset(fine_dataset, fine_tr, bs)\n",
    "        coarse_val_dataset = load_dataset(coarse_dataset, fine_tr, bs)\n",
    "\n",
    "        fine_val_loader = load_dataloader(bs, fine_val_dataset)\n",
    "        coarse_val_loader = load_dataloader(bs, coarse_val_dataset)\n",
    "\n",
    "        fine_nb = len(fine_val_loader)\n",
    "        coarse_nb = len(coarse_train_loader)\n",
    "\n",
    "        fine_results, coarse_results = [], []\n",
    "        for i, fine_val in tqdm.tqdm(enumerate(fine_val_loader), total=fine_nb):\n",
    "            fine_results.append(fine_detector.eval(fine_val))\n",
    "\n",
    "        for i, coarse_val in tqdm.tqdm(enumerate(coarse_val_loader), total=coarse_nb):\n",
    "            coarse_results.append(coarse_detector.eval(coarse_val))\n",
    "\n",
    "        map50 = compute_map(fine_results, coarse_results)\n",
    "        print('MAP: \\n', map50 )\n",
    "\n"
   ]
  },
  {
   "cell_type": "code",
   "execution_count": null,
   "metadata": {},
   "outputs": [],
   "source": [
    "# inf_out: (1, 14175, 6)\n",
    "# train_out: list ( ,6)"
   ]
  },
  {
   "cell_type": "code",
   "execution_count": null,
   "metadata": {},
   "outputs": [],
   "source": [
    "# dataset length 4 (img, target, path, info)\n",
    "fine_train[0].shape"
   ]
  },
  {
   "cell_type": "code",
   "execution_count": null,
   "metadata": {},
   "outputs": [],
   "source": [
    "fine_train[1]"
   ]
  },
  {
   "cell_type": "code",
   "execution_count": null,
   "metadata": {},
   "outputs": [],
   "source": [
    "fine_train[3]"
   ]
  },
  {
   "cell_type": "code",
   "execution_count": null,
   "metadata": {},
   "outputs": [],
   "source": [
    "import torchvision\n",
    "from torchvision.models.detection.faster_rcnn import FastRCNNPredictor\n",
    "\n",
    "# load a model pre-trained pre-trained on COCO\n",
    "model = torchvision.models.detection.fasterrcnn_resnet50_fpn(pretrained=False)\n",
    "\n",
    "# # replace the classifier with a new one, that has\n",
    "# # num_classes which is user-defined\n",
    "num_classes = 1  # 1 class (person) + background\n",
    "# # get number of input features for the classifier\n",
    "in_features = model.roi_heads.box_predictor.cls_score.in_features\n",
    "# # replace the pre-trained head with a new one\n",
    "model.roi_heads.box_predictor = FastRCNNPredictor(in_features, num_classes)\n"
   ]
  },
  {
   "cell_type": "code",
   "execution_count": null,
   "metadata": {},
   "outputs": [],
   "source": [
    "model.forward(fine_train[0], fine_train[1][:,:])"
   ]
  },
  {
   "cell_type": "code",
   "execution_count": null,
   "metadata": {},
   "outputs": [],
   "source": [
    "def yolo2coco(tensor, org_res):\n",
    "    # cx, cy, w, y --> x0, y0, y1, y2\n",
    "    w, h = tensor[2]/2, tensor[3]/2\n",
    "    x0, x1 = int((tensor[0]-w)*org_res), int((tensor[0]+w)*org_res)\n",
    "    y0, y1 = int((tensor[1]-h)*org_res), int((tensor[1]+h)*org_res)\n",
    "    return torch.Tensor([x0, y0, x1, y1]).unsqueeze(0)\n",
    "\n",
    "def convert_yolo2coco(targets, org_res=479):\n",
    "    # (img_id, cls, bb4)\n",
    "    res = []\n",
    "    for target in targets:\n",
    "        dummy_dict = {}\n",
    "        dummy_dict['image_id'] = torch.Tensor((target[0],)).type(torch.int64).cuda()\n",
    "        dummy_dict['labels'] = torch.Tensor((target[1],)).type(torch.int64).cuda()\n",
    "        dummy_dict['boxes'] = yolo2coco(target[2:], org_res).cuda()\n",
    "        res.append(dummy_dict)\n",
    "    return res\n",
    "    "
   ]
  },
  {
   "cell_type": "code",
   "execution_count": null,
   "metadata": {},
   "outputs": [],
   "source": [
    "new_t = convert_yolo2coco(fine_train[1])"
   ]
  },
  {
   "cell_type": "code",
   "execution_count": null,
   "metadata": {
    "scrolled": true
   },
   "outputs": [],
   "source": [
    "model.cuda()"
   ]
  },
  {
   "cell_type": "code",
   "execution_count": null,
   "metadata": {},
   "outputs": [],
   "source": [
    "model((fine_train[0]/255.).cuda()[:5], new_t[:5])"
   ]
  },
  {
   "cell_type": "code",
   "execution_count": null,
   "metadata": {},
   "outputs": [],
   "source": [
    "new_t[0]['image_id']"
   ]
  },
  {
   "cell_type": "code",
   "execution_count": null,
   "metadata": {},
   "outputs": [],
   "source": [
    "(fine_train[0]/255.)[:5].shape"
   ]
  },
  {
   "cell_type": "code",
   "execution_count": null,
   "metadata": {},
   "outputs": [],
   "source": [
    "len(new_t[:5])"
   ]
  },
  {
   "cell_type": "code",
   "execution_count": null,
   "metadata": {},
   "outputs": [],
   "source": []
  }
 ],
 "metadata": {
  "kernelspec": {
   "display_name": "Python 3",
   "language": "python",
   "name": "python3"
  },
  "language_info": {
   "codemirror_mode": {
    "name": "ipython",
    "version": 3
   },
   "file_extension": ".py",
   "mimetype": "text/x-python",
   "name": "python",
   "nbconvert_exporter": "python",
   "pygments_lexer": "ipython3",
   "version": "3.7.6"
  }
 },
 "nbformat": 4,
 "nbformat_minor": 4
}
