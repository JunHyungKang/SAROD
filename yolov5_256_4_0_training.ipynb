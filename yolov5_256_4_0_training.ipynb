{
 "cells": [
  {
   "cell_type": "code",
   "execution_count": null,
   "metadata": {},
   "outputs": [],
   "source": [
    "!python train.py \\\n",
    "--epochs 100 \\\n",
    "--batch_size 40 \\\n",
    "--RL_batch_size 80 \\\n",
    "--device 0 \\\n",
    "--test_epoch 2 \\\n",
    "--eval_epoch 1 \\\n",
    "--split 4 \\\n",
    "--split_format '__1__0___0' '__1__0___128' '__1__128___0' '__1__128___128' \\\n",
    "--split_train_path '/home/SSDD/ICIP21_dataset/256_SAR/split_data_4_0/rl_ver/train/images' \\\n",
    "--split_val_path '/home/SSDD/ICIP21_dataset/256_SAR/split_data_4_0/rl_ver/val/images' \\\n",
    "--split_test_path '/home/SSDD/ICIP21_dataset/256_SAR/split_data_4_0/rl_ver/test/images' \\\n",
    "--original_img_path_train '/home/SSDD/ICIP21_dataset/256_SAR/origin_data/rl_ver/train/images' \\\n",
    "--original_img_path_val '/home/SSDD/ICIP21_dataset/256_SAR/origin_data/rl_ver/val/images' \\\n",
    "--original_img_path_test '/home/SSDD/ICIP21_dataset256_SAR/origin_data/rl_ver/test/images' \\\n",
    "--fine_img_size 480 \\\n",
    "--coarse_img_size 96 \\\n",
    "--model yolov5 \\\n",
    "--RL_train_start_epoch 0 \\\n",
    "--save_path yolo_256_4_0"
   ]
  },
  {
   "cell_type": "code",
   "execution_count": null,
   "metadata": {},
   "outputs": [],
   "source": []
  }
 ],
 "metadata": {
  "kernelspec": {
   "display_name": "Python 3",
   "language": "python",
   "name": "python3"
  },
  "language_info": {
   "codemirror_mode": {
    "name": "ipython",
    "version": 2
   },
   "file_extension": ".py",
   "mimetype": "text/x-python",
   "name": "python",
   "nbconvert_exporter": "python",
   "pygments_lexer": "ipython2",
   "version": "2.7.12"
  }
 },
 "nbformat": 4,
 "nbformat_minor": 2
}
