{
 "cells": [
  {
   "cell_type": "code",
   "execution_count": null,
   "metadata": {},
   "outputs": [
    {
     "name": "stdout",
     "output_type": "stream",
     "text": [
      "GPU device  True\n",
      "GPU device for EfficientOD:  True\n",
      "Scanning labels /home/SSDD/ICIP21_dataset/256_SAR/split_data_4_0/rl_ver/train/la\n",
      "Scanning labels /home/SSDD/ICIP21_dataset/256_SAR/split_data_4_0/rl_ver/train/la\n",
      "Starting training for 0 epochs...\n",
      "Fine Epoch: [0]  [  0/408]  lr: 0.000017  loss: 2.4252 (2.4252)  loss_classifier: 1.6596 (1.6596)  loss_box_reg: 0.0316 (0.0316)  loss_objectness: 0.6735 (0.6735)  loss_rpn_box_reg: 0.0605 (0.0605)\n",
      "Coarse Epoch: [0]  [  0/408]  lr: 0.000017  loss: 2.1516 (2.1516)  loss_classifier: 1.3955 (1.3955)  loss_box_reg: 0.0210 (0.0210)  loss_objectness: 0.6973 (0.6973)  loss_rpn_box_reg: 0.0378 (0.0378)\n"
     ]
    }
   ],
   "source": [
    "!python train.py \\\n",
    "--epochs 200 \\\n",
    "--batch_size 60 \\\n",
    "--device 2 \\\n",
    "--test_epoch 10 \\\n",
    "--eval_epoch 1 \\\n",
    "--split 4 \\\n",
    "--split_train_path '/home/SSDD/ICIP21_dataset/256_SAR/split_data_4_0/rl_ver/train/images' \\\n",
    "--split_val_path '/home/SSDD/ICIP21_dataset/256_SAR/split_data_4_0/rl_ver/val/images' \\\n",
    "--split_test_path '/home/SSDD/ICIP21_dataset/256_SAR/split_data_4_0/rl_ver/test/images' \\\n",
    "--original_img_path_train '/home/SSDD/ICIP21_dataset/256_SAR/origin_data/rl_ver/train/images' \\\n",
    "--original_img_path_val '/home/SSDD/ICIP21_dataset/256_SAR/origin_data/rl_ver/val/images' \\\n",
    "--original_img_path_test '/home/SSDD/ICIP21_dataset/256_SAR/origin_data/rl_ver/test/images' \\\n",
    "--model faster_rcnn"
   ]
  },
  {
   "cell_type": "code",
   "execution_count": null,
   "metadata": {},
   "outputs": [],
   "source": []
  }
 ],
 "metadata": {
  "kernelspec": {
   "display_name": "Python 3",
   "language": "python",
   "name": "python3"
  },
  "language_info": {
   "codemirror_mode": {
    "name": "ipython",
    "version": 2
   },
   "file_extension": ".py",
   "mimetype": "text/x-python",
   "name": "python",
   "nbconvert_exporter": "python",
   "pygments_lexer": "ipython2",
   "version": "2.7.12"
  }
 },
 "nbformat": 4,
 "nbformat_minor": 2
}
