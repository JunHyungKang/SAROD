{
 "cells": [
  {
   "cell_type": "code",
   "execution_count": 9,
   "metadata": {},
   "outputs": [
    {
     "name": "stdout",
     "output_type": "stream",
     "text": [
      "/bin/sh: 1: Syntax error: \"(\" unexpected\r\n"
     ]
    }
   ],
   "source": [
    "!python train.py \\\n",
    "--epochs 200 \\\n",
    "--batch_size 40 \\\n",
    "--device 0 \\\n",
    "--test_epoch 10 \\\n",
    "--eval_epoch 1 \\\n",
    "--split 4 \\\n",
    "--split_train_path '/home/SSDD/ICIP21_dataset/800_HRSID/split_data_4_0/rl_ver/train/images' \\\n",
    "--split_val_path '/home/SSDD/ICIP21_dataset/800_HRSID/split_data_4_0/rl_ver/train/images' \\\n",
    "--split_test_path '/home/SSDD/ICIP21_dataset/800_HRSID/split_data_4_0/rl_ver/train/images' \\\n",
    "--original_img_path_train '/home/SSDD/ICIP21_dataset/800_HRSID/origin_data/rl_ver/train/images' \\\n",
    "--original_img_path_val '/home/SSDD/ICIP21_dataset/800_HRSID/origin_data/rl_ver/val/images' \\\n",
    "--original_img_path_test '/home/SSDD/ICIP21_dataset/800_HRSID/origin_data/rl_ver/test/images'"
   ]
  },
  {
   "cell_type": "code",
   "execution_count": null,
   "metadata": {},
   "outputs": [],
   "source": []
  }
 ],
 "metadata": {
  "kernelspec": {
   "display_name": "Python 3",
   "language": "python",
   "name": "python3"
  },
  "language_info": {
   "codemirror_mode": {
    "name": "ipython",
    "version": 2
   },
   "file_extension": ".py",
   "mimetype": "text/x-python",
   "name": "python",
   "nbconvert_exporter": "python",
   "pygments_lexer": "ipython2",
   "version": "2.7.12"
  }
 },
 "nbformat": 4,
 "nbformat_minor": 2
}
