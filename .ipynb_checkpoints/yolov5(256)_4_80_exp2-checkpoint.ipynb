{
 "cells": [
  {
   "cell_type": "code",
   "execution_count": null,
   "metadata": {},
   "outputs": [
    {
     "name": "stdout",
     "output_type": "stream",
     "text": [
      "\n",
      "                 from  n    params  module                                  arguments                     \n",
      "  0                -1  1      8800  yolov5.models.common.Focus              [3, 80, 3]                    \n",
      "  1                -1  1    115520  yolov5.models.common.Conv               [80, 160, 3, 2]               \n",
      "  2                -1  1    315680  yolov5.models.common.BottleneckCSP      [160, 160, 4]                 \n",
      "  3                -1  1    461440  yolov5.models.common.Conv               [160, 320, 3, 2]              \n",
      "  4                -1  1   3311680  yolov5.models.common.BottleneckCSP      [320, 320, 12]                \n",
      "  5                -1  1   1844480  yolov5.models.common.Conv               [320, 640, 3, 2]              \n",
      "  6                -1  1  13228160  yolov5.models.common.BottleneckCSP      [640, 640, 12]                \n",
      "  7                -1  1   7375360  yolov5.models.common.Conv               [640, 1280, 3, 2]             \n",
      "  8                -1  1   4099840  yolov5.models.common.SPP                [1280, 1280, [5, 9, 13]]      \n",
      "  9                -1  1  20087040  yolov5.models.common.BottleneckCSP      [1280, 1280, 4, False]        \n",
      " 10                -1  1    820480  yolov5.models.common.Conv               [1280, 640, 1, 1]             \n",
      " 11                -1  1         0  torch.nn.modules.upsampling.Upsample    [None, 2, 'nearest']          \n",
      " 12           [-1, 6]  1         0  yolov5.models.common.Concat             [1]                           \n",
      " 13                -1  1   5435520  yolov5.models.common.BottleneckCSP      [1280, 640, 4, False]         \n",
      " 14                -1  1    205440  yolov5.models.common.Conv               [640, 320, 1, 1]              \n",
      " 15                -1  1         0  torch.nn.modules.upsampling.Upsample    [None, 2, 'nearest']          \n",
      " 16           [-1, 4]  1         0  yolov5.models.common.Concat             [1]                           \n",
      " 17                -1  1   1360960  yolov5.models.common.BottleneckCSP      [640, 320, 4, False]          \n",
      " 18                -1  1    922240  yolov5.models.common.Conv               [320, 320, 3, 2]              \n",
      " 19          [-1, 14]  1         0  yolov5.models.common.Concat             [1]                           \n",
      " 20                -1  1   5025920  yolov5.models.common.BottleneckCSP      [640, 640, 4, False]          \n",
      " 21                -1  1   3687680  yolov5.models.common.Conv               [640, 640, 3, 2]              \n",
      " 22          [-1, 10]  1         0  yolov5.models.common.Concat             [1]                           \n",
      " 23                -1  1  20087040  yolov5.models.common.BottleneckCSP      [1280, 1280, 4, False]        \n",
      " 24      [17, 20, 23]  1     40374  yolov5.models.yolo.Detect               [1, [[10, 13, 16, 30, 33, 23], [30, 61, 62, 45, 59, 119], [116, 90, 156, 198, 373, 326]], [320, 640, 1280]]\n",
      "\n",
      "Optimizer groups: 134 .bias, 142 conv.weight, 131 other\n",
      "\n",
      "                 from  n    params  module                                  arguments                     \n",
      "  0                -1  1      8800  yolov5.models.common.Focus              [3, 80, 3]                    \n",
      "  1                -1  1    115520  yolov5.models.common.Conv               [80, 160, 3, 2]               \n",
      "  2                -1  1    315680  yolov5.models.common.BottleneckCSP      [160, 160, 4]                 \n",
      "  3                -1  1    461440  yolov5.models.common.Conv               [160, 320, 3, 2]              \n",
      "  4                -1  1   3311680  yolov5.models.common.BottleneckCSP      [320, 320, 12]                \n",
      "  5                -1  1   1844480  yolov5.models.common.Conv               [320, 640, 3, 2]              \n",
      "  6                -1  1  13228160  yolov5.models.common.BottleneckCSP      [640, 640, 12]                \n",
      "  7                -1  1   7375360  yolov5.models.common.Conv               [640, 1280, 3, 2]             \n",
      "  8                -1  1   4099840  yolov5.models.common.SPP                [1280, 1280, [5, 9, 13]]      \n",
      "  9                -1  1  20087040  yolov5.models.common.BottleneckCSP      [1280, 1280, 4, False]        \n",
      " 10                -1  1    820480  yolov5.models.common.Conv               [1280, 640, 1, 1]             \n",
      " 11                -1  1         0  torch.nn.modules.upsampling.Upsample    [None, 2, 'nearest']          \n",
      " 12           [-1, 6]  1         0  yolov5.models.common.Concat             [1]                           \n",
      " 13                -1  1   5435520  yolov5.models.common.BottleneckCSP      [1280, 640, 4, False]         \n",
      " 14                -1  1    205440  yolov5.models.common.Conv               [640, 320, 1, 1]              \n",
      " 15                -1  1         0  torch.nn.modules.upsampling.Upsample    [None, 2, 'nearest']          \n",
      " 16           [-1, 4]  1         0  yolov5.models.common.Concat             [1]                           \n",
      " 17                -1  1   1360960  yolov5.models.common.BottleneckCSP      [640, 320, 4, False]          \n",
      " 18                -1  1    922240  yolov5.models.common.Conv               [320, 320, 3, 2]              \n",
      " 19          [-1, 14]  1         0  yolov5.models.common.Concat             [1]                           \n",
      " 20                -1  1   5025920  yolov5.models.common.BottleneckCSP      [640, 640, 4, False]          \n",
      " 21                -1  1   3687680  yolov5.models.common.Conv               [640, 640, 3, 2]              \n",
      " 22          [-1, 10]  1         0  yolov5.models.common.Concat             [1]                           \n",
      " 23                -1  1  20087040  yolov5.models.common.BottleneckCSP      [1280, 1280, 4, False]        \n",
      " 24      [17, 20, 23]  1     40374  yolov5.models.yolo.Detect               [1, [[10, 13, 16, 30, 33, 23], [30, 61, 62, 45, 59, 119], [116, 90, 156, 198, 373, 326]], [320, 640, 1280]]\n",
      "\n",
      "Optimizer groups: 134 .bias, 142 conv.weight, 131 other\n",
      "GPU device for EfficientOD:  True\n",
      "Scanning labels /home/SSDD/ICIP21_dataset/800_HRSID/split_data_4_0/rl_ver/train/\n",
      "Scanning labels /home/SSDD/ICIP21_dataset/800_HRSID/split_data_4_0/rl_ver/train/\n",
      "Starting training for 0 epochs...\n",
      " 12%|████▉                                     | 34/291 [04:06<29:14,  6.83s/it]"
     ]
    }
   ],
   "source": [
    "!python train.py \\\n",
    "--epochs 200 \\\n",
    "--batch_size 40 \\\n",
    "--device 0 \\\n",
    "--test_epoch 10 \\\n",
    "--eval_epoch 1 \\\n",
    "--split 4 \\\n",
    "--split_train_path '/home/SSDD/ICIP21_dataset/800_HRSID/split_data_4_0/rl_ver/train/images' \\\n",
    "--split_val_path '/home/SSDD/ICIP21_dataset/800_HRSID/split_data_4_0/rl_ver/val/images' \\\n",
    "--split_test_path '/home/SSDD/ICIP21_dataset/800_HRSID/split_data_4_0/rl_ver/test/images' \\\n",
    "--original_img_path_train '/home/SSDD/ICIP21_dataset/800_HRSID/origin_data/rl_ver/train/images' \\\n",
    "--original_img_path_val '/home/SSDD/ICIP21_dataset/800_HRSID/origin_data/rl_ver/val/images' \\\n",
    "--original_img_path_test '/home/SSDD/ICIP21_dataset/800_HRSID/origin_data/rl_ver/test/images'"
   ]
  },
  {
   "cell_type": "code",
   "execution_count": null,
   "metadata": {},
   "outputs": [],
   "source": []
  }
 ],
 "metadata": {
  "kernelspec": {
   "display_name": "Python 3",
   "language": "python",
   "name": "python3"
  },
  "language_info": {
   "codemirror_mode": {
    "name": "ipython",
    "version": 2
   },
   "file_extension": ".py",
   "mimetype": "text/x-python",
   "name": "python",
   "nbconvert_exporter": "python",
   "pygments_lexer": "ipython2",
   "version": "2.7.12"
  }
 },
 "nbformat": 4,
 "nbformat_minor": 2
}
